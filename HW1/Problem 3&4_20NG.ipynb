{
 "cells": [
  {
   "cell_type": "code",
   "execution_count": 47,
   "metadata": {},
   "outputs": [],
   "source": [
    "from sklearn.datasets import fetch_20newsgroups\n",
    "\n",
    "twenty_train = fetch_20newsgroups(subset='all',shuffle=True, random_state=42)"
   ]
  },
  {
   "cell_type": "code",
   "execution_count": 48,
   "metadata": {},
   "outputs": [],
   "source": [
    "newsgroups=twenty_train"
   ]
  },
  {
   "cell_type": "code",
   "execution_count": 49,
   "metadata": {},
   "outputs": [],
   "source": [
    "from sklearn.feature_extraction.text import TfidfVectorizer\n",
    "vectorizer = TfidfVectorizer()\n",
    "vectors = vectorizer.fit_transform(newsgroups.data)"
   ]
  },
  {
   "cell_type": "code",
   "execution_count": 50,
   "metadata": {},
   "outputs": [],
   "source": [
    "from sklearn.metrics.pairwise import cosine_similarity\n",
    "cosine_similarity_result = cosine_similarity(vectors)"
   ]
  },
  {
   "cell_type": "code",
   "execution_count": 53,
   "metadata": {},
   "outputs": [],
   "source": [
    "from sklearn.metrics.pairwise import euclidean_distances\n",
    "euclidean_distances_result = euclidean_distances(vectors)"
   ]
  },
  {
   "cell_type": "code",
   "execution_count": 44,
   "metadata": {},
   "outputs": [
    {
     "name": "stdout",
     "output_type": "stream",
     "text": [
      "[[0.         1.38640872 1.33914378 ... 1.38528237 1.38873026 1.3634162 ]\n",
      " [1.38640872 0.         1.38881743 ... 1.4047104  1.39333391 1.38272563]\n",
      " [1.33914378 1.38881743 0.         ... 1.36707034 1.37511363 1.3342936 ]\n",
      " ...\n",
      " [1.38528237 1.4047104  1.36707034 ... 0.         1.39333323 1.35169863]\n",
      " [1.38873026 1.39333391 1.37511363 ... 1.39333323 0.         1.37341324]\n",
      " [1.3634162  1.38272563 1.3342936  ... 1.35169863 1.37341324 0.        ]]\n"
     ]
    }
   ],
   "source": [
    "print(euclidean_distances_result)"
   ]
  },
  {
   "cell_type": "code",
   "execution_count": null,
   "metadata": {},
   "outputs": [],
   "source": [
    "#################20 NG KNN###############"
   ]
  },
  {
   "cell_type": "code",
   "execution_count": 3,
   "metadata": {},
   "outputs": [],
   "source": [
    "from sklearn.datasets import fetch_20newsgroups\n",
    "train_20newsgroups = fetch_20newsgroups(subset='train',shuffle=True, random_state=42)\n",
    "test_20newsgroups =  fetch_20newsgroups(subset='test',shuffle=True, random_state=42)"
   ]
  },
  {
   "cell_type": "code",
   "execution_count": 6,
   "metadata": {},
   "outputs": [],
   "source": [
    "from sklearn.feature_extraction.text import TfidfVectorizer\n",
    "from sklearn.metrics.pairwise import cosine_similarity\n",
    "\n",
    "vectorizer = TfidfVectorizer()\n",
    "vectors_train_20newsgroups = vectorizer.fit_transform(train_20newsgroups.data)\n",
    "vocab = vectorizer.get_feature_names()\n",
    "vectorizer2=TfidfVectorizer(vocabulary=vocab)\n",
    "vectors_test_20newsgroups = vectorizer2.fit_transform(test_20newsgroups.data)\n",
    "similarity_20news = cosine_similarity(vectors_test_20newsgroups,vectors_train_20newsgroups)"
   ]
  },
  {
   "cell_type": "code",
   "execution_count": 26,
   "metadata": {},
   "outputs": [
    {
     "name": "stdout",
     "output_type": "stream",
     "text": [
      "7532\n",
      "67.57833244822092\n"
     ]
    }
   ],
   "source": [
    "### iterate through  esultant similarity_20news matrix and fetch the top most target\n",
    "from collections import Counter\n",
    "from sklearn.metrics import accuracy_score\n",
    "import numpy\n",
    "\n",
    "k=5\n",
    "\n",
    "predictions = []\n",
    "for i in range(vectors_test_20newsgroups.shape[0]):\n",
    "    neighbors = []\n",
    "    targets = []\n",
    "    neighbors = numpy.argsort(-similarity_20news[i])\n",
    "    for p in range(k):\n",
    "        index = neighbors[p]\n",
    "        targets.append(train_20newsgroups.target[index])\n",
    "    predictions.append(Counter(targets).most_common(1)[0][0])\n",
    "print(len(predictions))\n",
    "print(accuracy_score(test_20newsgroups.target,numpy.asarray(predictions))*100)    "
   ]
  },
  {
   "cell_type": "code",
   "execution_count": 25,
   "metadata": {},
   "outputs": [],
   "source": [
    "def find_k_nearest_neighbours(idx, k, similarity_matrix):\n",
    "    t=[]\n",
    "    neighbhors_idx = numpy.argsort(-similarity_matrix[idx])\n",
    "    for p in range(k):\n",
    "        index = neighbhors_idx[p]\n",
    "        #print(neighbhors_idx[p])\n",
    "        t.append(train_20newsgroups.target_names[train_20newsgroups.target[index]])\n",
    "        #print(Counter(t))\n",
    "        print(train_20newsgroups.target_names[train_20newsgroups.target[index]])\n",
    "    \n",
    "        \n",
    "        \n",
    "        "
   ]
  },
  {
   "cell_type": "code",
   "execution_count": 35,
   "metadata": {},
   "outputs": [
    {
     "name": "stdout",
     "output_type": "stream",
     "text": [
      "comp.sys.mac.hardware\n"
     ]
    }
   ],
   "source": [
    "print(train_20newsgroups.target_names[train_20newsgroups.target[990]])"
   ]
  },
  {
   "cell_type": "code",
   "execution_count": 34,
   "metadata": {},
   "outputs": [
    {
     "name": "stdout",
     "output_type": "stream",
     "text": [
      "comp.sys.mac.hardware\n",
      "comp.sys.mac.hardware\n",
      "comp.sys.mac.hardware\n",
      "comp.sys.mac.hardware\n",
      "comp.sys.mac.hardware\n"
     ]
    }
   ],
   "source": [
    "find_k_nearest_neighbours(990,5,similarity_20news)"
   ]
  },
  {
   "cell_type": "code",
   "execution_count": 12,
   "metadata": {},
   "outputs": [],
   "source": [
    "from sklearn.metrics.pairwise import euclidean_distances\n",
    "similarity_ED = euclidean_distances(vectors_test_20newsgroups,vectors_train_20newsgroups)"
   ]
  },
  {
   "cell_type": "code",
   "execution_count": 14,
   "metadata": {},
   "outputs": [
    {
     "name": "stdout",
     "output_type": "stream",
     "text": [
      "67.57833244822092\n"
     ]
    }
   ],
   "source": [
    "#### KNN on euclidean distance\n",
    "from collections import Counter\n",
    "from sklearn.metrics import accuracy_score\n",
    "k=5\n",
    "\n",
    "predictions = []\n",
    "for i in range(vectors_test_20newsgroups.shape[0]):\n",
    "    neighbors = []\n",
    "    targets = []\n",
    "    neighbors = numpy.argsort(similarity_ED[i])\n",
    "    for p in range(k):\n",
    "        index = neighbors[p]\n",
    "        targets.append(train_20newsgroups.target[index])\n",
    "    predictions.append(Counter(targets).most_common(1)[0][0])\n",
    "print(accuracy_score(test_20newsgroups.target,numpy.asarray(predictions))*100) "
   ]
  },
  {
   "cell_type": "code",
   "execution_count": null,
   "metadata": {},
   "outputs": [],
   "source": []
  },
  {
   "cell_type": "code",
   "execution_count": 255,
   "metadata": {},
   "outputs": [
    {
     "data": {
      "text/plain": [
       "array([[1.35178943, 1.39016632, 1.31811783, ..., 1.3819702 , 1.37789075,\n",
       "        1.4009934 ],\n",
       "       [1.38789265, 1.39415195, 1.36577181, ..., 1.40198461, 1.38900802,\n",
       "        1.38983053],\n",
       "       [1.40059203, 1.40401556, 1.38305367, ..., 1.39892692, 1.38630761,\n",
       "        1.40881364],\n",
       "       ...,\n",
       "       [1.34709366, 1.38388594, 1.33565396, ..., 1.37566362, 1.37389282,\n",
       "        1.39386309],\n",
       "       [1.37483722, 1.37010077, 1.37004049, ..., 1.3990198 , 1.38832833,\n",
       "        1.40300334],\n",
       "       [1.3672942 , 1.39765285, 1.35397851, ..., 1.38420384, 1.35585538,\n",
       "        1.40775005]])"
      ]
     },
     "execution_count": 255,
     "metadata": {},
     "output_type": "execute_result"
    }
   ],
   "source": [
    "similarity_ED"
   ]
  },
  {
   "cell_type": "code",
   "execution_count": 61,
   "metadata": {},
   "outputs": [
    {
     "data": {
      "text/plain": [
       "(18846, 18846)"
      ]
     },
     "execution_count": 61,
     "metadata": {},
     "output_type": "execute_result"
    }
   ],
   "source": [
    "#cosine similarity shape for problem 3\n",
    "cosine_similarity_result.shape"
   ]
  },
  {
   "cell_type": "code",
   "execution_count": 66,
   "metadata": {},
   "outputs": [
    {
     "name": "stdout",
     "output_type": "stream",
     "text": [
      "test set shape\n",
      "(7532, 130107)\n",
      "train set shape\n",
      "(11314, 130107)\n",
      "similarity matrix test x train\n",
      "(7532, 11314)\n"
     ]
    }
   ],
   "source": [
    "#cosine similarity shape for problem 4\n",
    "print(\"test set shape\")\n",
    "print(vectors_test_20newsgroups.shape)\n",
    "print(\"train set shape\")\n",
    "print(vectors_train_20newsgroups.shape)\n",
    "print(\"similarity matrix test x train\")\n",
    "print(similarity_20news.shape)"
   ]
  },
  {
   "cell_type": "code",
   "execution_count": null,
   "metadata": {},
   "outputs": [],
   "source": []
  },
  {
   "cell_type": "code",
   "execution_count": 51,
   "metadata": {},
   "outputs": [],
   "source": [
    "import numpy as np\n",
    "np.savetxt('consine_mat_20NG', cosine_similarity_result, delimiter=',')"
   ]
  },
  {
   "cell_type": "code",
   "execution_count": 54,
   "metadata": {},
   "outputs": [],
   "source": [
    "np.savetxt('ED_prob3_20NG', euclidean_distances_result, delimiter=',')"
   ]
  },
  {
   "cell_type": "code",
   "execution_count": 55,
   "metadata": {},
   "outputs": [],
   "source": [
    "np.savetxt('consine_prob3_20NG', similarity_20news, delimiter=',')"
   ]
  },
  {
   "cell_type": "code",
   "execution_count": null,
   "metadata": {},
   "outputs": [],
   "source": []
  }
 ],
 "metadata": {
  "kernelspec": {
   "display_name": "Python 3",
   "language": "python",
   "name": "python3"
  },
  "language_info": {
   "codemirror_mode": {
    "name": "ipython",
    "version": 3
   },
   "file_extension": ".py",
   "mimetype": "text/x-python",
   "name": "python",
   "nbconvert_exporter": "python",
   "pygments_lexer": "ipython3",
   "version": "3.6.4"
  }
 },
 "nbformat": 4,
 "nbformat_minor": 2
}
