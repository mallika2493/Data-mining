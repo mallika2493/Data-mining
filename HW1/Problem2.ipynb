{
 "cells": [
  {
   "cell_type": "code",
   "execution_count": 1,
   "metadata": {},
   "outputs": [],
   "source": [
    "#def print_in_format(attributes,data):\n",
    "       \n",
    "        \n",
    "        "
   ]
  },
  {
   "cell_type": "code",
   "execution_count": 4,
   "metadata": {},
   "outputs": [],
   "source": [
    "def convert_to_arff(file_path):\n",
    "    attributes = set()\n",
    "    data = []\n",
    "    with open(file_path, 'r', encoding=\"utf8\") as f:\n",
    "        readFile = f.readlines()\n",
    "        for line in readFile:\n",
    "            line_data = line.strip().split(\" \")\n",
    "            for l in line_data:\n",
    "                attributes.add(int(l))\n",
    "            data.append(sorted(set(map(int, line_data))))\n",
    "            \n",
    "    #print_in_format(sorted(attributes),data)\n",
    "  \n",
    "\n",
    "    attribute_str_start = '@ATTRIBUTE i'\n",
    "    attribute_str_end = ' {0, 1}'\n",
    "    result=\"@RELATION test\\n\"\n",
    "    attribute_str=''\n",
    "    for a in range(min(attributes),max(attributes)+1):\n",
    "        attribute_str=attribute_str_start+ str(a) +attribute_str_end+'\\n'\n",
    "        #print(attribute_str)\n",
    "        result = result+attribute_str\n",
    "    result=result+'@DATA\\n'\n",
    "    \n",
    "    for inner_list in data:\n",
    "        data_str='{'\n",
    "        comma=''\n",
    "        for i in range(0,len(inner_list)):\n",
    "            if i != len(inner_list)-1:\n",
    "                comma=', '\n",
    "            else:comma=''    \n",
    "            data_str=data_str + str((inner_list[i]-1)) + \" 1\"+comma\n",
    "            \n",
    "        data_str=data_str+\"}\\n\"\n",
    "        result=result+data_str\n",
    "    f= open(\"_a_very_small_kosarak.arff\",\"w+\")    \n",
    "    f.write(result)\n",
    "    f.close()\n",
    "    \n",
    "            \n",
    "    "
   ]
  },
  {
   "cell_type": "code",
   "execution_count": 7,
   "metadata": {},
   "outputs": [],
   "source": [
    "convert_to_arff('/Users/mallika2493/Downloads/toy_example_Q2/a_very_small_test.dat')"
   ]
  },
  {
   "cell_type": "code",
   "execution_count": 31,
   "metadata": {},
   "outputs": [],
   "source": []
  },
  {
   "cell_type": "code",
   "execution_count": null,
   "metadata": {},
   "outputs": [],
   "source": []
  },
  {
   "cell_type": "code",
   "execution_count": null,
   "metadata": {},
   "outputs": [],
   "source": []
  }
 ],
 "metadata": {
  "kernelspec": {
   "display_name": "Python 3",
   "language": "python",
   "name": "python3"
  },
  "language_info": {
   "codemirror_mode": {
    "name": "ipython",
    "version": 3
   },
   "file_extension": ".py",
   "mimetype": "text/x-python",
   "name": "python",
   "nbconvert_exporter": "python",
   "pygments_lexer": "ipython3",
   "version": "3.6.4"
  }
 },
 "nbformat": 4,
 "nbformat_minor": 2
}
