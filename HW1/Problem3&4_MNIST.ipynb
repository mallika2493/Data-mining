{
 "cells": [
  {
   "cell_type": "code",
   "execution_count": 3,
   "metadata": {},
   "outputs": [],
   "source": [
    "from sklearn.datasets import fetch_mldata\n",
    "mnist = fetch_mldata('MNIST original')"
   ]
  },
  {
   "cell_type": "code",
   "execution_count": 10,
   "metadata": {},
   "outputs": [],
   "source": [
    "import numpy as np\n",
    "normalized_dataset = np.divide(mnist.data,255)"
   ]
  },
  {
   "cell_type": "code",
   "execution_count": 12,
   "metadata": {},
   "outputs": [],
   "source": [
    "from sklearn.metrics.pairwise import cosine_similarity\n",
    "cosine_similarity_MNIST = cosine_similarity(normalized_dataset)"
   ]
  },
  {
   "cell_type": "code",
   "execution_count": null,
   "metadata": {},
   "outputs": [],
   "source": [
    "### Problem 4"
   ]
  },
  {
   "cell_type": "code",
   "execution_count": 4,
   "metadata": {},
   "outputs": [],
   "source": [
    "from sklearn.model_selection import train_test_split\n",
    "import numpy\n",
    "X_train, X_test, y_train, y_test = train_test_split(mnist.data, mnist.target, test_size=0.20, random_state=42)\n",
    "\n",
    "#y_train = y_train[:,numpy.newaxis]"
   ]
  },
  {
   "cell_type": "code",
   "execution_count": 5,
   "metadata": {},
   "outputs": [],
   "source": [
    "# normalize train and test set\n",
    "import numpy as np\n",
    "train_norm = np.divide(X_train,255)\n",
    "test_norm = np.divide(X_test,255)"
   ]
  },
  {
   "cell_type": "code",
   "execution_count": 6,
   "metadata": {},
   "outputs": [],
   "source": [
    "from sklearn.metrics.pairwise import cosine_similarity\n",
    "cosine_sim_mat = cosine_similarity(test_norm,train_norm)"
   ]
  },
  {
   "cell_type": "code",
   "execution_count": 8,
   "metadata": {},
   "outputs": [],
   "source": [
    "from collections import Counter\n",
    "from sklearn.metrics import accuracy_score\n",
    "import numpy\n",
    "predictions = []\n",
    "def KNN(similarity_matrix,k):\n",
    "    \n",
    "    for i in range(test_norm.shape[0]):\n",
    "        neighbors = []\n",
    "        targets = []\n",
    "        neighbors = numpy.argsort(-similarity_matrix[i])\n",
    "        for p in range(k):\n",
    "            index = neighbors[p]\n",
    "            targets.append(y_train[index])\n",
    "        predictions.append(Counter(targets).most_common(1)[0][0])\n",
    "    \n",
    "    print(accuracy_score(y_test,numpy.asarray(predictions))*100) \n",
    "    "
   ]
  },
  {
   "cell_type": "code",
   "execution_count": 9,
   "metadata": {},
   "outputs": [
    {
     "name": "stdout",
     "output_type": "stream",
     "text": [
      "14000\n",
      "97.8\n"
     ]
    }
   ],
   "source": [
    "KNN(cosine_sim_mat,3)"
   ]
  },
  {
   "cell_type": "code",
   "execution_count": 10,
   "metadata": {},
   "outputs": [],
   "source": [
    "from sklearn.metrics.pairwise import euclidean_distances\n",
    "euclidean_distances_MNIST = euclidean_distances(test_norm,train_norm)"
   ]
  },
  {
   "cell_type": "code",
   "execution_count": 13,
   "metadata": {},
   "outputs": [],
   "source": [
    "from collections import Counter\n",
    "from sklearn.metrics import accuracy_score\n",
    "import numpy\n",
    "predictions = []\n",
    "def KNN_euclidean(similarity_matrix,k):\n",
    "    \n",
    "    for i in range(test_norm.shape[0]):\n",
    "        neighbors = []\n",
    "        targets = []\n",
    "        neighbors = numpy.argsort(similarity_matrix[i])\n",
    "        for p in range(k):\n",
    "            index = neighbors[p]\n",
    "            targets.append(y_train[index])\n",
    "        predictions.append(Counter(targets).most_common(1)[0][0])\n",
    "    \n",
    "    print(accuracy_score(y_test,numpy.asarray(predictions))*100)"
   ]
  },
  {
   "cell_type": "code",
   "execution_count": 14,
   "metadata": {},
   "outputs": [
    {
     "name": "stdout",
     "output_type": "stream",
     "text": [
      "97.39999999999999\n"
     ]
    }
   ],
   "source": [
    "KNN_euclidean(euclidean_distances_MNIST,3)"
   ]
  },
  {
   "cell_type": "code",
   "execution_count": 27,
   "metadata": {},
   "outputs": [],
   "source": [
    "def find_k_nearest_neighbours(idx, k, similarity_matrix):\n",
    "    t=[]\n",
    "    neighbhors_idx = numpy.argsort(-similarity_matrix[idx])\n",
    "    print(\"indices\")\n",
    "    for p in range(k):\n",
    "        index = neighbhors_idx[p]\n",
    "        \n",
    "        print(index)\n",
    "        #print(neighbhors_idx[p])\n",
    "        t.append(y_train[index])\n",
    "        #print(Counter(t))\n",
    "    print(\"categories\")\n",
    "    print(t)\n",
    "    "
   ]
  },
  {
   "cell_type": "code",
   "execution_count": 28,
   "metadata": {},
   "outputs": [
    {
     "name": "stdout",
     "output_type": "stream",
     "text": [
      "indices\n",
      "13593\n",
      "12753\n",
      "22888\n",
      "47147\n",
      "28557\n",
      "categories\n",
      "[4.0, 4.0, 4.0, 4.0, 4.0]\n"
     ]
    }
   ],
   "source": [
    "find_k_nearest_neighbours(10,5,cosine_sim_mat)"
   ]
  },
  {
   "cell_type": "code",
   "execution_count": 30,
   "metadata": {},
   "outputs": [],
   "source": [
    "import numpy as np\n",
    "np.savetxt('4_cosine_MNIST', cosine_sim_mat, delimiter=',')"
   ]
  },
  {
   "cell_type": "code",
   "execution_count": 31,
   "metadata": {},
   "outputs": [],
   "source": [
    "import numpy as np\n",
    "np.savetxt('4_ED_MNIST', euclidean_distances_MNIST, delimiter=',')"
   ]
  },
  {
   "cell_type": "code",
   "execution_count": null,
   "metadata": {},
   "outputs": [],
   "source": [
    "from sklearn.metrics.pairwise import cosine_similarity\n",
    "cosine_similarity_MNIST = cosine_similarity(normalized_dataset)"
   ]
  },
  {
   "cell_type": "code",
   "execution_count": null,
   "metadata": {},
   "outputs": [],
   "source": [
    "np.savetxt('3_cosine_MNIST', cosine_similarity_MNIST, delimiter=',')"
   ]
  },
  {
   "cell_type": "code",
   "execution_count": null,
   "metadata": {},
   "outputs": [],
   "source": [
    "from sklearn.metrics.pairwise import euclidean_distances\n",
    "ED_MNIST = euclidean_distances(normalized_dataset)"
   ]
  },
  {
   "cell_type": "code",
   "execution_count": null,
   "metadata": {},
   "outputs": [],
   "source": [
    "np.savetxt('3_ED_MNIST', ED_MNIST, delimiter=',')"
   ]
  },
  {
   "cell_type": "code",
   "execution_count": 13,
   "metadata": {},
   "outputs": [
    {
     "name": "stdout",
     "output_type": "stream",
     "text": [
      "(70000, 70000)\n"
     ]
    }
   ],
   "source": [
    "#cosine similarity shape for problem 3\n",
    "print(cosine_similarity_MNIST.shape)"
   ]
  },
  {
   "cell_type": "code",
   "execution_count": 8,
   "metadata": {},
   "outputs": [
    {
     "name": "stdout",
     "output_type": "stream",
     "text": [
      "test set shape\n",
      "(14000, 784)\n",
      "train set shape\n",
      "(56000, 784)\n",
      "similarity matrix test x train\n",
      "(14000, 56000)\n"
     ]
    }
   ],
   "source": [
    "#cosine similarity shape for problem 4\n",
    "print(\"test set shape\")\n",
    "print(test_norm.shape)\n",
    "print(\"train set shape\")\n",
    "print(train_norm.shape)\n",
    "print(\"similarity matrix test x train\")\n",
    "print(cosine_sim_mat.shape)"
   ]
  },
  {
   "cell_type": "code",
   "execution_count": null,
   "metadata": {},
   "outputs": [],
   "source": []
  }
 ],
 "metadata": {
  "kernelspec": {
   "display_name": "Python 3",
   "language": "python",
   "name": "python3"
  },
  "language_info": {
   "codemirror_mode": {
    "name": "ipython",
    "version": 3
   },
   "file_extension": ".py",
   "mimetype": "text/x-python",
   "name": "python",
   "nbconvert_exporter": "python",
   "pygments_lexer": "ipython3",
   "version": "3.6.4"
  }
 },
 "nbformat": 4,
 "nbformat_minor": 2
}
