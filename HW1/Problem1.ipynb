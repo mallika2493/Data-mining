{
 "cells": [
  {
   "cell_type": "code",
   "execution_count": 77,
   "metadata": {},
   "outputs": [],
   "source": [
    "import io\n",
    "#\n",
    "#index ---- index id of this paper\n",
    "#* ---- paper title\n",
    "#@ ---- authors (separated by semicolons)\n",
    "#t ---- year\n",
    "#c ---- publication venue\n",
    "#% ---- the id of references of this paper (there are multiple lines, with each indicating a reference)\n",
    "#! ---- abstract\n",
    "index_list = []\n",
    "title_list = []\n",
    "author_list = []\n",
    "year_list = []\n",
    "publication_venue_list = []\n",
    "reference_list = {}\n",
    "title_list_dict = {}\n",
    "def parse():\n",
    "    \n",
    "\n",
    "    with open('/Users/mallika2493/Downloads/AP_train.txt', 'r', encoding=\"utf8\") as f:\n",
    "        readFile = f.readlines()\n",
    "        \n",
    "        for line in readFile:\n",
    "            if line is not None:\n",
    "\n",
    "                new_line = line.split(' ')\n",
    "\n",
    "                if new_line[0] == \"#index\":\n",
    "                    index = line.strip('#index').strip()\n",
    "                    index_list.append(index)\n",
    "                    \n",
    "\n",
    "\n",
    "                if line.startswith('#*'):\n",
    "                    title_list.append(line.strip('#*').strip())\n",
    "                    title_list_dict[index] = line.strip('#*').strip()\n",
    "\n",
    "\n",
    "                if new_line[0] == '#@':\n",
    "                    if new_line[0]!='':\n",
    "                        authors = line.strip('#@').strip().split(';')\n",
    "                        author_list.append(authors)\n",
    "\n",
    "                if new_line[0] == '#t':\n",
    "                    \n",
    "                        year_list.append(line.strip('#t').strip())\n",
    "\n",
    "                if new_line[0] == '#c':\n",
    "\n",
    "                        publication_venue_list.append(line.strip('#c').strip())\n",
    "\n",
    "                if new_line[0] == '#%':\n",
    "                    reference_list.setdefault(index, []).append(line.strip('#%').strip())\n",
    "\n",
    "\n",
    "\n",
    "\n",
    "    print(len(index_list))\n",
    "    print(len(title_list))\n",
    "    print(len(author_list))\n",
    "    print(len(year_list))\n",
    "    print(len(publication_venue_list))\n",
    "    print(len(reference_list))\n",
    "\n",
    "\n",
    "\n",
    "\n"
   ]
  },
  {
   "cell_type": "code",
   "execution_count": 78,
   "metadata": {},
   "outputs": [
    {
     "name": "stdout",
     "output_type": "stream",
     "text": [
      "1976815\n",
      "1976815\n",
      "1976815\n",
      "1976815\n",
      "1976815\n",
      "797454\n"
     ]
    }
   ],
   "source": [
    "parse()"
   ]
  },
  {
   "cell_type": "code",
   "execution_count": 79,
   "metadata": {},
   "outputs": [
    {
     "name": "stdout",
     "output_type": "stream",
     "text": [
      "1483290\n"
     ]
    }
   ],
   "source": [
    "import itertools\n",
    "merged = list(itertools.chain.from_iterable(author_list))\n",
    "print(len(set(merged)))"
   ]
  },
  {
   "cell_type": "code",
   "execution_count": 80,
   "metadata": {},
   "outputs": [
    {
     "name": "stdout",
     "output_type": "stream",
     "text": [
      "255686\n"
     ]
    }
   ],
   "source": [
    "print(len(set(publication_venue_list)))"
   ]
  },
  {
   "cell_type": "code",
   "execution_count": 81,
   "metadata": {},
   "outputs": [
    {
     "name": "stdout",
     "output_type": "stream",
     "text": [
      "1976815\n"
     ]
    }
   ],
   "source": [
    "print(len(set(index_list)))"
   ]
  },
  {
   "cell_type": "code",
   "execution_count": 82,
   "metadata": {},
   "outputs": [
    {
     "name": "stdout",
     "output_type": "stream",
     "text": [
      "7250326\n"
     ]
    }
   ],
   "source": [
    "unique_citations = []\n",
    "for k in reference_list:\n",
    "      for item in reference_list[k]: \n",
    "            unique_citations.append(item)\n",
    "print(len(unique_citations))"
   ]
  },
  {
   "cell_type": "code",
   "execution_count": 84,
   "metadata": {},
   "outputs": [],
   "source": [
    "#---------------C----------------#"
   ]
  },
  {
   "cell_type": "code",
   "execution_count": 85,
   "metadata": {},
   "outputs": [],
   "source": [
    "author_publication = {}\n",
    "index=1\n",
    "for sublist_authors in author_list:\n",
    "    for author in sublist_authors:\n",
    "        author_publication.setdefault(author, []).append(index)\n",
    "        \n",
    "    index=index+1\n",
    "\n",
    "\n"
   ]
  },
  {
   "cell_type": "code",
   "execution_count": 86,
   "metadata": {},
   "outputs": [],
   "source": [
    "author_publication_count = {}\n",
    "\n",
    "for author in author_publication:\n",
    "    if author == '':\n",
    "        continue\n",
    "    author_publication_count[author] = len(author_publication[author])\n",
    "    \n",
    "    \n",
    "    "
   ]
  },
  {
   "cell_type": "code",
   "execution_count": 87,
   "metadata": {},
   "outputs": [
    {
     "data": {
      "image/png": "[encoded data removed]",
      "text/plain": [
       "<matplotlib.figure.Figure at 0x23e20e358>"
      ]
     },
     "metadata": {},
     "output_type": "display_data"
    }
   ],
   "source": [
    "import matplotlib.pyplot as plt\n",
    "\n",
    "plt.hist(list(author_publication_count.values()),bins=50, color='g')\n",
    "plt.yscale('log')\n",
    "plt.xlabel('authors')\n",
    "plt.ylabel('number of publications')\n",
    "plt.title('Publications per author')\n",
    "plt.show()"
   ]
  },
  {
   "cell_type": "code",
   "execution_count": 88,
   "metadata": {},
   "outputs": [],
   "source": [
    "#----------------D---------------#"
   ]
  },
  {
   "cell_type": "code",
   "execution_count": 89,
   "metadata": {},
   "outputs": [
    {
     "name": "stdout",
     "output_type": "stream",
     "text": [
      "                  a\n",
      "count  1.483289e+06\n",
      "mean   3.281675e+00\n",
      "std    8.836385e+00\n",
      "min    1.000000e+00\n",
      "25%    1.000000e+00\n",
      "50%    1.000000e+00\n",
      "75%    2.000000e+00\n",
      "max    1.056000e+03\n"
     ]
    }
   ],
   "source": [
    "import numpy\n",
    "import pandas as pd\n",
    "l = list(author_publication_count.values())\n",
    "df = pd.DataFrame(numpy.array(l), columns = list(\"a\"))\n",
    "print(df.describe())"
   ]
  },
  {
   "cell_type": "code",
   "execution_count": 90,
   "metadata": {},
   "outputs": [],
   "source": [
    "#---------------E----------------#"
   ]
  },
  {
   "cell_type": "code",
   "execution_count": 91,
   "metadata": {},
   "outputs": [],
   "source": [
    "venue_publication = {}\n",
    "index=1\n",
    "for i in range(0,len(index_list)):\n",
    "    venue_publication.setdefault(publication_venue_list[i], []).append(index_list[i])\n",
    "        \n",
    "\n",
    "venue_publication_count = {}\n",
    "\n",
    "for venue in venue_publication:\n",
    "    if venue == '':\n",
    "        continue\n",
    "    venue_publication_count[venue] = len(venue_publication[venue])\n",
    "    \n",
    "    \n",
    "    "
   ]
  },
  {
   "cell_type": "code",
   "execution_count": 92,
   "metadata": {},
   "outputs": [
    {
     "data": {
      "image/png": "[encoded data removed]",
      "text/plain": [
       "<matplotlib.figure.Figure at 0x23be2bf98>"
      ]
     },
     "metadata": {},
     "output_type": "display_data"
    }
   ],
   "source": [
    "import matplotlib.pyplot as plt\n",
    "\n",
    "plt.hist(list(venue_publication_count.values()),bins=50, color='g')\n",
    "plt.yscale('log')\n",
    "plt.xlabel('venues')\n",
    "plt.ylabel('number of publications')\n",
    "plt.title('Publications per venue')\n",
    "plt.show()"
   ]
  },
  {
   "cell_type": "code",
   "execution_count": 93,
   "metadata": {},
   "outputs": [
    {
     "name": "stdout",
     "output_type": "stream",
     "text": [
      "                   a\n",
      "count  255685.000000\n",
      "mean        7.730966\n",
      "std        83.381071\n",
      "min         1.000000\n",
      "25%         1.000000\n",
      "50%         1.000000\n",
      "75%         1.000000\n",
      "max     11227.000000\n"
     ]
    }
   ],
   "source": [
    "l = list(venue_publication_count.values())\n",
    "df = pd.DataFrame(numpy.array(l), columns = list(\"a\"))\n",
    "print(df.describe())"
   ]
  },
  {
   "cell_type": "code",
   "execution_count": 94,
   "metadata": {},
   "outputs": [
    {
     "name": "stdout",
     "output_type": "stream",
     "text": [
      "IEEE Transactions on Information Theory\n"
     ]
    }
   ],
   "source": [
    "print(max(venue_publication_count, key=lambda k: venue_publication_count[k]))"
   ]
  },
  {
   "cell_type": "code",
   "execution_count": 95,
   "metadata": {},
   "outputs": [],
   "source": [
    "#---------------F----------------#"
   ]
  },
  {
   "cell_type": "code",
   "execution_count": 96,
   "metadata": {},
   "outputs": [
    {
     "data": {
      "image/png": "[encoded data removed]",
      "text/plain": [
       "<matplotlib.figure.Figure at 0x1adf3cda0>"
      ]
     },
     "metadata": {},
     "output_type": "display_data"
    }
   ],
   "source": [
    "reference_publication_count = {}\n",
    "for reference in reference_list:\n",
    "    if reference == '':\n",
    "        continue\n",
    "    reference_publication_count[reference] = len(reference_list[reference])\n",
    "\n",
    "import matplotlib.pyplot as plt\n",
    "\n",
    "plt.hist(list(reference_publication_count.values()),bins=50, color='g')\n",
    "plt.yscale('log')\n",
    "plt.xlabel('publication')\n",
    "plt.ylabel('number of references')\n",
    "plt.title('references per publication')\n",
    "plt.show()    "
   ]
  },
  {
   "cell_type": "code",
   "execution_count": 97,
   "metadata": {},
   "outputs": [],
   "source": [
    "from collections import Counter\n",
    "import itertools\n",
    "count = {}\n",
    "citations = list(itertools.chain.from_iterable(list(reference_list.values())))\n",
    "count = Counter(citations)\n",
    "\n",
    "\n",
    "\n",
    "\n"
   ]
  },
  {
   "cell_type": "code",
   "execution_count": 98,
   "metadata": {},
   "outputs": [
    {
     "data": {
      "image/png": "[encoded data removed]",
      "text/plain": [
       "<matplotlib.figure.Figure at 0x1b2d6c2b0>"
      ]
     },
     "metadata": {},
     "output_type": "display_data"
    }
   ],
   "source": [
    "import matplotlib.pyplot as plt\n",
    "\n",
    "plt.hist(list(count.values()),bins=50, color='g')\n",
    "plt.yscale('log')\n",
    "plt.xlabel('publication')\n",
    "plt.ylabel('number of citations')\n",
    "plt.title('citations per publication')\n",
    "plt.show()"
   ]
  },
  {
   "cell_type": "code",
   "execution_count": 99,
   "metadata": {},
   "outputs": [
    {
     "name": "stdout",
     "output_type": "stream",
     "text": [
      "719353\n"
     ]
    }
   ],
   "source": [
    "print(max(reference_publication_count,key=lambda k: reference_publication_count[k]))"
   ]
  },
  {
   "cell_type": "code",
   "execution_count": 113,
   "metadata": {},
   "outputs": [
    {
     "name": "stdout",
     "output_type": "stream",
     "text": [
      "publication with largest number of references\n",
      "Cited References\n"
     ]
    },
    {
     "data": {
      "text/plain": [
       "772"
      ]
     },
     "execution_count": 113,
     "metadata": {},
     "output_type": "execute_result"
    }
   ],
   "source": [
    "print(\"publication with largest number of references\")\n",
    "print(title_list_dict['719353'])\n",
    "reference_publication_count['719353']"
   ]
  },
  {
   "cell_type": "code",
   "execution_count": null,
   "metadata": {},
   "outputs": [],
   "source": []
  },
  {
   "cell_type": "code",
   "execution_count": 114,
   "metadata": {},
   "outputs": [
    {
     "name": "stdout",
     "output_type": "stream",
     "text": [
      "408396\n"
     ]
    }
   ],
   "source": [
    "print(max(count,key=lambda k: count[k]))"
   ]
  },
  {
   "cell_type": "code",
   "execution_count": 115,
   "metadata": {},
   "outputs": [
    {
     "name": "stdout",
     "output_type": "stream",
     "text": [
      "publication with larget number of citations\n",
      "Computers and Intractability: A Guide to the Theory of NP-Completeness\n"
     ]
    }
   ],
   "source": [
    "print(\"publication with larget number of citations\")\n",
    "print(title_list_dict['408396'])"
   ]
  },
  {
   "cell_type": "code",
   "execution_count": 106,
   "metadata": {},
   "outputs": [
    {
     "data": {
      "text/plain": [
       "7753"
      ]
     },
     "execution_count": 106,
     "metadata": {},
     "output_type": "execute_result"
    }
   ],
   "source": [
    "count['408396']"
   ]
  },
  {
   "cell_type": "code",
   "execution_count": 107,
   "metadata": {},
   "outputs": [],
   "source": []
  },
  {
   "cell_type": "code",
   "execution_count": 108,
   "metadata": {},
   "outputs": [],
   "source": [
    "#---------------G----------------#"
   ]
  },
  {
   "cell_type": "code",
   "execution_count": 109,
   "metadata": {},
   "outputs": [
    {
     "data": {
      "image/png": "[encoded data removed]",
      "text/plain": [
       "<matplotlib.figure.Figure at 0x19fd9e978>"
      ]
     },
     "metadata": {},
     "output_type": "display_data"
    }
   ],
   "source": [
    "impact_factor_dict = {}\n",
    "for venue in venue_publication:\n",
    "    if venue == '':\n",
    "        continue\n",
    "    pub_list = venue_publication[venue]\n",
    "    \n",
    "    \n",
    "    sum=0\n",
    "    for publication in pub_list:\n",
    "        sum=sum+count[str(publication)]\n",
    "    impact_factor_dict[venue]=sum/venue_publication_count[venue]\n",
    "    \n",
    "plt.hist(list(impact_factor_dict.values()),bins=50, color='g')\n",
    "plt.yscale('log')\n",
    "plt.xlabel('venue')\n",
    "plt.ylabel('impact factor')\n",
    "plt.title('impact factor per venue')\n",
    "plt.show()\n",
    "    \n",
    "    "
   ]
  },
  {
   "cell_type": "code",
   "execution_count": 110,
   "metadata": {},
   "outputs": [],
   "source": [
    "#---------------H----------------#"
   ]
  },
  {
   "cell_type": "code",
   "execution_count": 111,
   "metadata": {},
   "outputs": [
    {
     "name": "stdout",
     "output_type": "stream",
     "text": [
      "Computers and Intractability: A Guide to the Theory of NP-Completeness\n"
     ]
    }
   ],
   "source": [
    "print(max(impact_factor_dict,key=lambda k: impact_factor_dict[k]))"
   ]
  },
  {
   "cell_type": "code",
   "execution_count": 112,
   "metadata": {},
   "outputs": [
    {
     "name": "stdout",
     "output_type": "stream",
     "text": [
      "7753.0\n"
     ]
    }
   ],
   "source": [
    "print(impact_factor_dict['Computers and Intractability: A Guide to the Theory of NP-Completeness'])"
   ]
  },
  {
   "cell_type": "code",
   "execution_count": null,
   "metadata": {},
   "outputs": [],
   "source": [
    "#---------------I----------------#"
   ]
  },
  {
   "cell_type": "code",
   "execution_count": 116,
   "metadata": {},
   "outputs": [
    {
     "data": {
      "image/png": "[encoded data removed]",
      "text/plain": [
       "<matplotlib.figure.Figure at 0x184eb1908>"
      ]
     },
     "metadata": {},
     "output_type": "display_data"
    }
   ],
   "source": [
    "impact_factor_dict_pub_more_10 = {}\n",
    "for venue in venue_publication:\n",
    "    if venue == '' or venue_publication_count[venue]<10:\n",
    "        \n",
    "        continue\n",
    "    pub_list = venue_publication[venue]\n",
    "    sum=0\n",
    "    for publication in pub_list:\n",
    "        sum=sum+count[str(publication)]\n",
    "    impact_factor_dict_pub_more_10[venue]=sum/venue_publication_count[venue]\n",
    "    \n",
    "plt.hist(list(impact_factor_dict_pub_more_10.values()),bins=50, color='g')\n",
    "plt.yscale('log')\n",
    "plt.xlabel('venue')\n",
    "plt.ylabel('impact factor')\n",
    "plt.title('impact factor per venue with publications >= 10')\n",
    "plt.show()"
   ]
  },
  {
   "cell_type": "code",
   "execution_count": 117,
   "metadata": {
    "scrolled": true
   },
   "outputs": [
    {
     "name": "stdout",
     "output_type": "stream",
     "text": [
      "Proceedings of the 2001 conference on Applications, technologies, architectures, and protocols for computer communications\n",
      "[167, 115, 48, 11, 138, 50, 11, 112, 103, 27, 2140, 1609, 87, 22, 67, 19, 28, 22, 21, 42, 46, 46]\n",
      "214.82608695652175\n",
      "                 a\n",
      "count    22.000000\n",
      "mean    224.136364\n",
      "std     542.171937\n",
      "min      11.000000\n",
      "25%      23.250000\n",
      "50%      47.000000\n",
      "75%     109.750000\n",
      "max    2140.000000\n"
     ]
    }
   ],
   "source": [
    "venue_max=max(impact_factor_dict_pub_more_10, key=impact_factor_dict_pub_more_10.get)\n",
    "print(venue_max)\n",
    "citation_list_venue_max=[]\n",
    "pub_list=venue_publication[venue_max] \n",
    "for publication in pub_list:\n",
    "    if count[str(publication)]>10:\n",
    "        citation_list_venue_max.append(count[str(publication)])\n",
    "print(citation_list_venue_max)    \n",
    "print(impact_factor_dict_pub_more_10[venue_max])\n",
    "\n",
    "df = pd.DataFrame(numpy.array(citation_list_venue_max), columns = list(\"a\"))\n",
    "print(df.describe())\n",
    "    \n",
    "    "
   ]
  },
  {
   "cell_type": "code",
   "execution_count": 118,
   "metadata": {},
   "outputs": [],
   "source": [
    "#---------------J----------------#"
   ]
  },
  {
   "cell_type": "code",
   "execution_count": 119,
   "metadata": {},
   "outputs": [
    {
     "data": {
      "image/png": "[encoded data removed]",
      "text/plain": [
       "<matplotlib.figure.Figure at 0x17376db38>"
      ]
     },
     "metadata": {},
     "output_type": "display_data"
    },
    {
     "data": {
      "image/png": "[encoded data removed]",
      "text/plain": [
       "<matplotlib.figure.Figure at 0x1e19b3898>"
      ]
     },
     "metadata": {},
     "output_type": "display_data"
    }
   ],
   "source": [
    "year_publication = {}\n",
    "references_per_year = {}\n",
    "citations_per_year = {}\n",
    "avg_references = {}\n",
    "avg_citations = {}\n",
    "index=1\n",
    "i = 0\n",
    "for i in range(0,len(index_list)):\n",
    "    if year_list[i]!='':\n",
    "        year_publication.setdefault(int(year_list[i]),[]).append(str(index_list[i]))\n",
    "    index=index+1\n",
    "    \n",
    "\n",
    "for year,pub_list in year_publication.items():\n",
    "    num_citations=0\n",
    "    for each_pub in pub_list:\n",
    "        \n",
    "        if each_pub in reference_list: \n",
    "            references = reference_list[each_pub]\n",
    "            for reference in references:\n",
    "                references_per_year.setdefault(year,[]).append(reference)\n",
    "        \n",
    "        if each_pub in count:\n",
    "            num_citations=num_citations+count[each_pub]\n",
    "        citations_per_year[year]= num_citations    \n",
    "                \n",
    "\n",
    "for year,reference_l in references_per_year.items():\n",
    "    avg_references[year] = len(reference_l)/len(year_publication[year])\n",
    "\n",
    "for year in citations_per_year:\n",
    "    avg_citations[year] = citations_per_year[year]/len(year_publication[year])\n",
    "\n",
    "lists = sorted(avg_references.items()) # sorted by key, return a list of tuples\n",
    "\n",
    "x, y = zip(*lists) # unpack a list of pairs into two tuples\n",
    "\n",
    "plt.plot(x, y)\n",
    "plt.show()\n",
    "\n",
    "lists = sorted(avg_citations.items()) # sorted by key, return a list of tuples\n",
    "\n",
    "x, y = zip(*lists) # unpack a list of pairs into two tuples\n",
    "\n",
    "plt.plot(x, y)\n",
    "plt.show()\n",
    "            \n",
    "    \n",
    "        \n",
    "    "
   ]
  },
  {
   "cell_type": "code",
   "execution_count": null,
   "metadata": {},
   "outputs": [],
   "source": [
    "#The number of references increased with time however the citations were increasing but also saw a dip with time.\n",
    "#We can also observe that there is pike in the number of citations between 1940 and 1950"
   ]
  },
  {
   "cell_type": "code",
   "execution_count": null,
   "metadata": {},
   "outputs": [],
   "source": []
  },
  {
   "cell_type": "code",
   "execution_count": null,
   "metadata": {},
   "outputs": [],
   "source": []
  }
 ],
 "metadata": {
  "kernelspec": {
   "display_name": "Python 3",
   "language": "python",
   "name": "python3"
  },
  "language_info": {
   "codemirror_mode": {
    "name": "ipython",
    "version": 3
   },
   "file_extension": ".py",
   "mimetype": "text/x-python",
   "name": "python",
   "nbconvert_exporter": "python",
   "pygments_lexer": "ipython3",
   "version": "3.6.4"
  }
 },
 "nbformat": 4,
 "nbformat_minor": 2
}
