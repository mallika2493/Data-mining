{
 "cells": [
  {
   "cell_type": "code",
   "execution_count": 114,
   "metadata": {},
   "outputs": [],
   "source": [
    "#solution 1-c\n",
    "#/For each iteration of the algorithm, new clusters are formed based on the old clusters. The iteration converges when\n",
    "#the new step has no change in the clusters and remains same as the old step. If the new clustering is different \n",
    "#from the old then the newer one has a lower cost which means it is going towards convergence.\n",
    "#Since the algorithm iterates a function whose domain is a finite set, the iteration must eventually enter a cycle. \n",
    "#The cycle cannot have length greater than 1 because otherwise there would be some clustering which has a \n",
    "#lower cost than itself which is impossible.\n",
    "#Hence the cycle must have length exactly 1 and k-means converges in a finite number of iterations.\n",
    "\n",
    "#since we are keeping the variables in each step i.e we fix the centroids and calculate the new mean of the cluster \n",
    "#and fixing new mean we calculate new centroids,this convergence goes towards local procedure minimum which does not\n",
    "#guarantee optimality. Hence it does not converge to global minimum value.The value depends on the assumptions we fix\n",
    "#in the beginning on the initial centroids"
   ]
  },
  {
   "cell_type": "code",
   "execution_count": null,
   "metadata": {},
   "outputs": [],
   "source": [
    "from sklearn.datasets import fetch_mldata\n",
    "from sklearn.metrics.pairwise import cosine_similarity\n",
    "import numpy as np\n",
    "import operator\n",
    "from collections import Counter,OrderedDict\n",
    "from scipy.sparse import csr_matrix,vstack\n",
    "from scipy.sparse import find\n",
    "import math\n",
    "import time"
   ]
  },
  {
   "cell_type": "code",
   "execution_count": 115,
   "metadata": {},
   "outputs": [],
   "source": [
    "def centroids_allclose(X, Y, atol = 1e-8):\n",
    "\n",
    "    # If you want to check matrix shapes as well\n",
    "    if np.array_equal(X.shape, Y.shape)==0:\n",
    "        return False\n",
    "\n",
    "    x1,y1,v1 = find(X)\n",
    "    x2,y2,v2 = find(Y)\n",
    "    index_match = np.array_equal(x1,x2) & np.array_equal(y1,y2)\n",
    "\n",
    "    if index_match==0:\n",
    "        return False\n",
    "    else:  \n",
    "        return np.allclose(v1,v2, atol=atol)"
   ]
  },
  {
   "cell_type": "code",
   "execution_count": 5,
   "metadata": {},
   "outputs": [],
   "source": [
    "### Kmeans algorithm"
   ]
  },
  {
   "cell_type": "code",
   "execution_count": 6,
   "metadata": {},
   "outputs": [],
   "source": [
    "def get_random_centroids(data,k):\n",
    "    centroids=[]\n",
    "    for i in range(0, k):\n",
    "        centroids.append(data[np.random.randint(0, data.shape[0], size=1)])\n",
    "    return centroids\n"
   ]
  },
  {
   "cell_type": "code",
   "execution_count": 7,
   "metadata": {},
   "outputs": [],
   "source": [
    "def get_purity(clusters_label,N):\n",
    "    purity=0.0\n",
    "    for each_centroid in clusters_label:\n",
    "        cluster_targets = clusters_label[each_centroid]\n",
    "        frequency=Counter(cluster_targets)\n",
    "        key_max=max(cluster_targets, key=cluster_targets.count)\n",
    "        purity += frequency[key_max]\n",
    "    purity = purity/N\n",
    "    return purity"
   ]
  },
  {
   "cell_type": "code",
   "execution_count": 8,
   "metadata": {},
   "outputs": [],
   "source": [
    "### sum(m[i][j]) where 0<=i<=number of true clusters\n",
    "def get_Mj(m,j):\n",
    "    Mj=0.0\n",
    "    for i in range(m.shape[0]):\n",
    "        Mj += m[i][j]\n",
    "    return Mj"
   ]
  },
  {
   "cell_type": "code",
   "execution_count": 9,
   "metadata": {},
   "outputs": [],
   "source": [
    "def column_gini_index(m,j):\n",
    "    Gj=0.0\n",
    "    Mj = get_Mj(m,j)\n",
    "    for i in range(m.shape[0]):\n",
    "         Gj+=math.pow(m[i][j]/Mj,2)\n",
    "    return 1-Gj\n",
    "            \n",
    "            "
   ]
  },
  {
   "cell_type": "code",
   "execution_count": 10,
   "metadata": {},
   "outputs": [],
   "source": [
    "def get_gini_index(m):\n",
    "    gini_index = 0.0\n",
    "    gini_index_denominator = 0.0\n",
    "    gini_index_numerator = 0.0\n",
    "    for j in range(m.shape[1]):\n",
    "        Mj = get_Mj(m,j)\n",
    "        gini_index_denominator += Mj\n",
    "        gini_index_numerator += column_gini_index(m,j)*Mj\n",
    "    gini_index = gini_index_numerator/gini_index_denominator\n",
    "    return gini_index\n",
    "        "
   ]
  },
  {
   "cell_type": "code",
   "execution_count": 81,
   "metadata": {},
   "outputs": [],
   "source": [
    "def has_converged(old_centroids,centroids,iterations,iteration):\n",
    " \n",
    "    if iteration>iterations:\n",
    "        return True\n",
    "    return np.allclose(old_centroids,centroids,atol=1e-2)\n",
    " \n",
    "def KMeans(data,k,max_iterations,targets,actual_labels):\n",
    "    #initial step: To choose random k centroids from the datapoints\n",
    "    centroids = get_random_centroids(data,k)\n",
    "    #targets = mnist.target\n",
    "    prev_centroids = []\n",
    "    converged = False\n",
    "    iteration = 0 \n",
    "    N = data.shape[0]\n",
    "\n",
    "    while(not converged):\n",
    "    \n",
    "        distances = cosine_similarity(data,np.vstack(centroids))\n",
    "        clusters = {}\n",
    "        clusters_label = {}\n",
    "        \n",
    "        ##find closest centroids for each data point\n",
    "        m = np.zeros((actual_labels, k))\n",
    "        for data_point_index in range(0,N):\n",
    "            centroid_max_index = np.argmax(distances[data_point_index])\n",
    "            clusters.setdefault(centroid_max_index,[]).append(data[data_point_index])\n",
    "            clusters_label.setdefault(centroid_max_index,[]).append(targets[data_point_index])\n",
    "            true_cluster_index = int(targets[data_point_index])\n",
    "            determined_cluster_index = centroid_max_index\n",
    "            m[true_cluster_index][determined_cluster_index] += 1.0\n",
    "        #print(\"iteration:\"+str(iteration)+\"..done making clusters\")  \n",
    "        prev_centroids = centroids\n",
    "        centroids = [[] for i in range(k)]\n",
    "        for each_cluster_index in clusters:\n",
    "            centroids[each_cluster_index] = np.mean(np.vstack(clusters[each_cluster_index]),axis=0)\n",
    "            \n",
    "            #print(\"making centroids for cluster index:\"+str(each_cluster_index))\n",
    "        iteration+=1\n",
    "        converged = has_converged(prev_centroids,centroids,max_iterations,iteration)\n",
    "        #print(\"converged?:\"+str(converged))\n",
    "    \n",
    "    purity = 0.0\n",
    "    purity = get_purity(clusters_label,N)\n",
    "    gini_index = 0.0\n",
    "    gini_index = get_gini_index(m)\n",
    "    print(\"#iteration:\",iteration)\n",
    "    print(\"purity:\",purity)\n",
    "    print(\"gini_index:\",gini_index)\n",
    "    "
   ]
  },
  {
   "cell_type": "code",
   "execution_count": 82,
   "metadata": {},
   "outputs": [],
   "source": [
    "#load MNIST data\n",
    "mnist = fetch_mldata('MNIST original')\n",
    "normalized_dataset = np.divide(mnist.data,255)\n",
    "mnist_data = normalized_dataset\n",
    "mnist_target_data = mnist.target"
   ]
  },
  {
   "cell_type": "code",
   "execution_count": 91,
   "metadata": {},
   "outputs": [
    {
     "name": "stdout",
     "output_type": "stream",
     "text": [
      "MNIST KMeans\n",
      "#iteration: 16\n",
      "purity: 0.5991428571428571\n",
      "gini_index: 0.5216824277782354\n",
      "Time taken:39.0547821521759 seconds\n"
     ]
    }
   ],
   "source": [
    "print(\"MNIST KMeans\")\n",
    "start = time.time()\n",
    "KMeans(mnist_data,10,55,mnist_target_data,10)\n",
    "end = time.time()\n",
    "print(\"Time taken:\"+str(end - start)+\" seconds\")"
   ]
  },
  {
   "cell_type": "code",
   "execution_count": 116,
   "metadata": {},
   "outputs": [],
   "source": [
    "#load 20NG data\n",
    "from sklearn.datasets import fetch_20newsgroups\n",
    "from sklearn.feature_extraction.text import TfidfVectorizer\n",
    "twentyng_data = fetch_20newsgroups(subset='all',remove=('headers','footers','quotes'))\n",
    "vectorizer = TfidfVectorizer(stop_words='english',max_df=0.95,min_df=2)\n",
    "twentyng_data_vectors = vectorizer.fit_transform(twentyng_data.data)\n",
    "twentyng_target = twentyng_data.target"
   ]
  },
  {
   "cell_type": "code",
   "execution_count": 117,
   "metadata": {},
   "outputs": [],
   "source": [
    "def has_converged_20NG(old_centroids,centroids,iterations,iteration):\n",
    "    if iteration>iterations:\n",
    "        return True\n",
    "    #print(centroids.shape)\n",
    "    #print(old_centroids.shape)\n",
    "    converged = centroids_allclose(old_centroids,centroids)\n",
    "    return converged\n",
    "\n",
    "def get_random_centroids_20NG(data,k):\n",
    "    centroids = []\n",
    "    for i in range(0, k):\n",
    "        centroids.append(data[np.random.randint(0, data.shape[0], size=1)])\n",
    "    return centroids \n",
    "    \n",
    "def KMeans_20NG(data,k,max_iterations,targets):\n",
    "    #initial step: To choose random k centroids from the datapoints\n",
    "    centroids = get_random_centroids_20NG(data,k)\n",
    "    converged = False\n",
    "    iteration = 0 \n",
    "    N = data.shape[0]\n",
    "    prev_centroids = []\n",
    "    actual_labels = 20\n",
    "    \n",
    "    while(not converged):\n",
    "    \n",
    "        distances = cosine_similarity(data,vstack(centroids))\n",
    "        #print(type(distances))\n",
    "        clusters = OrderedDict()\n",
    "        clusters_label = OrderedDict()\n",
    "        \n",
    "        ##find closest centroids for each data point\n",
    "        m = np.zeros((actual_labels, k))\n",
    "        for data_point_index in range(0,N):\n",
    "            centroid_max_index = np.argmax(distances[data_point_index])\n",
    "            clusters.setdefault(centroid_max_index,[]).append(data[data_point_index])\n",
    "            clusters_label.setdefault(centroid_max_index,[]).append(targets[data_point_index])\n",
    "            true_cluster_index = int(targets[data_point_index])\n",
    "            determined_cluster_index = centroid_max_index\n",
    "            m[true_cluster_index][determined_cluster_index] += 1.0\n",
    "        print(\"iteration:\"+str(iteration)+\"..done making clusters\")  \n",
    "        \n",
    "        prev_centroids = centroids\n",
    "        centroids = [[] for x in range(0,k)]\n",
    "        for cluster_index in clusters:\n",
    "            vstacked_datapoints = vstack(clusters[cluster_index])\n",
    "            \n",
    "            mean = vstacked_datapoints.mean(axis=0)\n",
    "            sparsed_mean = csr_matrix(mean)\n",
    "            centroids[cluster_index]=sparsed_mean\n",
    "            #print(\"making centroids for cluster index:\"+str(cluster_index))\n",
    "        iteration+=1\n",
    "        p = vstack(prev_centroids)\n",
    "        print(\"centroids shape:\",len(centroids))\n",
    "        #print(\"centroids\",centroids)\n",
    "        c = vstack(centroids)\n",
    "        converged = has_converged_20NG(p,c,max_iterations,iteration)\n",
    "        #print(\"converged?:\"+str(converged))    \n",
    "\n",
    "    purity = 0\n",
    "    purity = get_purity(clusters_label,N)\n",
    "    gini_index = 0.0\n",
    "    gini_index = get_gini_index(m)\n",
    "    print(\"#iteration:\",iteration)\n",
    "    print(\"purity\",purity)\n",
    "    print(\"gini index\",gini_index)\n",
    "    "
   ]
  },
  {
   "cell_type": "code",
   "execution_count": 118,
   "metadata": {
    "scrolled": false
   },
   "outputs": [
    {
     "name": "stdout",
     "output_type": "stream",
     "text": [
      "20NG Kmeans\n",
      "iteration:0..done making clusters\n",
      "centroids shape: 20\n",
      "iteration:1..done making clusters\n",
      "centroids shape: 20\n",
      "iteration:2..done making clusters\n",
      "centroids shape: 20\n",
      "iteration:3..done making clusters\n",
      "centroids shape: 20\n",
      "iteration:4..done making clusters\n",
      "centroids shape: 20\n",
      "iteration:5..done making clusters\n",
      "centroids shape: 20\n",
      "iteration:6..done making clusters\n",
      "centroids shape: 20\n",
      "iteration:7..done making clusters\n",
      "centroids shape: 20\n",
      "iteration:8..done making clusters\n",
      "centroids shape: 20\n",
      "iteration:9..done making clusters\n",
      "centroids shape: 20\n",
      "iteration:10..done making clusters\n",
      "centroids shape: 20\n",
      "iteration:11..done making clusters\n",
      "centroids shape: 20\n",
      "iteration:12..done making clusters\n",
      "centroids shape: 20\n",
      "iteration:13..done making clusters\n",
      "centroids shape: 20\n",
      "iteration:14..done making clusters\n",
      "centroids shape: 20\n",
      "iteration:15..done making clusters\n",
      "centroids shape: 20\n",
      "iteration:16..done making clusters\n",
      "centroids shape: 20\n",
      "iteration:17..done making clusters\n",
      "centroids shape: 20\n",
      "iteration:18..done making clusters\n",
      "centroids shape: 20\n",
      "iteration:19..done making clusters\n",
      "centroids shape: 20\n",
      "iteration:20..done making clusters\n",
      "centroids shape: 20\n",
      "iteration:21..done making clusters\n",
      "centroids shape: 20\n",
      "iteration:22..done making clusters\n",
      "centroids shape: 20\n",
      "iteration:23..done making clusters\n",
      "centroids shape: 20\n",
      "iteration:24..done making clusters\n",
      "centroids shape: 20\n",
      "iteration:25..done making clusters\n",
      "centroids shape: 20\n",
      "iteration:26..done making clusters\n",
      "centroids shape: 20\n",
      "iteration:27..done making clusters\n",
      "centroids shape: 20\n",
      "iteration:28..done making clusters\n",
      "centroids shape: 20\n",
      "iteration:29..done making clusters\n",
      "centroids shape: 20\n",
      "iteration:30..done making clusters\n",
      "centroids shape: 20\n",
      "iteration:31..done making clusters\n",
      "centroids shape: 20\n",
      "iteration:32..done making clusters\n",
      "centroids shape: 20\n",
      "iteration:33..done making clusters\n",
      "centroids shape: 20\n",
      "iteration:34..done making clusters\n",
      "centroids shape: 20\n",
      "iteration:35..done making clusters\n",
      "centroids shape: 20\n",
      "iteration:36..done making clusters\n",
      "centroids shape: 20\n",
      "iteration:37..done making clusters\n",
      "centroids shape: 20\n",
      "#iteration: 38\n",
      "purity 0.407301284092115\n",
      "gini index 0.7165434286469323\n",
      "Time taken:79.36977982521057 seconds\n"
     ]
    }
   ],
   "source": [
    "print(\"20NG Kmeans\")\n",
    "start = time.time()\n",
    "KMeans_20NG(twentyng_data_vectors,20,100,twentyng_target)\n",
    "end = time.time()\n",
    "print(\"Time taken:\"+str(end - start)+\" seconds\")"
   ]
  },
  {
   "cell_type": "code",
   "execution_count": null,
   "metadata": {},
   "outputs": [],
   "source": [
    "# loading Fashion MNIST"
   ]
  },
  {
   "cell_type": "code",
   "execution_count": 119,
   "metadata": {},
   "outputs": [
    {
     "name": "stdout",
     "output_type": "stream",
     "text": [
      "(60000, 784)\n"
     ]
    }
   ],
   "source": [
    "import pandas as pd\n",
    "fashion_data = pd.read_csv('fashion-mnist_train.csv')\n",
    "targets_fashion = fashion_data.label.values\n",
    "images = fashion_data.iloc[:,1:].values\n",
    "images = images.astype(np.float)\n",
    "print(images.shape)\n",
    "normalized_images = np.divide(images,255)"
   ]
  },
  {
   "cell_type": "code",
   "execution_count": 120,
   "metadata": {},
   "outputs": [
    {
     "name": "stdout",
     "output_type": "stream",
     "text": [
      "Fashion MNIST KMeans\n",
      "#iteration: 43\n",
      "purity: 0.6146\n",
      "gini_index: 0.4923065706344012\n",
      "Time taken:79.91207909584045 seconds\n"
     ]
    }
   ],
   "source": [
    "print(\"Fashion MNIST KMeans\")\n",
    "start = time.time()\n",
    "KMeans(normalized_images,10,100,targets_fashion,len(set(targets_fashion)))\n",
    "end = time.time()\n",
    "print(\"Time taken:\"+str(end - start)+\" seconds\")"
   ]
  },
  {
   "cell_type": "code",
   "execution_count": null,
   "metadata": {},
   "outputs": [],
   "source": []
  }
 ],
 "metadata": {
  "kernelspec": {
   "display_name": "Python 3",
   "language": "python",
   "name": "python3"
  },
  "language_info": {
   "codemirror_mode": {
    "name": "ipython",
    "version": 3
   },
   "file_extension": ".py",
   "mimetype": "text/x-python",
   "name": "python",
   "nbconvert_exporter": "python",
   "pygments_lexer": "ipython3",
   "version": "3.6.4"
  }
 },
 "nbformat": 4,
 "nbformat_minor": 2
}
