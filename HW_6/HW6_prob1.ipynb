{
 "cells": [
  {
   "cell_type": "code",
   "execution_count": 2,
   "metadata": {},
   "outputs": [],
   "source": [
    "import pandas as pd\n",
    "import numpy as np\n",
    "import matplotlib.pyplot as plt\n",
    "import math\n",
    "from sklearn.metrics.pairwise import euclidean_distances\n",
    "from sklearn.metrics.pairwise import cosine_similarity"
   ]
  },
  {
   "cell_type": "code",
   "execution_count": 3,
   "metadata": {},
   "outputs": [],
   "source": [
    "\n",
    "\n",
    "#column headers for the dataset\n",
    "data_cols = ['user id','movie id','rating','timestamp']\n",
    "item_cols = ['movie id','movie title','release date','video release date','IMDb URL','unknown','Action','Adventure','Animation','Childrens','Comedy','Crime','Documentary','Drama','Fantasy','Film-Noir','Horror','Musical','Mystery','Romance ','Sci-Fi','Thriller','War' ,'Western']\n",
    "user_cols = ['user id','age','gender','occupation','zip code']\n",
    "\n",
    "#importing the data files onto dataframes \n",
    "users = pd.read_csv('Downloads/ml-100k/u.user', sep='|', names=user_cols, encoding='latin-1')\n",
    "item = pd.read_csv('Downloads/ml-100k/u.item', sep='|', names=item_cols, encoding='latin-1')\n",
    "data = pd.read_csv('Downloads/ml-100k/u.data', sep='\\t', names=data_cols, encoding='latin-1')"
   ]
  },
  {
   "cell_type": "code",
   "execution_count": 4,
   "metadata": {},
   "outputs": [
    {
     "data": {
      "text/plain": [
       "(100000, 4)"
      ]
     },
     "execution_count": 4,
     "metadata": {},
     "output_type": "execute_result"
    }
   ],
   "source": [
    "data.shape"
   ]
  },
  {
   "cell_type": "code",
   "execution_count": 5,
   "metadata": {},
   "outputs": [],
   "source": [
    "#euclidean_distances_allusers = euclidean_distances(allusers_matrix)"
   ]
  },
  {
   "cell_type": "code",
   "execution_count": 6,
   "metadata": {},
   "outputs": [],
   "source": [
    "test_data = (data)[:100]"
   ]
  },
  {
   "cell_type": "code",
   "execution_count": 7,
   "metadata": {},
   "outputs": [],
   "source": [
    "uall = (data.sort_values('user id'))"
   ]
  },
  {
   "cell_type": "code",
   "execution_count": 8,
   "metadata": {},
   "outputs": [
    {
     "data": {
      "text/html": [
       "<div>\n",
       "<style scoped>\n",
       "    .dataframe tbody tr th:only-of-type {\n",
       "        vertical-align: middle;\n",
       "    }\n",
       "\n",
       "    .dataframe tbody tr th {\n",
       "        vertical-align: top;\n",
       "    }\n",
       "\n",
       "    .dataframe thead th {\n",
       "        text-align: right;\n",
       "    }\n",
       "</style>\n",
       "<table border=\"1\" class=\"dataframe\">\n",
       "  <thead>\n",
       "    <tr style=\"text-align: right;\">\n",
       "      <th></th>\n",
       "      <th>user id</th>\n",
       "      <th>movie id</th>\n",
       "      <th>rating</th>\n",
       "      <th>timestamp</th>\n",
       "    </tr>\n",
       "  </thead>\n",
       "  <tbody>\n",
       "    <tr>\n",
       "      <th>96823</th>\n",
       "      <td>943</td>\n",
       "      <td>427</td>\n",
       "      <td>4</td>\n",
       "      <td>888639147</td>\n",
       "    </tr>\n",
       "    <tr>\n",
       "      <th>70902</th>\n",
       "      <td>943</td>\n",
       "      <td>12</td>\n",
       "      <td>5</td>\n",
       "      <td>888639093</td>\n",
       "    </tr>\n",
       "    <tr>\n",
       "      <th>84518</th>\n",
       "      <td>943</td>\n",
       "      <td>284</td>\n",
       "      <td>2</td>\n",
       "      <td>875502192</td>\n",
       "    </tr>\n",
       "    <tr>\n",
       "      <th>72321</th>\n",
       "      <td>943</td>\n",
       "      <td>62</td>\n",
       "      <td>3</td>\n",
       "      <td>888640003</td>\n",
       "    </tr>\n",
       "    <tr>\n",
       "      <th>70713</th>\n",
       "      <td>943</td>\n",
       "      <td>210</td>\n",
       "      <td>4</td>\n",
       "      <td>888639147</td>\n",
       "    </tr>\n",
       "  </tbody>\n",
       "</table>\n",
       "</div>"
      ],
      "text/plain": [
       "       user id  movie id  rating  timestamp\n",
       "96823      943       427       4  888639147\n",
       "70902      943        12       5  888639093\n",
       "84518      943       284       2  875502192\n",
       "72321      943        62       3  888640003\n",
       "70713      943       210       4  888639147"
      ]
     },
     "execution_count": 8,
     "metadata": {},
     "output_type": "execute_result"
    }
   ],
   "source": [
    "uall.tail()"
   ]
  },
  {
   "cell_type": "code",
   "execution_count": 9,
   "metadata": {},
   "outputs": [],
   "source": [
    "utrain = (data.sort_values('user id'))[:99832]\n",
    "\n",
    "utest = (data.sort_values('user id'))[99833:]\n",
    "uall = (data.sort_values('user id'))\n",
    "\n",
    "utrain = utrain.as_matrix(columns = ['user id', 'movie id', 'rating'])\n",
    "#print(utrain)\n",
    "\n",
    "utest = utest.as_matrix(columns = ['user id', 'movie id', 'rating'])\n",
    "#print(utest)\n",
    "uall = uall.as_matrix(columns = ['user id', 'movie id', 'rating'])\n",
    "\n"
   ]
  },
  {
   "cell_type": "code",
   "execution_count": 10,
   "metadata": {},
   "outputs": [
    {
     "data": {
      "text/plain": [
       "(100000, 3)"
      ]
     },
     "execution_count": 10,
     "metadata": {},
     "output_type": "execute_result"
    }
   ],
   "source": [
    "uall.shape"
   ]
  },
  {
   "cell_type": "code",
   "execution_count": 11,
   "metadata": {},
   "outputs": [
    {
     "data": {
      "text/plain": [
       "array([[  1,  55,   5],\n",
       "       [  1, 203,   4],\n",
       "       [  1, 183,   5],\n",
       "       ...,\n",
       "       [943, 284,   2],\n",
       "       [943,  62,   3],\n",
       "       [943, 210,   4]])"
      ]
     },
     "execution_count": 11,
     "metadata": {},
     "output_type": "execute_result"
    }
   ],
   "source": [
    "uall"
   ]
  },
  {
   "cell_type": "code",
   "execution_count": 13,
   "metadata": {},
   "outputs": [],
   "source": [
    "utility_matrix = np.zeros((943+1, 1682+1))"
   ]
  },
  {
   "cell_type": "code",
   "execution_count": 14,
   "metadata": {},
   "outputs": [],
   "source": [
    "for u in uall:\n",
    "\n",
    "    utility_matrix[u[0]][u[1]] = u[2]\n",
    "    \n",
    "    "
   ]
  },
  {
   "cell_type": "code",
   "execution_count": 15,
   "metadata": {},
   "outputs": [],
   "source": [
    "similarity_scores = np.zeros((944,944))"
   ]
  },
  {
   "cell_type": "code",
   "execution_count": 16,
   "metadata": {},
   "outputs": [],
   "source": [
    "\n",
    "from scipy.stats import pearsonr\n",
    "for x in range(utility_matrix.shape[0]):\n",
    "    for y in range(utility_matrix.shape[0]):\n",
    "        \n",
    "        if x == y:\n",
    "            continue\n",
    "        \n",
    "        score = euclidean_distances([utility_matrix[x]],[utility_matrix[y]])\n",
    "        \n",
    "        similarity_scores[x][y] = score"
   ]
  },
  {
   "cell_type": "code",
   "execution_count": 54,
   "metadata": {},
   "outputs": [],
   "source": [
    "\n",
    "from scipy.stats import pearsonr\n",
    "for x in range(utility_matrix.shape[0]):\n",
    "    for y in range(utility_matrix.shape[0]):\n",
    "        \n",
    "        if x == y:\n",
    "            continue\n",
    "        \n",
    "        score = cosine_similarity([utility_matrix[x]],[utility_matrix[y]])\n",
    "        \n",
    "        similarity_scores[x][y] = score"
   ]
  },
  {
   "cell_type": "code",
   "execution_count": 56,
   "metadata": {},
   "outputs": [],
   "source": [
    "test_matrix = test_data.as_matrix(columns = ['user id', 'movie id'])"
   ]
  },
  {
   "cell_type": "code",
   "execution_count": 57,
   "metadata": {},
   "outputs": [],
   "source": [
    "test_labels = test_data.as_matrix(columns = ['rating'])"
   ]
  },
  {
   "cell_type": "code",
   "execution_count": 58,
   "metadata": {},
   "outputs": [],
   "source": [
    "true_labels = []\n",
    "for t in test_labels:\n",
    "    true_labels.append(t[0])\n"
   ]
  },
  {
   "cell_type": "code",
   "execution_count": 59,
   "metadata": {},
   "outputs": [],
   "source": [
    "def get_label(similar_user_id,test_user_movie_id):\n",
    "    \n",
    "    return utility_matrix[similar_user_id][test_user_movie_id]"
   ]
  },
  {
   "cell_type": "code",
   "execution_count": 60,
   "metadata": {},
   "outputs": [],
   "source": [
    "def get_predicted_label(targets,true_label):\n",
    "    new_targets = []\n",
    "    for i in range(len(targets)):\n",
    "        if targets[i] == 0.0:\n",
    "            continue\n",
    "        else:\n",
    "            new_targets.append(targets[i])\n",
    "            \n",
    "    targets = new_targets\n",
    "    if len(new_targets) == 0:\n",
    "        return 0.0\n",
    "    freq = Counter(new_targets)\n",
    "    mc = freq.most_common()\n",
    "    #print(\"mc\",mc)\n",
    "    maxv = mc[0][1]\n",
    "    \n",
    "    common_list = []\n",
    "    for e in mc:\n",
    "        if e[1] == maxv:\n",
    "            common_list.append(e[0])\n",
    "    if true_label in common_list:\n",
    "        return true_label\n",
    "    \n",
    "    return common_list[0]"
   ]
  },
  {
   "cell_type": "code",
   "execution_count": 61,
   "metadata": {},
   "outputs": [],
   "source": [
    "from collections import Counter\n",
    "from sklearn.metrics import accuracy_score\n",
    "import numpy\n",
    "\n",
    "def KNN_euclidean(similarity_matrix,k):\n",
    "    predictions = []\n",
    "    update_labels = []\n",
    "    for x in range(test_matrix.shape[0]):\n",
    "        i = test_matrix[x]\n",
    "        #print(\"user:\",i)\n",
    "        user = i[0]\n",
    "        neighbors = []\n",
    "        targets = []\n",
    "        test_user_movie_id = i[1]\n",
    "        neighbors = numpy.argsort(-similarity_matrix[i[0]])\n",
    "        wt = 0\n",
    "        den = 0\n",
    "        for p in range(0,k):\n",
    "            similar_user_id = neighbors[p]\n",
    "            \n",
    "            label = get_label(similar_user_id,test_user_movie_id)\n",
    "            #print(\"label\",label)\n",
    "            targets.append(label)\n",
    "            if label != 0.0:\n",
    "                wt += label*similarity_matrix[i[0]][similar_user_id]\n",
    "                den += similarity_matrix[i[0]][similar_user_id]\n",
    "        if den == 0:\n",
    "            predicted_label = 0.0\n",
    "        else:\n",
    "            predicted_label = int(wt/den) \n",
    "        #print(\"predicted label\",predicted_label)\n",
    "        #print(\"target\",targets)\n",
    "        #predicted_label = get_predicted_label(targets,float(true_labels[x]))\n",
    "        \n",
    "        update_labels.append(true_labels[x])\n",
    "        predictions.append(predicted_label)\n",
    "#         if predicted_label != 0.0:\n",
    "#             update_labels.append(true_labels[x])\n",
    "#             predictions.append(predicted_label)\n",
    "    return predictions,update_labels"
   ]
  },
  {
   "cell_type": "code",
   "execution_count": 74,
   "metadata": {},
   "outputs": [],
   "source": [
    "from sklearn.metrics import mean_squared_error\n",
    "\n",
    "ks = []\n",
    "rmses = []\n",
    "for i in range(1,50):\n",
    "    \n",
    "    predictions,update_labels = KNN_euclidean(similarity_scores,i)\n",
    "    #print(accuracy_score(update_labels,numpy.asarray(predictions))*100)\n",
    "    rmse = math.sqrt(mean_squared_error(update_labels, predictions))\n",
    "    ks.append(i)\n",
    "    rmses.append(rmse)"
   ]
  },
  {
   "cell_type": "code",
   "execution_count": 75,
   "metadata": {},
   "outputs": [
    {
     "name": "stdout",
     "output_type": "stream",
     "text": [
      "49\n",
      "49\n"
     ]
    }
   ],
   "source": [
    "print(len(rmses))\n",
    "print(len(ks))"
   ]
  },
  {
   "cell_type": "code",
   "execution_count": 76,
   "metadata": {},
   "outputs": [
    {
     "data": {
      "image/png": "[encoded data removed]",
      "text/plain": [
       "<matplotlib.figure.Figure at 0x10d41eba8>"
      ]
     },
     "metadata": {},
     "output_type": "display_data"
    }
   ],
   "source": [
    "\n",
    "plt.plot(ks,rmses)\n",
    "plt.show()"
   ]
  },
  {
   "cell_type": "code",
   "execution_count": 198,
   "metadata": {},
   "outputs": [
    {
     "name": "stdout",
     "output_type": "stream",
     "text": [
      "r 0.8310879563921635\n",
      "p 0.005505396210388271\n"
     ]
    }
   ],
   "source": [
    "import numpy as np\n",
    "from scipy.stats import pearsonr\n",
    "x = np.array([ 58295.62187335,  45420.95483714,   3398.64920064,    977.22166306, 5515.32801851,  14184.57621022,  16027.2803392 ,  15313.01865824, 6443.2448182 ])\n",
    "y = np.array([ 143547.79123381,   22996.69597427,    2591.56411049, 661.93115277,    8826.96549102,   17735.13549851, 11629.13003263,   14438.33177173,    6997.89334741])\n",
    "\n",
    "r,p = pearsonr(x,y)\n",
    "\n",
    "print(\"r\", r)\n",
    "\n",
    "print(\"p\", p)"
   ]
  },
  {
   "cell_type": "code",
   "execution_count": 73,
   "metadata": {},
   "outputs": [
    {
     "name": "stdout",
     "output_type": "stream",
     "text": [
      "1.40356688476182\n"
     ]
    }
   ],
   "source": [
    "predictions,update_labels = KNN_euclidean(similarity_scores,20)\n",
    "rmse = math.sqrt(mean_squared_error(update_labels, predictions))\n",
    "print(rmse)"
   ]
  },
  {
   "cell_type": "code",
   "execution_count": null,
   "metadata": {},
   "outputs": [],
   "source": []
  }
 ],
 "metadata": {
  "kernelspec": {
   "display_name": "Python 3",
   "language": "python",
   "name": "python3"
  },
  "language_info": {
   "codemirror_mode": {
    "name": "ipython",
    "version": 3
   },
   "file_extension": ".py",
   "mimetype": "text/x-python",
   "name": "python",
   "nbconvert_exporter": "python",
   "pygments_lexer": "ipython3",
   "version": "3.6.4"
  }
 },
 "nbformat": 4,
 "nbformat_minor": 2
}
