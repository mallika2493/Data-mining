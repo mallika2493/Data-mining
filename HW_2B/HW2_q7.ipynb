{
 "cells": [
  {
   "cell_type": "code",
   "execution_count": 14,
   "metadata": {},
   "outputs": [],
   "source": [
    "from sklearn.datasets import fetch_20newsgroups\n",
    "from sklearn.feature_extraction.text import TfidfVectorizer\n",
    "from sklearn.metrics.pairwise import euclidean_distances\n",
    "import numpy as np\n",
    "import matplotlib.pyplot as plt\n",
    "from collections import Counter\n",
    "import math\n",
    "import pandas as pd"
   ]
  },
  {
   "cell_type": "code",
   "execution_count": 135,
   "metadata": {},
   "outputs": [],
   "source": [
    "twentyng_data = fetch_20newsgroups(subset='train',remove=('headers','footers','quotes'))\n",
    "vectorizer = TfidfVectorizer(stop_words='english',max_df=0.95,min_df=2)\n",
    "twentyng_data_vectors = vectorizer.fit_transform(twentyng_data.data)\n",
    "twentyng_target = twentyng_data.target\n",
    "ed_mat_20NG = euclidean_distances(twentyng_data_vectors)"
   ]
  },
  {
   "cell_type": "code",
   "execution_count": 15,
   "metadata": {},
   "outputs": [],
   "source": [
    "def rangeQuery(ed_mat,eps,point_id):\n",
    "    n_points = ed_mat.shape[1]\n",
    "    seeds = []\n",
    "    for i in range(0, n_points):\n",
    "        if ed_mat[point_id][i]<eps:\n",
    "            seeds.append(i)\n",
    "    return seeds"
   ]
  },
  {
   "cell_type": "code",
   "execution_count": 17,
   "metadata": {},
   "outputs": [],
   "source": [
    "def expandCluster(ed_mat,point_id,eps,min_points,cluster_label,c_id,neighbors):\n",
    "    \n",
    "    cluster_label[point_id] = c_id\n",
    "    #print(\"point id:\",point_id)\n",
    "    #print(\"cluster cid:\",c_id)\n",
    "    \n",
    "    neighbors_of_each_neighbor = []\n",
    "    each_neighbor_id = 0\n",
    "    #print(\"expanding clusters\")\n",
    "    while each_neighbor_id < len(neighbors):\n",
    "        n = neighbors[each_neighbor_id]\n",
    "        #print(\"each_neighbor_id:\",each_neighbor_id)\n",
    "        #print(\"cluster label:\",cluster_label[each_neighbor_id])\n",
    "        if(cluster_label[n] == -1): #noise\n",
    "            cluster_label[n] = c_id\n",
    "            \n",
    "        elif cluster_label[n] == 0: #if label not assigned\n",
    "             cluster_label[n] = c_id\n",
    "             #print(\"expanding clusters for:\",each_neighbor_id)\n",
    "             neighbors_of_each_neighbor = rangeQuery(ed_mat,eps,n)\n",
    "             #print(neighbors_of_each_neighbor)\n",
    "             if len(neighbors_of_each_neighbor)>=min_points:\n",
    "                for each_neighbor in neighbors_of_each_neighbor:\n",
    "                    if each_neighbor not in neighbors:\n",
    "                        neighbors.append(each_neighbor)\n",
    "            \n",
    "        each_neighbor_id+=1\n",
    "        \n",
    "        \n",
    "    return cluster_label\n",
    "            \n",
    "        "
   ]
  },
  {
   "cell_type": "code",
   "execution_count": 18,
   "metadata": {},
   "outputs": [],
   "source": [
    "def DBScan(x,ed_mat,eps,min_points):\n",
    "    cluster_label ={}\n",
    "    c_id = 0\n",
    "    neighbor_point_list = []\n",
    "    #initialize each cluster id ed_mat\n",
    "    for point_id in range(ed_mat.shape[0]):\n",
    "        cluster_label[point_id] = 0\n",
    "    for point_id in range(ed_mat.shape[0]):\n",
    "        if not(cluster_label[point_id]==0):\n",
    "            continue\n",
    "        neighbor_point_list = rangeQuery(ed_mat,eps,point_id)\n",
    "        #print(len(neighbor_point_list))\n",
    "        #print(\"created neighbors for:\",point_id)\n",
    "        #print(\"neighbors list:\",neighbor_point_list)\n",
    "        \n",
    "        \n",
    "        \n",
    "        if len(neighbor_point_list) < min_points:    \n",
    "            cluster_label[point_id] = -1 #considering it as noise\n",
    "            \n",
    "        else:  \n",
    "                c_id+=1\n",
    "            #for n in neighbor_point_list:\n",
    "                #print(\"neighbor:\",n)\n",
    "                #print(\"cluster label:\",cluster_label[n])\n",
    "                cluster_label = expandCluster(ed_mat,point_id,eps,min_points,cluster_label,c_id,neighbor_point_list)\n",
    "    return cluster_label \n",
    "    \n",
    "    \n",
    "    "
   ]
  },
  {
   "cell_type": "code",
   "execution_count": 19,
   "metadata": {},
   "outputs": [],
   "source": [
    "def get_purity(clusters_label,N):\n",
    "    purity=0.0\n",
    "    for each_centroid in clusters_label:\n",
    "        cluster_targets = clusters_label[each_centroid]\n",
    "        frequency=Counter(cluster_targets)\n",
    "        key_max=max(cluster_targets, key=cluster_targets.count)\n",
    "        purity += frequency[key_max]\n",
    "    purity = purity/N\n",
    "    return purity"
   ]
  },
  {
   "cell_type": "code",
   "execution_count": 20,
   "metadata": {},
   "outputs": [],
   "source": [
    "def calculate_purity(labels,target,N):\n",
    "    clusters_label = {}\n",
    "    label_len = N\n",
    "    for i in range(N):\n",
    "        if(labels[i]==-1):\n",
    "            label_len=label_len-1\n",
    "            continue\n",
    "        clusters_label.setdefault(labels[i],[]).append(target[i])\n",
    "    \n",
    "    return get_purity(clusters_label,label_len)"
   ]
  },
  {
   "cell_type": "code",
   "execution_count": 21,
   "metadata": {},
   "outputs": [],
   "source": [
    "### sum(m[i][j]) where 0<=i<=number of true clusters\n",
    "def get_Mj(m,j):\n",
    "    Mj=0.0\n",
    "    for i in range(m.shape[0]):\n",
    "        if(m[i][j]==0.0):\n",
    "            continue\n",
    "            \n",
    "        Mj += m[i][j]\n",
    "    return Mj"
   ]
  },
  {
   "cell_type": "code",
   "execution_count": 22,
   "metadata": {},
   "outputs": [],
   "source": [
    "def column_gini_index(m,j):\n",
    "    Gj=0.0\n",
    "    Mj = get_Mj(m,j)\n",
    "    for i in range(m.shape[0]):\n",
    "        if(m[i][j]==0.0):\n",
    "            continue\n",
    "        Gj+=math.pow(m[i][j]/Mj,2)\n",
    "    return 1-Gj"
   ]
  },
  {
   "cell_type": "code",
   "execution_count": 23,
   "metadata": {},
   "outputs": [],
   "source": [
    "def get_gini_index(m):\n",
    "    gini_index = 0.0\n",
    "    gini_index_denominator = 0.0\n",
    "    gini_index_numerator = 0.0\n",
    "    for j in range(m.shape[1]):\n",
    "        Mj = get_Mj(m,j)\n",
    "        gini_index_denominator += Mj\n",
    "        gini_index_numerator += column_gini_index(m,j)*Mj\n",
    "    gini_index = gini_index_numerator/gini_index_denominator\n",
    "    return gini_index"
   ]
  },
  {
   "cell_type": "code",
   "execution_count": 24,
   "metadata": {},
   "outputs": [],
   "source": [
    "def calculate_gini(labels,target,tk,td,N):\n",
    "    m = np.zeros((tk,td))\n",
    "    #print(m.shape)\n",
    "    for i in range(N):\n",
    "        if(labels[i]==-1):\n",
    "            continue\n",
    "        \n",
    "        m[target[i]][labels[i]] += 1\n",
    "    \n",
    "    return get_gini_index(m)\n",
    "\n"
   ]
  },
  {
   "cell_type": "code",
   "execution_count": 211,
   "metadata": {},
   "outputs": [
    {
     "name": "stdout",
     "output_type": "stream",
     "text": [
      "expanding clusters\n",
      "expanding clusters\n",
      "expanding clusters\n",
      "expanding clusters\n",
      "expanding clusters\n",
      "expanding clusters\n",
      "expanding clusters\n",
      "expanding clusters\n",
      "expanding clusters\n",
      "expanding clusters\n",
      "expanding clusters\n",
      "expanding clusters\n",
      "expanding clusters\n",
      "expanding clusters\n",
      "expanding clusters\n",
      "expanding clusters\n",
      "expanding clusters\n",
      "expanding clusters\n",
      "expanding clusters\n",
      "expanding clusters\n",
      "expanding clusters\n",
      "expanding clusters\n",
      "expanding clusters\n",
      "expanding clusters\n",
      "expanding clusters\n",
      "expanding clusters\n",
      "expanding clusters\n",
      "expanding clusters\n",
      "expanding clusters\n",
      "expanding clusters\n",
      "expanding clusters\n",
      "expanding clusters\n",
      "number of clusters: 16\n",
      "distribution: Counter({-1: 10865, 2: 323, 5: 33, 1: 11, 9: 11, 4: 10, 12: 10, 8: 8, 10: 8, 3: 5, 6: 5, 7: 5, 15: 5, 11: 5, 13: 5, 14: 5})\n"
     ]
    }
   ],
   "source": [
    "#epsilon = 0.9, min points = 4\n",
    "cluster_label_20NG = DBScan(twentyng_data_vectors,ed_mat_20NG,0.9,4)\n",
    "y_predict_20NG = list(cluster_label_20NG.values())\n",
    "print(\"number of clusters:\",len(set(y_pred_20NG)))\n",
    "counter = Counter(y_pred_20NG)\n",
    "print(\"distribution:\",counter)\n"
   ]
  },
  {
   "cell_type": "code",
   "execution_count": 210,
   "metadata": {},
   "outputs": [
    {
     "name": "stdout",
     "output_type": "stream",
     "text": [
      "purity: 0.4238921001926782\n",
      "gini_index: 0.6090474710779298\n"
     ]
    }
   ],
   "source": [
    "print(\"purity:\",calculate_purity(y_predict_20NG,twentyng_target,ed_mat_20NG.shape[0]))\n",
    "print(\"gini_index:\",calculate_gini(y_predict_20NG,twentyng_target,len(set(twentyng_target)),len(set(y_predict_20NG)),ed_mat_20NG.shape[0]))\n",
    "\n"
   ]
  },
  {
   "cell_type": "code",
   "execution_count": null,
   "metadata": {},
   "outputs": [],
   "source": [
    "##epsilon = 0.9, min points = 4 was the best combination found for the sample data I am using. \n",
    "##epsilon = 0.9 was chosen based on the graph plotted against data points vs closest data points. \n",
    "##The knee dip was observed at 0.9 on the y-aix. \n",
    "##With different combinations of epsilon and min point, \n",
    "#(eps = 0.9 and min points = 4) was the best result giving the higher purity and lower gini index."
   ]
  },
  {
   "cell_type": "code",
   "execution_count": 216,
   "metadata": {},
   "outputs": [
    {
     "name": "stdout",
     "output_type": "stream",
     "text": [
      "number of clusters: 9\n",
      "distribution: Counter({-1: 10900, 2: 323, 4: 33, 1: 11, 5: 11, 3: 10, 7: 10, 8: 8, 6: 8})\n",
      "purity: 0.28743961352657005\n",
      "gini_index: 0.7511971920034917\n"
     ]
    }
   ],
   "source": [
    "#epsilon = 0.9, min points = 6\n",
    "cluster_label_20NG_iter1 = DBScan(twentyng_data_vectors,ed_mat_20NG,0.9,6)\n",
    "y_predict_20NG_iter1 = list(cluster_label_20NG_iter1.values())\n",
    "print(\"number of clusters:\",len(set(y_predict_20NG_iter1)))\n",
    "counter = Counter(y_predict_20NG_iter1)\n",
    "print(\"distribution:\",counter)\n",
    "\n",
    "print(\"purity:\",calculate_purity(y_predict_20NG_iter1,twentyng_target,ed_mat_20NG.shape[0]))\n",
    "print(\"gini_index:\",calculate_gini(y_predict_20NG_iter1,twentyng_target,len(set(twentyng_target)),len(set(y_predict_20NG_iter1)),ed_mat_20NG.shape[0]))\n",
    "\n"
   ]
  },
  {
   "cell_type": "code",
   "execution_count": 214,
   "metadata": {},
   "outputs": [
    {
     "name": "stdout",
     "output_type": "stream",
     "text": [
      "number of clusters: 6\n",
      "distribution: Counter({-1: 10928, 1: 323, 3: 32, 5: 11, 2: 10, 4: 10})\n",
      "purity: 0.24093264248704663\n",
      "gini_index: 0.7966208225115169\n"
     ]
    }
   ],
   "source": [
    "#epsilon = 0.9, min points = 10\n",
    "cluster_label_20NG_iter1 = DBScan(twentyng_data_vectors,ed_mat_20NG,0.9,10)\n",
    "y_predict_20NG_iter1 = list(cluster_label_20NG_iter1.values())\n",
    "print(\"number of clusters:\",len(set(y_predict_20NG_iter1)))\n",
    "counter = Counter(y_predict_20NG_iter1)\n",
    "print(\"distribution:\",counter)\n",
    "\n",
    "print(\"purity:\",calculate_purity(y_predict_20NG_iter1,twentyng_target,ed_mat_20NG.shape[0]))\n",
    "print(\"gini_index:\",calculate_gini(y_predict_20NG_iter1,twentyng_target,len(set(twentyng_target)),len(set(y_predict_20NG_iter1)),ed_mat_20NG.shape[0]))\n"
   ]
  },
  {
   "cell_type": "code",
   "execution_count": 215,
   "metadata": {},
   "outputs": [
    {
     "name": "stdout",
     "output_type": "stream",
     "text": [
      "number of clusters: 5\n",
      "distribution: Counter({-1: 6199, 1: 5103, 2: 4, 3: 4, 4: 4})\n",
      "purity: 0.06256109481915934\n",
      "gini_index: 0.9471768758108862\n"
     ]
    }
   ],
   "source": [
    "#epsilon = 1, min points = 4\n",
    "cluster_label_20NG = DBScan(twentyng_data_vectors,ed_mat_20NG,1,4)\n",
    "y_predict_20NG = list(cluster_label_20NG.values())\n",
    "print(\"number of clusters:\",len(set(y_predict_20NG)))\n",
    "counter = Counter(y_predict_20NG)\n",
    "print(\"distribution:\",counter)\n",
    "\n",
    "print(\"purity:\",calculate_purity(y_predict_20NG,twentyng_target,ed_mat_20NG.shape[0]))\n",
    "print(\"gini_index:\",calculate_gini(y_predict_20NG,twentyng_target,len(set(twentyng_target)),len(set(y_predict_20NG)),ed_mat_20NG.shape[0]))\n",
    "\n"
   ]
  },
  {
   "cell_type": "code",
   "execution_count": 166,
   "metadata": {},
   "outputs": [],
   "source": [
    "points=[]\n",
    "for each_point in ed_mat_20NG:\n",
    "    c = np.sort(each_point)\n",
    "    points.append(c[:5][1])\n",
    "    \n"
   ]
  },
  {
   "cell_type": "code",
   "execution_count": 167,
   "metadata": {},
   "outputs": [],
   "source": [
    "x_points = range(0,ed_mat_20NG.shape[0])"
   ]
  },
  {
   "cell_type": "code",
   "execution_count": 168,
   "metadata": {},
   "outputs": [],
   "source": [
    "points = np.sort(points)[::-1]"
   ]
  },
  {
   "cell_type": "code",
   "execution_count": 169,
   "metadata": {},
   "outputs": [
    {
     "data": {
      "text/plain": [
       "[<matplotlib.lines.Line2D at 0x10c6c80f0>]"
      ]
     },
     "execution_count": 169,
     "metadata": {},
     "output_type": "execute_result"
    },
    {
     "data": {
      "image/png": "[encoded data removed]",
      "text/plain": [
       "<matplotlib.figure.Figure at 0x10a3b39e8>"
      ]
     },
     "metadata": {},
     "output_type": "display_data"
    }
   ],
   "source": [
    "plt.plot(x_points,points)"
   ]
  },
  {
   "cell_type": "code",
   "execution_count": null,
   "metadata": {},
   "outputs": [],
   "source": [
    "####################Fashion MNIST ####################################"
   ]
  },
  {
   "cell_type": "code",
   "execution_count": 217,
   "metadata": {},
   "outputs": [],
   "source": [
    "import pandas as pd\n",
    "fashion_data = pd.read_csv('fashion-mnist_test.csv')\n",
    "targets_fashion = fashion_data.label.values\n",
    "images = fashion_data.iloc[:,1:].values\n",
    "images = images.astype(np.float)\n",
    "# print(images.shape)\n",
    "#f_X, f_y = fashion_data.iloc[:,:fashion_data.shape[1]-1], fashion_data.iloc[:,-1]\n",
    "normalized_images = np.divide(images,255)"
   ]
  },
  {
   "cell_type": "code",
   "execution_count": 218,
   "metadata": {},
   "outputs": [],
   "source": [
    "ed_mat_F_MNIST = euclidean_distances(normalized_images)"
   ]
  },
  {
   "cell_type": "code",
   "execution_count": 267,
   "metadata": {},
   "outputs": [
    {
     "data": {
      "text/plain": [
       "[<matplotlib.lines.Line2D at 0x114f69e48>]"
      ]
     },
     "execution_count": 267,
     "metadata": {},
     "output_type": "execute_result"
    },
    {
     "data": {
      "image/png": "[encoded data removed]",
      "text/plain": [
       "<matplotlib.figure.Figure at 0x113e5aac8>"
      ]
     },
     "metadata": {},
     "output_type": "display_data"
    }
   ],
   "source": [
    "points=[]\n",
    "for each_point in ed_mat_F_MNIST:\n",
    "    c = np.sort(each_point)\n",
    "    points.append(c[:5][1])\n",
    "x_points = range(0,ed_mat_F_MNIST.shape[0])\n",
    "points = np.sort(points)[::-1]\n",
    "plt.plot(x_points,points)"
   ]
  },
  {
   "cell_type": "code",
   "execution_count": 268,
   "metadata": {},
   "outputs": [
    {
     "name": "stdout",
     "output_type": "stream",
     "text": [
      "number of clusters: 52\n",
      "distribution: Counter({-1: 8601, 4: 623, 3: 247, 6: 145, 2: 55, 9: 33, 8: 30, 18: 19, 27: 15, 5: 14, 21: 10, 23: 9, 19: 8, 31: 8, 14: 8, 30: 8, 7: 7, 40: 6, 11: 6, 22: 6, 29: 6, 13: 6, 16: 6, 46: 6, 32: 6, 12: 5, 10: 5, 43: 5, 36: 5, 24: 5, 26: 5, 39: 5, 1: 4, 34: 4, 17: 4, 47: 4, 38: 4, 42: 4, 20: 4, 28: 4, 15: 4, 48: 4, 51: 4, 37: 4, 25: 4, 35: 4, 33: 4, 45: 4, 50: 4, 44: 3, 41: 3, 49: 3})\n",
      "purity: 0.902072909220872\n",
      "gini_index: 0.12680028055283132\n"
     ]
    }
   ],
   "source": [
    "#epsilon = 1, min points = 4\n",
    "cluster_label_F_MNIST = DBScan(normalized_images,ed_mat_F_MNIST,3,4)\n",
    "y_predict_F_MNIST = list(cluster_label_F_MNIST.values())\n",
    "print(\"number of clusters:\",len(set(y_predict_F_MNIST)))\n",
    "counter = Counter(y_predict_F_MNIST)\n",
    "print(\"distribution:\",counter)\n",
    "\n",
    "print(\"purity:\",calculate_purity(y_predict_F_MNIST,targets_fashion,ed_mat_F_MNIST.shape[0]))\n",
    "print(\"gini_index:\",calculate_gini(y_predict_F_MNIST,targets_fashion,len(set(targets_fashion)),len(set(y_predict_F_MNIST)),ed_mat_F_MNIST.shape[0]))\n",
    "\n"
   ]
  },
  {
   "cell_type": "code",
   "execution_count": null,
   "metadata": {},
   "outputs": [],
   "source": [
    "##epsilon = 3, min points = 4 was the best combination found for the sample data I am using. \n",
    "##epsilon = 3 was chosen based on the graph plotted against data points vs closest data points. \n",
    "##The knee dip was observed at 3 on the y-aix. \n",
    "##With different combinations of epsilon and min point, \n",
    "#(eps = 3 and min points = 4) was the best result giving the higher purity and lower gini index."
   ]
  },
  {
   "cell_type": "code",
   "execution_count": 269,
   "metadata": {},
   "outputs": [
    {
     "name": "stdout",
     "output_type": "stream",
     "text": [
      "number of clusters: 68\n",
      "distribution: Counter({-1: 7726, 2: 854, 1: 739, 4: 120, 17: 46, 13: 36, 9: 29, 8: 28, 29: 28, 10: 27, 20: 26, 3: 22, 35: 19, 5: 15, 41: 13, 26: 12, 11: 9, 44: 9, 56: 9, 16: 8, 31: 7, 7: 7, 43: 7, 45: 7, 28: 7, 12: 6, 32: 6, 40: 6, 15: 6, 34: 6, 18: 6, 62: 6, 24: 6, 50: 6, 14: 5, 19: 5, 33: 5, 38: 5, 36: 5, 59: 5, 6: 4, 25: 4, 54: 4, 46: 4, 61: 4, 65: 4, 52: 4, 49: 4, 30: 4, 21: 4, 39: 4, 27: 4, 64: 4, 37: 4, 42: 4, 57: 4, 66: 4, 48: 4, 60: 4, 67: 4, 51: 4, 53: 4, 63: 3, 58: 3, 23: 3, 22: 3, 47: 3, 55: 3})\n",
      "purity: 0.748900615655233\n",
      "gini_index: 0.2916137561007955\n"
     ]
    }
   ],
   "source": [
    "#epsilon = 1, min points = 4\n",
    "cluster_label_F_MNIST = DBScan(normalized_images,ed_mat_F_MNIST,3.3,4)\n",
    "y_predict_F_MNIST = list(cluster_label_F_MNIST.values())\n",
    "print(\"number of clusters:\",len(set(y_predict_F_MNIST)))\n",
    "counter = Counter(y_predict_F_MNIST)\n",
    "print(\"distribution:\",counter)\n",
    "\n",
    "print(\"purity:\",calculate_purity(y_predict_F_MNIST,targets_fashion,ed_mat_F_MNIST.shape[0]))\n",
    "print(\"gini_index:\",calculate_gini(y_predict_F_MNIST,targets_fashion,len(set(targets_fashion)),len(set(y_predict_F_MNIST)),ed_mat_F_MNIST.shape[0]))\n"
   ]
  },
  {
   "cell_type": "code",
   "execution_count": 270,
   "metadata": {},
   "outputs": [
    {
     "name": "stdout",
     "output_type": "stream",
     "text": [
      "number of clusters: 59\n",
      "distribution: Counter({-1: 8091, 1: 700, 2: 444, 7: 269, 4: 61, 14: 39, 10: 36, 24: 25, 17: 22, 19: 21, 12: 19, 8: 17, 3: 12, 28: 11, 44: 10, 9: 9, 42: 9, 40: 8, 5: 8, 21: 8, 39: 8, 34: 8, 33: 7, 16: 6, 32: 6, 36: 6, 31: 6, 49: 6, 11: 5, 41: 5, 30: 5, 15: 5, 43: 5, 27: 5, 29: 5, 35: 5, 48: 5, 6: 4, 20: 4, 23: 4, 58: 4, 45: 4, 13: 4, 53: 4, 26: 4, 18: 4, 25: 4, 37: 4, 22: 4, 52: 4, 57: 4, 38: 4, 54: 4, 56: 4, 55: 4, 51: 3, 46: 3, 50: 3, 47: 2})\n",
      "purity: 0.8664222105814563\n",
      "gini_index: 0.16378632926805345\n"
     ]
    }
   ],
   "source": [
    "#epsilon = 1, min points = 4\n",
    "cluster_label_F_MNIST = DBScan(normalized_images,ed_mat_F_MNIST,3.2,4)\n",
    "y_predict_F_MNIST = list(cluster_label_F_MNIST.values())\n",
    "print(\"number of clusters:\",len(set(y_predict_F_MNIST)))\n",
    "counter = Counter(y_predict_F_MNIST)\n",
    "print(\"distribution:\",counter)\n",
    "\n",
    "print(\"purity:\",calculate_purity(y_predict_F_MNIST,targets_fashion,ed_mat_F_MNIST.shape[0]))\n",
    "print(\"gini_index:\",calculate_gini(y_predict_F_MNIST,targets_fashion,len(set(targets_fashion)),len(set(y_predict_F_MNIST)),ed_mat_F_MNIST.shape[0]))\n",
    "\n"
   ]
  },
  {
   "cell_type": "code",
   "execution_count": 266,
   "metadata": {},
   "outputs": [
    {
     "name": "stdout",
     "output_type": "stream",
     "text": [
      "number of clusters: 84\n",
      "distribution: Counter({-1: 8405, 7: 644, 1: 259, 10: 150, 6: 60, 23: 35, 20: 31, 36: 20, 50: 17, 16: 16, 11: 15, 4: 13, 15: 11, 43: 9, 34: 9, 67: 9, 3: 8, 5: 8, 21: 8, 29: 8, 33: 8, 48: 8, 49: 8, 59: 7, 26: 7, 17: 7, 61: 7, 55: 7, 13: 6, 31: 6, 30: 6, 44: 6, 66: 6, 65: 5, 19: 5, 24: 5, 35: 5, 46: 5, 9: 4, 14: 4, 79: 4, 39: 4, 25: 4, 38: 4, 83: 4, 41: 4, 45: 4, 58: 4, 62: 4, 63: 4, 64: 4, 2: 3, 8: 3, 12: 3, 40: 3, 18: 3, 22: 3, 51: 3, 60: 3, 28: 3, 27: 3, 37: 3, 78: 3, 32: 3, 54: 3, 42: 3, 74: 3, 47: 3, 80: 3, 52: 3, 77: 3, 71: 3, 53: 3, 56: 3, 57: 3, 75: 3, 70: 3, 73: 3, 68: 3, 69: 3, 82: 3, 81: 3, 72: 3, 76: 3})\n",
      "purity: 0.9047021943573668\n",
      "gini_index: 0.12341949240935045\n"
     ]
    }
   ],
   "source": [
    "#epsilon = 1, min points = 4\n",
    "cluster_label_F_MNIST = DBScan(normalized_images,ed_mat_F_MNIST,3,3)\n",
    "y_predict_F_MNIST = list(cluster_label_F_MNIST.values())\n",
    "print(\"number of clusters:\",len(set(y_predict_F_MNIST)))\n",
    "counter = Counter(y_predict_F_MNIST)\n",
    "print(\"distribution:\",counter)\n",
    "\n",
    "print(\"purity:\",calculate_purity(y_predict_F_MNIST,targets_fashion,ed_mat_F_MNIST.shape[0]))\n",
    "print(\"gini_index:\",calculate_gini(y_predict_F_MNIST,targets_fashion,len(set(targets_fashion)),len(set(y_predict_F_MNIST)),ed_mat_F_MNIST.shape[0]))\n"
   ]
  },
  {
   "cell_type": "code",
   "execution_count": 227,
   "metadata": {},
   "outputs": [
    {
     "name": "stdout",
     "output_type": "stream",
     "text": [
      "number of clusters: 9\n",
      "distribution: Counter({1: 8709, -1: 1258, 5: 7, 7: 5, 2: 5, 3: 5, 4: 4, 8: 4, 6: 3})\n",
      "purity: 0.11633493479752917\n",
      "gini_index: 0.8951686523346352\n"
     ]
    }
   ],
   "source": [
    "#epsilon = 1, min points = 4\n",
    "cluster_label_F_MNIST = DBScan(normalized_images,ed_mat_F_MNIST,5.5,4)\n",
    "y_predict_F_MNIST = list(cluster_label_F_MNIST.values())\n",
    "print(\"number of clusters:\",len(set(y_predict_F_MNIST)))\n",
    "counter = Counter(y_predict_F_MNIST)\n",
    "print(\"distribution:\",counter)\n",
    "\n",
    "print(\"purity:\",calculate_purity(y_predict_F_MNIST,targets_fashion,ed_mat_F_MNIST.shape[0]))\n",
    "print(\"gini_index:\",calculate_gini(y_predict_F_MNIST,targets_fashion,len(set(targets_fashion)),len(set(y_predict_F_MNIST)),ed_mat_F_MNIST.shape[0]))\n"
   ]
  },
  {
   "cell_type": "code",
   "execution_count": 228,
   "metadata": {},
   "outputs": [
    {
     "name": "stdout",
     "output_type": "stream",
     "text": [
      "number of clusters: 15\n",
      "distribution: Counter({1: 8044, -1: 1890, 4: 13, 3: 7, 7: 6, 8: 5, 11: 5, 2: 4, 10: 4, 5: 4, 13: 4, 14: 4, 12: 4, 9: 3, 6: 3})\n",
      "purity: 0.1279901356350185\n",
      "gini_index: 0.8891344829087369\n"
     ]
    }
   ],
   "source": [
    "#epsilon = 1, min points = 4\n",
    "cluster_label_F_MNIST = DBScan(normalized_images,ed_mat_F_MNIST,5.1,4)\n",
    "y_predict_F_MNIST = list(cluster_label_F_MNIST.values())\n",
    "print(\"number of clusters:\",len(set(y_predict_F_MNIST)))\n",
    "counter = Counter(y_predict_F_MNIST)\n",
    "print(\"distribution:\",counter)\n",
    "\n",
    "print(\"purity:\",calculate_purity(y_predict_F_MNIST,targets_fashion,ed_mat_F_MNIST.shape[0]))\n",
    "print(\"gini_index:\",calculate_gini(y_predict_F_MNIST,targets_fashion,len(set(targets_fashion)),len(set(y_predict_F_MNIST)),ed_mat_F_MNIST.shape[0]))\n"
   ]
  },
  {
   "cell_type": "code",
   "execution_count": 226,
   "metadata": {},
   "outputs": [
    {
     "name": "stdout",
     "output_type": "stream",
     "text": [
      "number of clusters: 12\n",
      "distribution: Counter({1: 7835, -1: 2110, 3: 12, 5: 11, 2: 5, 9: 4, 10: 4, 4: 4, 11: 4, 8: 4, 7: 4, 6: 3})\n",
      "purity: 0.12953105196451203\n",
      "gini_index: 0.889022320575214\n"
     ]
    }
   ],
   "source": [
    "#epsilon = 1, min points = 4\n",
    "cluster_label_F_MNIST = DBScan(normalized_images,ed_mat_F_MNIST,5,4)\n",
    "y_predict_F_MNIST = list(cluster_label_F_MNIST.values())\n",
    "print(\"number of clusters:\",len(set(y_predict_F_MNIST)))\n",
    "counter = Counter(y_predict_F_MNIST)\n",
    "print(\"distribution:\",counter)\n",
    "\n",
    "print(\"purity:\",calculate_purity(y_predict_F_MNIST,targets_fashion,ed_mat_F_MNIST.shape[0]))\n",
    "print(\"gini_index:\",calculate_gini(y_predict_F_MNIST,targets_fashion,len(set(targets_fashion)),len(set(y_predict_F_MNIST)),ed_mat_F_MNIST.shape[0]))\n",
    "\n"
   ]
  },
  {
   "cell_type": "code",
   "execution_count": 224,
   "metadata": {},
   "outputs": [
    {
     "name": "stdout",
     "output_type": "stream",
     "text": [
      "number of clusters: 5\n",
      "distribution: Counter({1: 7782, -1: 2195, 4: 10, 3: 8, 2: 5})\n",
      "purity: 0.12709801409352978\n",
      "gini_index: 0.8916760058816062\n"
     ]
    }
   ],
   "source": [
    "#epsilon = 1, min points = 4\n",
    "cluster_label_F_MNIST = DBScan(normalized_images,ed_mat_F_MNIST,5,5)\n",
    "y_predict_F_MNIST = list(cluster_label_F_MNIST.values())\n",
    "print(\"number of clusters:\",len(set(y_predict_F_MNIST)))\n",
    "counter = Counter(y_predict_F_MNIST)\n",
    "print(\"distribution:\",counter)\n",
    "\n",
    "print(\"purity:\",calculate_purity(y_predict_F_MNIST,targets_fashion,ed_mat_F_MNIST.shape[0]))\n",
    "print(\"gini_index:\",calculate_gini(y_predict_F_MNIST,targets_fashion,len(set(targets_fashion)),len(set(y_predict_F_MNIST)),ed_mat_F_MNIST.shape[0]))\n"
   ]
  },
  {
   "cell_type": "code",
   "execution_count": 225,
   "metadata": {},
   "outputs": [
    {
     "name": "stdout",
     "output_type": "stream",
     "text": [
      "number of clusters: 4\n",
      "distribution: Counter({1: 9249, -1: 740, 2: 7, 3: 4})\n",
      "purity: 0.10874730021598272\n",
      "gini_index: 0.8984370667889778\n"
     ]
    }
   ],
   "source": [
    "#epsilon = 1, min points = 4\n",
    "cluster_label_F_MNIST = DBScan(normalized_images,ed_mat_F_MNIST,6,5)\n",
    "y_predict_F_MNIST = list(cluster_label_F_MNIST.values())\n",
    "print(\"number of clusters:\",len(set(y_predict_F_MNIST)))\n",
    "counter = Counter(y_predict_F_MNIST)\n",
    "print(\"distribution:\",counter)\n",
    "\n",
    "print(\"purity:\",calculate_purity(y_predict_F_MNIST,targets_fashion,ed_mat_F_MNIST.shape[0]))\n",
    "print(\"gini_index:\",calculate_gini(y_predict_F_MNIST,targets_fashion,len(set(targets_fashion)),len(set(y_predict_F_MNIST)),ed_mat_F_MNIST.shape[0]))\n"
   ]
  },
  {
   "cell_type": "code",
   "execution_count": null,
   "metadata": {},
   "outputs": [],
   "source": [
    "#epsilon = 1, min points = 4\n",
    "cluster_label_F_MNIST = DBScan(normalized_images,ed_mat_F_MNIST,6,5)\n",
    "y_predict_F_MNIST = list(cluster_label_F_MNIST.values())\n",
    "print(\"number of clusters:\",len(set(y_predict_F_MNIST)))\n",
    "counter = Counter(y_predict_F_MNIST)\n",
    "print(\"distribution:\",counter)\n",
    "\n",
    "print(\"purity:\",calculate_purity(y_predict_F_MNIST,targets_fashion,ed_mat_F_MNIST.shape[0]))\n",
    "print(\"gini_index:\",calculate_gini(y_predict_F_MNIST,targets_fashion,len(set(targets_fashion)),len(set(y_predict_F_MNIST)),ed_mat_F_MNIST.shape[0]))\n"
   ]
  },
  {
   "cell_type": "code",
   "execution_count": null,
   "metadata": {},
   "outputs": [],
   "source": [
    "####################Household ####################################"
   ]
  },
  {
   "cell_type": "code",
   "execution_count": 25,
   "metadata": {},
   "outputs": [
    {
     "name": "stderr",
     "output_type": "stream",
     "text": [
      "/usr/local/lib/python3.6/site-packages/IPython/core/interactiveshell.py:2728: DtypeWarning: Columns (2,3,4,5,6,7) have mixed types. Specify dtype option on import or set low_memory=False.\n",
      "  interactivity=interactivity, compiler=compiler, result=result)\n"
     ]
    }
   ],
   "source": [
    "house_data = pd.read_csv('household_power_consumption.txt',sep=';',header=0,usecols=[\"Global_active_power\", \"Global_reactive_power\"\n",
    "                                                                            , \"Voltage\",\"Global_intensity\",\"Sub_metering_1\",\n",
    "                                                                           \"Sub_metering_2\",\"Sub_metering_3\"])\n",
    "\n",
    "house_data = house_data.values"
   ]
  },
  {
   "cell_type": "code",
   "execution_count": 26,
   "metadata": {},
   "outputs": [],
   "source": [
    "\n",
    "row = house_data.shape[0]\n",
    "col = house_data.shape[1]\n",
    "new_row = 0\n",
    "for i in range(row):\n",
    "    skip_row = False\n",
    "    for j in range(col):\n",
    "        if(house_data[i][j]=='?' or house_data[i][j]=='.' or math.isnan(float(house_data[i][j]))):\n",
    "            skip_row = True\n",
    "            break\n",
    "    if skip_row == False:\n",
    "           new_row+=1\n",
    "cleaned_house_data = np.zeros((new_row,house_data.shape[1]))\n",
    "k=0\n",
    "for i in range(house_data.shape[0]):\n",
    "    skip_row = False\n",
    "    for j in range(house_data.shape[1]):\n",
    "           if(house_data[i][j]=='?' or house_data[i][j]=='.' or math.isnan(float(house_data[i][j]))):\n",
    "                  skip_row = True\n",
    "                  break\n",
    "    if skip_row == False:\n",
    "            for l in range(house_data.shape[1]):\n",
    "                  cleaned_house_data[k][l] = float(house_data[i][l])\n",
    "            k+=1\n",
    "              \n"
   ]
  },
  {
   "cell_type": "code",
   "execution_count": 30,
   "metadata": {},
   "outputs": [],
   "source": [
    "ed_mat_housing = euclidean_distances(cleaned_house_data[:10000])"
   ]
  },
  {
   "cell_type": "code",
   "execution_count": 33,
   "metadata": {},
   "outputs": [],
   "source": [
    "housing_sampled_data = cleaned_house_data[:10000]"
   ]
  },
  {
   "cell_type": "code",
   "execution_count": 31,
   "metadata": {},
   "outputs": [
    {
     "data": {
      "text/plain": [
       "[<matplotlib.lines.Line2D at 0x11938e630>]"
      ]
     },
     "execution_count": 31,
     "metadata": {},
     "output_type": "execute_result"
    },
    {
     "data": {
      "image/png": "[encoded data removed]",
      "text/plain": [
       "<matplotlib.figure.Figure at 0x11c446a90>"
      ]
     },
     "metadata": {},
     "output_type": "display_data"
    }
   ],
   "source": [
    "points=[]\n",
    "for each_point in ed_mat_housing:\n",
    "    c = np.sort(each_point)\n",
    "    points.append(c[:5][1])\n",
    "x_points = range(0,ed_mat_housing.shape[0])\n",
    "points = np.sort(points)[::-1]\n",
    "plt.plot(x_points,points)"
   ]
  },
  {
   "cell_type": "code",
   "execution_count": 34,
   "metadata": {},
   "outputs": [
    {
     "name": "stdout",
     "output_type": "stream",
     "text": [
      "number of clusters: 73\n",
      "distribution: Counter({11: 3533, 5: 1557, 4: 1223, -1: 1057, 14: 636, 2: 314, 13: 280, 10: 216, 12: 134, 21: 113, 24: 92, 8: 64, 35: 57, 15: 42, 36: 38, 32: 32, 3: 31, 42: 26, 16: 25, 9: 23, 25: 21, 31: 20, 18: 19, 23: 19, 37: 19, 27: 19, 34: 19, 41: 19, 44: 18, 49: 18, 40: 16, 17: 15, 22: 13, 58: 12, 6: 12, 69: 11, 39: 10, 64: 10, 28: 9, 59: 9, 45: 9, 7: 8, 26: 8, 1: 7, 19: 7, 33: 7, 38: 7, 47: 7, 54: 7, 70: 7, 20: 6, 29: 6, 30: 6, 43: 6, 46: 6, 48: 6, 56: 6, 60: 6, 62: 6, 65: 6, 57: 5, 51: 5, 61: 5, 55: 5, 50: 5, 52: 5, 53: 5, 63: 5, 66: 5, 67: 5, 68: 5, 71: 5, 72: 5})\n"
     ]
    }
   ],
   "source": [
    "\n",
    "cluster_label_housing = DBScan(housing_sampled_data,ed_mat_housing,1,5)\n",
    "y_predict_housing = list(cluster_label_housing.values())\n",
    "print(\"number of clusters:\",len(set(y_predict_housing)))\n",
    "counter = Counter(y_predict_housing)\n",
    "print(\"distribution:\",counter)\n"
   ]
  },
  {
   "cell_type": "code",
   "execution_count": null,
   "metadata": {},
   "outputs": [],
   "source": [
    "##epsilon = 1, min points = 5 was the best combination found for the sample data I am using. \n",
    "##epsilon = 0.9 was chosen based on the graph plotted against data points vs closest data points. \n",
    "##The knee dip was observed at 1 on the y-aix. \n",
    "##With different combinations of epsilon and min point, \n",
    "#(eps = 1 and min points = 5) was the best result giving the higher purity and lower gini index."
   ]
  },
  {
   "cell_type": "code",
   "execution_count": 35,
   "metadata": {},
   "outputs": [
    {
     "name": "stdout",
     "output_type": "stream",
     "text": [
      "number of clusters: 35\n",
      "distribution: Counter({6: 3481, -1: 1661, 3: 1533, 2: 1198, 7: 614, 12: 269, 1: 193, 16: 186, 8: 101, 13: 101, 17: 83, 15: 76, 22: 57, 4: 47, 11: 39, 23: 36, 20: 26, 9: 25, 28: 24, 5: 20, 10: 19, 24: 19, 18: 19, 21: 19, 27: 18, 33: 18, 19: 16, 30: 16, 14: 15, 25: 14, 26: 13, 32: 12, 29: 12, 31: 10, 34: 10})\n"
     ]
    }
   ],
   "source": [
    "\n",
    "cluster_label_housing = DBScan(housing_sampled_data,ed_mat_housing,1,10)\n",
    "y_predict_housing = list(cluster_label_housing.values())\n",
    "print(\"number of clusters:\",len(set(y_predict_housing)))\n",
    "counter = Counter(y_predict_housing)\n",
    "print(\"distribution:\",counter)\n",
    "\n"
   ]
  },
  {
   "cell_type": "code",
   "execution_count": null,
   "metadata": {},
   "outputs": [],
   "source": []
  }
 ],
 "metadata": {
  "kernelspec": {
   "display_name": "Python 3",
   "language": "python",
   "name": "python3"
  },
  "language_info": {
   "codemirror_mode": {
    "name": "ipython",
    "version": 3
   },
   "file_extension": ".py",
   "mimetype": "text/x-python",
   "name": "python",
   "nbconvert_exporter": "python",
   "pygments_lexer": "ipython3",
   "version": "3.6.4"
  }
 },
 "nbformat": 4,
 "nbformat_minor": 2
}
