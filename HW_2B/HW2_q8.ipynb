{
 "cells": [
  {
   "cell_type": "code",
   "execution_count": 26,
   "metadata": {},
   "outputs": [],
   "source": [
    "from sklearn.datasets import fetch_mldata\n",
    "from sklearn.cluster import AgglomerativeClustering\n",
    "from sklearn.metrics.pairwise import euclidean_distances\n",
    "import numpy as np\n",
    "import matplotlib.pyplot as plt\n",
    "from collections import Counter\n",
    "import math\n",
    "import pandas as pd"
   ]
  },
  {
   "cell_type": "code",
   "execution_count": 2,
   "metadata": {},
   "outputs": [],
   "source": [
    "mnist = fetch_mldata('MNIST original')\n",
    "normalized_dataset = np.divide(mnist.data,255)\n",
    "mnist_data = normalized_dataset\n",
    "mnist_target_data = mnist.target"
   ]
  },
  {
   "cell_type": "code",
   "execution_count": 3,
   "metadata": {},
   "outputs": [],
   "source": [
    "mnist_data_sample = mnist_data[:10000]\n",
    "mnist_target_sample = mnist_target_data[:10000]"
   ]
  },
  {
   "cell_type": "code",
   "execution_count": 22,
   "metadata": {},
   "outputs": [],
   "source": [
    "def get_purity(clusters_label,N):\n",
    "    purity=0.0\n",
    "    for each_centroid in clusters_label:\n",
    "        cluster_targets = clusters_label[each_centroid]\n",
    "        frequency=Counter(cluster_targets)\n",
    "        key_max=max(cluster_targets, key=cluster_targets.count)\n",
    "        purity += frequency[key_max]\n",
    "    purity = purity/N\n",
    "    return purity\n",
    "\n",
    "def calculate_purity(labels,target,N):\n",
    "    clusters_label = {}\n",
    "    label_len = N\n",
    "    for i in range(N):\n",
    "        if(labels[i]==-1):\n",
    "            label_len=label_len-1\n",
    "            continue\n",
    "        clusters_label.setdefault(labels[i],[]).append(target[i])\n",
    "    \n",
    "    return get_purity(clusters_label,label_len)\n",
    "\n",
    "### sum(m[i][j]) where 0<=i<=number of true clusters\n",
    "def get_Mj(m,j):\n",
    "    Mj=0.0\n",
    "    for i in range(m.shape[0]):\n",
    "        if(m[i][j]==0.0):\n",
    "            continue\n",
    "            \n",
    "        Mj += m[i][j]\n",
    "    return Mj\n",
    "\n",
    "def column_gini_index(m,j):\n",
    "    Gj=0.0\n",
    "    Mj = get_Mj(m,j)\n",
    "    for i in range(m.shape[0]):\n",
    "        if(m[i][j]==0.0):\n",
    "            continue\n",
    "        Gj+=math.pow(m[i][j]/Mj,2)\n",
    "    return 1-Gj\n",
    "\n",
    "def get_gini_index(m):\n",
    "    gini_index = 0.0\n",
    "    gini_index_denominator = 0.0\n",
    "    gini_index_numerator = 0.0\n",
    "    for j in range(m.shape[1]):\n",
    "        Mj = get_Mj(m,j)\n",
    "        gini_index_denominator += Mj\n",
    "        gini_index_numerator += column_gini_index(m,j)*Mj\n",
    "    gini_index = gini_index_numerator/gini_index_denominator\n",
    "    return gini_index\n",
    "\n",
    "def calculate_gini(labels,target,tk,td,N):\n",
    "    m = np.zeros((tk,td))\n",
    "    \n",
    "    for i in range(N):\n",
    "        #if(labels[i]==-1):\n",
    "        #    continue\n",
    "        m[int(target[i])][int(labels[i])] += 1\n",
    "    \n",
    "    return get_gini_index(m)\n",
    "\n",
    "\n"
   ]
  },
  {
   "cell_type": "code",
   "execution_count": 5,
   "metadata": {},
   "outputs": [],
   "source": [
    "x = AgglomerativeClustering(n_clusters=10)\n",
    "pred_labels = x.fit_predict(mnist_data_sample)"
   ]
  },
  {
   "cell_type": "code",
   "execution_count": 24,
   "metadata": {},
   "outputs": [
    {
     "name": "stdout",
     "output_type": "stream",
     "text": [
      "purity: 0.9991\n",
      "gini index: 0.0017953892241567388\n"
     ]
    }
   ],
   "source": [
    "print(\"purity:\",calculate_purity(pred_labels,mnist_target_sample,mnist_data_sample.shape[0]))\n",
    "print(\"gini index:\",calculate_gini(pred_labels,mnist_target_sample,len(set(mnist_target_sample)),len(set(pred_labels)),mnist_data_sample.shape[0]))"
   ]
  },
  {
   "cell_type": "code",
   "execution_count": 25,
   "metadata": {},
   "outputs": [],
   "source": [
    "x = AgglomerativeClustering(n_clusters=20)\n",
    "pred_labels = x.fit_predict(mnist_data_sample)"
   ]
  },
  {
   "cell_type": "code",
   "execution_count": 27,
   "metadata": {},
   "outputs": [
    {
     "name": "stdout",
     "output_type": "stream",
     "text": [
      "purity: 0.9991\n",
      "gini index: 0.0017945466335888875\n"
     ]
    }
   ],
   "source": [
    "print(\"purity:\",calculate_purity(pred_labels,mnist_target_sample,mnist_data_sample.shape[0]))\n",
    "print(\"gini index:\",calculate_gini(pred_labels,mnist_target_sample,len(set(mnist_target_sample)),len(set(pred_labels)),mnist_data_sample.shape[0]))"
   ]
  },
  {
   "cell_type": "code",
   "execution_count": null,
   "metadata": {},
   "outputs": [],
   "source": []
  }
 ],
 "metadata": {
  "kernelspec": {
   "display_name": "Python 3",
   "language": "python",
   "name": "python3"
  },
  "language_info": {
   "codemirror_mode": {
    "name": "ipython",
    "version": 3
   },
   "file_extension": ".py",
   "mimetype": "text/x-python",
   "name": "python",
   "nbconvert_exporter": "python",
   "pygments_lexer": "ipython3",
   "version": "3.6.4"
  }
 },
 "nbformat": 4,
 "nbformat_minor": 2
}
