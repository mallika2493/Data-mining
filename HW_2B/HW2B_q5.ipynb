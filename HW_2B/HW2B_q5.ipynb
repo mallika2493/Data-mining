{
 "cells": [
  {
   "cell_type": "code",
   "execution_count": 320,
   "metadata": {},
   "outputs": [],
   "source": [
    "import numpy as np\n",
    "import pandas as pd\n",
    "from sklearn.metrics.pairwise import euclidean_distances\n",
    "import matplotlib.pyplot as plt"
   ]
  },
  {
   "cell_type": "code",
   "execution_count": 321,
   "metadata": {},
   "outputs": [],
   "source": [
    "X = pd.read_csv('dbscan.csv')"
   ]
  },
  {
   "cell_type": "code",
   "execution_count": 322,
   "metadata": {},
   "outputs": [],
   "source": [
    "points = X.iloc[0:X.shape[0],2:4]\n",
    "points = points.values"
   ]
  },
  {
   "cell_type": "code",
   "execution_count": 323,
   "metadata": {},
   "outputs": [],
   "source": [
    "neighbors_points = X.iloc[0:X.shape[0],5:7].values\n",
    "neighbor_point_list = list()\n",
    "for each_neighbor in range(0,neighbors_points.shape[0]):\n",
    "    neighbor_point_list.append(list(map(int, neighbors_points[each_neighbor][0].split(\",\"))))\n",
    "\n",
    "\n"
   ]
  },
  {
   "cell_type": "code",
   "execution_count": 324,
   "metadata": {},
   "outputs": [],
   "source": [
    "ed_mat = euclidean_distances(points)"
   ]
  },
  {
   "cell_type": "code",
   "execution_count": 325,
   "metadata": {},
   "outputs": [],
   "source": [
    "def rangeQuery(ed_mat,eps,point_id):\n",
    "    n_points = ed_mat.shape[1]\n",
    "    seeds = []\n",
    "    for i in range(0, n_points):\n",
    "        if ed_mat[point_id][i]<eps:\n",
    "            seeds.append(i)\n",
    "    return seeds\n"
   ]
  },
  {
   "cell_type": "code",
   "execution_count": 350,
   "metadata": {},
   "outputs": [],
   "source": [
    "def expandCluster(ed_mat,point_id,eps,min_points,cluster_label,c_id,neighbors):\n",
    "    cluster_label[point_id] = c_id\n",
    "    neighbors_of_each_neighbor = []\n",
    "    each_neighbor_id = 0\n",
    "    while each_neighbor_id < len(neighbors):\n",
    "        \n",
    "        if(cluster_label[neighbors[each_neighbor_id]] == -1): #noise\n",
    "            cluster_label[neighbors[each_neighbor_id]] = c_id\n",
    "            \n",
    "        elif cluster_label[neighbors[each_neighbor_id]] == 0: #if label not assigned\n",
    "             cluster_label[neighbors[each_neighbor_id]] = c_id\n",
    "        \n",
    "        neighbors_of_each_neighbor = rangeQuery(ed_mat,eps,neighbors[each_neighbor_id])\n",
    "            \n",
    "        if len(neighbors_of_each_neighbor)>=min_points:\n",
    "            for each_neighbor in neighbors_of_each_neighbor:\n",
    "                if each_neighbor not in neighbors:\n",
    "                    neighbors.append(each_neighbor)\n",
    "        \n",
    "        each_neighbor_id+=1\n",
    "    return cluster_label\n",
    "            \n",
    "        "
   ]
  },
  {
   "cell_type": "code",
   "execution_count": 351,
   "metadata": {},
   "outputs": [],
   "source": [
    "def DBScan(x,ed_mat,eps,min_points):\n",
    "    cluster_label ={}\n",
    "    c_id = 0\n",
    "    #initialize each cluster id ed_mat\n",
    "    for point_id in range(x.shape[0]):\n",
    "        cluster_label[point_id] = 0\n",
    "    for point_id in range(x.shape[0]):\n",
    "        if not(cluster_label[point_id]==0):\n",
    "            continue\n",
    "        #neighbors = rangeQuery(ed_mat,eps,i)\n",
    "        #print(len(neighbor_point_list[point_id]))\n",
    "        if len(neighbor_point_list[point_id]) < min_points:    \n",
    "            cluster_label[point_id] = -1 #considering it as noise\n",
    "            \n",
    "        else:  \n",
    "            c_id+=1\n",
    "            cluster_label = expandCluster(ed_mat,point_id,eps,min_points,cluster_label,c_id,neighbor_point_list[point_id])\n",
    "    return list(cluster_label.values()) \n",
    "    \n",
    "    \n",
    "    "
   ]
  },
  {
   "cell_type": "code",
   "execution_count": 352,
   "metadata": {},
   "outputs": [],
   "source": [
    "y_pred = DBScan(points,ed_mat,7.5,3)"
   ]
  },
  {
   "cell_type": "code",
   "execution_count": 353,
   "metadata": {},
   "outputs": [
    {
     "name": "stdout",
     "output_type": "stream",
     "text": [
      "4\n"
     ]
    }
   ],
   "source": [
    "print(len(set(y_pred)))\n",
    "#print(neighbor_point_list) \n"
   ]
  },
  {
   "cell_type": "code",
   "execution_count": 354,
   "metadata": {},
   "outputs": [],
   "source": [
    "def visualize_clusters(points,y_pred):\n",
    "    x_values = []\n",
    "    y_values = []\n",
    "    for x,y in points:\n",
    "        #print(x)\n",
    "        #print(y)\n",
    "        x_values.append(x)\n",
    "        y_values.append(y)\n",
    "    plt.scatter(x_values,y_values,c=y_pred)"
   ]
  },
  {
   "cell_type": "code",
   "execution_count": 355,
   "metadata": {},
   "outputs": [
    {
     "data": {
      "image/png": "[encoded data removed]",
      "text/plain": [
       "<matplotlib.figure.Figure at 0x10f161e48>"
      ]
     },
     "metadata": {},
     "output_type": "display_data"
    }
   ],
   "source": [
    "visualize_clusters(points,y_pred)"
   ]
  },
  {
   "cell_type": "code",
   "execution_count": null,
   "metadata": {},
   "outputs": [],
   "source": []
  }
 ],
 "metadata": {
  "kernelspec": {
   "display_name": "Python 3",
   "language": "python",
   "name": "python3"
  },
  "language_info": {
   "codemirror_mode": {
    "name": "ipython",
    "version": 3
   },
   "file_extension": ".py",
   "mimetype": "text/x-python",
   "name": "python",
   "nbconvert_exporter": "python",
   "pygments_lexer": "ipython3",
   "version": "3.6.4"
  }
 },
 "nbformat": 4,
 "nbformat_minor": 2
}
