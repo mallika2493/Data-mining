{
 "cells": [
  {
   "cell_type": "code",
   "execution_count": 22,
   "metadata": {},
   "outputs": [],
   "source": [
    "from sklearn.linear_model import LogisticRegression\n",
    "from sklearn.tree import DecisionTreeClassifier\n",
    "from sklearn.model_selection import train_test_split\n",
    "import matplotlib.pyplot as plt \n",
    "import pandas as pd\n",
    "from sklearn.datasets import fetch_20newsgroups\n",
    "from sklearn.feature_extraction.text import TfidfVectorizer\n",
    "from sklearn import metrics\n",
    "import numpy as np"
   ]
  },
  {
   "cell_type": "code",
   "execution_count": 55,
   "metadata": {},
   "outputs": [],
   "source": [
    "def Logistic_Regression(X_train,X_test,y_train,y_test):\n",
    "    logreg = LogisticRegression(penalty='l1', random_state=42)\n",
    "    logreg.fit(X_train, y_train)\n",
    "    y_pred_train = logreg.predict(X_train)\n",
    "    y_pred = logreg.predict(X_test)\n",
    "    print(\"LR train accuracy\",metrics.accuracy_score(y_train, y_pred_train))\n",
    "    print(\"LR test accuracy\",metrics.accuracy_score(y_test, y_pred))"
   ]
  },
  {
   "cell_type": "code",
   "execution_count": 56,
   "metadata": {},
   "outputs": [],
   "source": [
    "def Decision_Trees(X_train,X_test,y_train,y_test):\n",
    "    \n",
    "    models = [DecisionTreeClassifier(random_state=42), \n",
    "          DecisionTreeClassifier(random_state=42, max_depth=10), \n",
    "          DecisionTreeClassifier(random_state=42, min_samples_leaf=2), \n",
    "          DecisionTreeClassifier(random_state=42, min_samples_split=3)]\n",
    "    for i in range(len(models)):\n",
    "        dectree = models[i]\n",
    "\n",
    "        dectree.fit(X_train, y_train)\n",
    "        \n",
    "        y_pred_train =  dectree.predict(X_train)\n",
    "        y_pred_test = dectree.predict(X_test)\n",
    "        print_key = ''\n",
    "\n",
    "        print(print_key,\",Train accuracy\",metrics.accuracy_score(X_train, y_pred_train))\n",
    "        print(print_key,\",Test accuracy\",metrics.accuracy_score(X_test, y_pred_test))"
   ]
  },
  {
   "cell_type": "code",
   "execution_count": 57,
   "metadata": {},
   "outputs": [],
   "source": [
    "#load 20NG\n",
    "twentyng_data = fetch_20newsgroups(subset='train',remove=('headers','footers','quotes'))\n",
    "vectorizer = TfidfVectorizer(stop_words='english',max_df=0.95,min_df=2)\n",
    "twentyng_data_vectors = vectorizer.fit_transform(twentyng_data.data)\n",
    "twentyng_target = twentyng_data.target"
   ]
  },
  {
   "cell_type": "code",
   "execution_count": 58,
   "metadata": {},
   "outputs": [
    {
     "name": "stdout",
     "output_type": "stream",
     "text": [
      "Twenty NG data\n",
      "Top 30 features for Decision Tree Classifier\n",
      "label: DT classifier:\n",
      "DT classifier: ,Train accuracy 0.9720316622691293\n",
      "DT classifier: ,Test accuracy 0.4833958221746117\n",
      "label: DT max depth = 10:\n",
      "DT max depth = 10: ,Train accuracy 0.24459102902374671\n",
      "DT max depth = 10: ,Test accuracy 0.22656668452062131\n",
      "label: DT min leafs = 2:\n",
      "DT min leafs = 2: ,Train accuracy 0.8424802110817942\n",
      "DT min leafs = 2: ,Test accuracy 0.47455811462238884\n",
      "label: DT min splits = 3:\n",
      "DT min splits = 3: ,Train accuracy 0.9411609498680739\n",
      "DT min splits = 3: ,Test accuracy 0.4724156400642742\n"
     ]
    }
   ],
   "source": [
    "\n",
    "tNGX_train, tNGX_test, tNGy_train, tNGy_test = train_test_split(twentyng_data_vectors, twentyng_target, test_size=0.33, random_state=42)\n",
    "print(\"Twenty NG data\")\n",
    "print(\"Top 30 features for Decision Tree Classifier\")\n",
    "models = [DecisionTreeClassifier(random_state=42), \n",
    "          DecisionTreeClassifier(random_state=42, max_depth=10), \n",
    "          DecisionTreeClassifier(random_state=42, min_samples_leaf=2), \n",
    "          DecisionTreeClassifier(random_state=42, min_samples_split=3)]\n",
    "for i in range(len(models)):\n",
    "    dectree = models[i]\n",
    "    \n",
    "    dectree.fit(tNGX_train, tNGy_train)\n",
    "    \n",
    "    if(i == 0): print_key = \"DT classifier:\"\n",
    "    elif(i == 1): print_key = \"DT max depth = 10:\"\n",
    "    elif(i == 2): print_key = \"DT min leafs = 2:\"\n",
    "    elif(i == 3): print_key = \"DT min splits = 3:\"\n",
    "    print(\"label:\",print_key)\n",
    "    \n",
    "    y_pred_train =  dectree.predict(tNGX_train)\n",
    "    y_pred_test = dectree.predict(tNGX_test)\n",
    "    \n",
    "    \n",
    "    print(print_key,\",Train accuracy\",metrics.accuracy_score(tNGy_train, y_pred_train))\n",
    "    print(print_key,\",Test accuracy\",metrics.accuracy_score(tNGy_test, y_pred_test))\n",
    "\n"
   ]
  },
  {
   "cell_type": "code",
   "execution_count": 59,
   "metadata": {},
   "outputs": [
    {
     "name": "stdout",
     "output_type": "stream",
     "text": [
      "LR train accuracy 0.7178100263852243\n",
      "LR test accuracy 0.6349758971612212\n"
     ]
    }
   ],
   "source": [
    "Logistic_Regression(tNGX_train, tNGX_test, tNGy_train, tNGy_test)\n"
   ]
  },
  {
   "cell_type": "code",
   "execution_count": 60,
   "metadata": {},
   "outputs": [
    {
     "name": "stdout",
     "output_type": "stream",
     "text": [
      "[('bike', 26.7757790754995), ('sale', 22.88435147023588), ('hockey', 22.491313796575604), ('dod', 21.869254913502587), ('encryption', 21.359571335814213), ('israeli', 20.860489760631967), ('space', 20.72374390448121), ('armenians', 18.198732938309558), ('nsa', 17.746875885188608), ('motif', 17.582710786541842), ('car', 17.575584589413808), ('circuit', 17.314821454743353), ('gun', 17.131892969154254), ('clipper', 17.017940530365347), ('arab', 16.90183053457361), ('ride', 16.878185048388954), ('firearms', 16.777615566847896), ('israel', 16.66173360694052), ('orbit', 16.603370789434738), ('launch', 15.989835410837477), ('windows', 15.845205302346585), ('privacy', 15.722521954505156), ('x11r5', 15.613898080718567), ('church', 15.484488228120325), ('bikes', 15.357458865031331), ('god', 15.249967790391867), ('graphics', 14.916384968300786), ('apple', 14.88417008277051), ('government', 14.813439087434508), ('widget', 14.579158366955088), ('offer', 14.445103212944131), ('doctor', 14.345438177287535), ('weapons', 14.268031173781072), ('christians', 14.22479196356216), ('3d', 14.16326509315386), ('mac', 13.994925493548852), ('disease', 13.986667115306059), ('cars', 13.759319192962387), ('motorcycle', 13.658668786544085), ('server', 13.65187267371866), ('turkish', 13.45734173526619), ('guns', 13.323680401403966), ('nhl', 13.091077361356335), ('helmet', 12.933008313613874), ('baseball', 12.806124857249001), ('cup', 12.641245957936137), ('sell', 12.604611333376141), ('mit', 12.528467321513915), ('shipping', 12.509237330601657), ('gordon', 12.500254679910569), ('playoff', 12.40515767343936), ('security', 12.374833983300299), ('kent', 12.344061947270838), ('riding', 12.309131463062133), ('cica', 12.221767439410671), ('royals', 12.178048163583139), ('jmd', 12.152185775642243), ('clients', 11.96919684613442), ('treatment', 11.957609832313397), ('alomar', 11.94276266882749), ('harley', 11.914468738942915), ('centris', 11.870469943410887), ('bios', 11.83139726647527), ('health', 11.754732506292896), ('thanks', 11.729734359483558), ('team', 11.68361140386815), ('armenian', 11.642671294120749), ('geb', 11.56308476513895), ('puck', 11.499078409634167), ('bobby', 11.332682937372605), ('secret', 11.283339499658222), ('rangers', 11.255298322249784), ('islam', 11.152773240212984), ('diet', 11.073152717913388), ('xterm', 11.049667139171957), ('objective', 10.932832991399525), ('spacecraft', 10.916135852616124), ('pov', 10.868545331509557), ('devils', 10.866906877176518), ('vesselin', 10.716482646023332), ('x11', 10.671802265035184), ('tax', 10.613399769606986), ('voltage', 10.46231229673059), ('image', 10.454456677029416), ('shuttle', 10.406473048163262), ('coach', 10.398140835357303), ('medical', 10.395018393444156), ('libertarians', 10.374973886802756), ('msg', 10.371523909705), ('se', 10.367518150024766), ('drive', 10.239307891915647), ('code', 10.096974008770179), ('window', 10.04749339599974), ('shafer', 10.020264541786425), ('key', 9.890739125116243), ('fbi', 9.863541120854379), ('arabs', 9.860234292164854), ('ford', 9.825107899893608), ('stadium', 9.762820760485624), ('montreal', 9.726215785107895), ('physician', 9.721623334352792), ('powerbook', 9.68370055298682), ('lc', 9.64078030214884), ('moral', 9.570301551712298), ('mets', 9.566600374052717), ('religion', 9.543045749529464), ('braves', 9.501673943617751), ('weapon', 9.49410557171527), ('clinton', 9.456003064535832), ('toyota', 9.44604676740537), ('condition', 9.438018577598411), ('68070', 9.420490593541757), ('resurrection', 9.411394003572074), ('ball', 9.298977799242985), ('christianity', 9.25333636836036), ('symptoms', 9.22977116390886), ('486', 9.218187380044359), ('players', 9.208780842122891), ('pitching', 9.188344493174645), ('solar', 9.173040667725514), ('motto', 9.136633550395002), ('serdar', 9.123868146084112), ('moon', 9.114277285755241), ('phillies', 9.077415233570356), ('files', 9.045963850371644), ('chi', 9.0416715618918), ('gateway', 9.038395970691294), ('atheism', 8.97144307737867), ('nl', 8.962026904262451), ('trial', 8.951904022865412), ('year', 8.938510529547633), ('quadra', 8.911467925208562), ('playoffs', 8.898910192020008), ('drugs', 8.859650193511811), ('monitor', 8.851455111890917), ('evidence', 8.840485051144872), ('pgp', 8.791134456133342), ('pain', 8.707898565976356), ('xlib', 8.701340089318284), ('christian', 8.671442429446259), ('pixmap', 8.662940383402974), ('giants', 8.621789363432807), ('runs', 8.619414794980466), ('career', 8.582320823336795), ('civilians', 8.478071874085359), ('bmw', 8.477249553282865), ('lib', 8.457943603832613), ('dealer', 8.456819810782013), ('ice', 8.379720540446169), ('8051', 8.358743191412227), ('funding', 8.32453136244826), ('atheist', 8.27924038729399), ('des', 8.26975083182291), ('rear', 8.245588656047381), ('jesus', 8.206844337049166), ('win3', 8.168370399806744), ('using', 8.11590948495135), ('phone', 8.114729735139363), ('congress', 8.108503136163023), ('engine', 8.08699116382604), ('nasa', 8.084934473101132), ('sun', 8.083548736488089), ('game', 8.04872292344885), ('gaza', 8.014997440663542), ('crypto', 8.012051819665533), ('scripture', 7.971465383918345), ('surface', 7.961126097594872), ('garrett', 7.873850133473575), ('jewish', 7.837581642586445), ('photography', 7.83472839722188), ('punishment', 7.8270636416544646), ('foods', 7.823918795808063), ('pitcher', 7.808083573838633), ('looking', 7.805561716449617), ('prize', 7.761602083443861), ('hit', 7.7483066354027805), ('monitors', 7.747861711578375), ('board', 7.709377154428017), ('blacks', 7.701928926061984), ('biker', 7.658032184397948), ('leafs', 7.653878117680114), ('gt', 7.616079969034013), ('koresh', 7.591876468513143), ('tiff', 7.578690330726103), ('piece', 7.534083666856713), ('file', 7.51506581548087), ('images', 7.508000866973878), ('holocaust', 7.4687712406011295), ('games', 7.432771201397278), ('yeast', 7.428755302495868), ('play', 7.409758447733133), ('uniforms', 7.399591954409493), ('summer', 7.368368379037078), ('memory', 7.299750477762578), ('president', 7.267934106011355), ('detroit', 7.25978411523007), ('animation', 7.2556836770584185), ('season', 7.222913570662394), ('risc', 7.22248112657742), ('cobb', 7.218226871239601)]\n",
      "new: ['bike', 'sale', 'hockey', 'dod', 'encryption', 'israeli', 'space', 'armenians', 'nsa', 'motif', 'car', 'circuit', 'gun', 'clipper', 'arab', 'ride', 'firearms', 'israel', 'orbit', 'launch', 'windows', 'privacy', 'x11r5', 'church', 'bikes', 'god', 'graphics', 'apple', 'government', 'widget', 'offer', 'doctor', 'weapons', 'christians', '3d', 'mac', 'disease', 'cars', 'motorcycle', 'server', 'turkish', 'guns', 'nhl', 'helmet', 'baseball', 'cup', 'sell', 'mit', 'shipping', 'gordon', 'playoff', 'security', 'kent', 'riding', 'cica', 'royals', 'jmd', 'clients', 'treatment', 'alomar', 'harley', 'centris', 'bios', 'health', 'thanks', 'team', 'armenian', 'geb', 'puck', 'bobby', 'secret', 'rangers', 'islam', 'diet', 'xterm', 'objective', 'spacecraft', 'pov', 'devils', 'vesselin', 'x11', 'tax', 'voltage', 'image', 'shuttle', 'coach', 'medical', 'libertarians', 'msg', 'se', 'drive', 'code', 'window', 'shafer', 'key', 'fbi', 'arabs', 'ford', 'stadium', 'montreal', 'physician', 'powerbook', 'lc', 'moral', 'mets', 'religion', 'braves', 'weapon', 'clinton', 'toyota', 'condition', '68070', 'resurrection', 'ball', 'christianity', 'symptoms', '486', 'players', 'pitching', 'solar', 'motto', 'serdar', 'moon', 'phillies', 'files', 'chi', 'gateway', 'atheism', 'nl', 'trial', 'year', 'quadra', 'playoffs', 'drugs', 'monitor', 'evidence', 'pgp', 'pain', 'xlib', 'christian', 'pixmap', 'giants', 'runs', 'career', 'civilians', 'bmw', 'lib', 'dealer', 'ice', '8051', 'funding', 'atheist', 'des', 'rear', 'jesus', 'win3', 'using', 'phone', 'congress', 'engine', 'nasa', 'sun', 'game', 'gaza', 'crypto', 'scripture', 'surface', 'garrett', 'jewish', 'photography', 'punishment', 'foods', 'pitcher', 'looking', 'prize', 'hit', 'monitors', 'board', 'blacks', 'biker', 'leafs', 'gt', 'koresh', 'tiff', 'piece', 'file', 'images', 'holocaust', 'games', 'yeast', 'play', 'uniforms', 'summer', 'memory', 'president', 'detroit', 'animation', 'season', 'risc', 'cobb']\n",
      "200\n",
      "LR train accuracy 0.5837730870712401\n",
      "LR test accuracy 0.5484734868773433\n"
     ]
    }
   ],
   "source": [
    "model = LogisticRegression(penalty='l1', C=1.0, random_state=42)\n",
    "model.fit(tNGX_train, tNGy_train)\n",
    "importance = model.coef_\n",
    "features = vectorizer.get_feature_names()\n",
    "final_features = {}\n",
    "final_k_features = []\n",
    "\n",
    "for i in range(len(importance)):\n",
    "        top_k_features = np.argsort(-importance[i])\n",
    "        \n",
    "        for j in range(200):\n",
    "            final_features[features[top_k_features[j]]] =  final_features.get(features[top_k_features[j]],0) + importance[i][top_k_features[j]]\n",
    "        \n",
    "#print(final_features)              \n",
    "final_features = sorted(final_features.items(), key=lambda t:t[1],reverse=True)[:200]\n",
    "print(final_features)\n",
    "for each_item in final_features:\n",
    "    final_k_features.append(each_item[0])\n",
    "print(\"new:\",final_k_features)\n",
    "print(len(final_k_features))\n",
    "# Convert train and test data to vectors based on k featuresv\n",
    "twentyng_data = fetch_20newsgroups(subset='train',remove=('headers','footers','quotes'))\n",
    "vectorizer = TfidfVectorizer(stop_words='english',max_df=0.95,min_df=2,vocabulary = final_k_features)\n",
    "twentyng_data_vectors = vectorizer.fit_transform(twentyng_data.data)\n",
    "twentyng_target = twentyng_data.target\n",
    "tNGX_train, tNGX_test, tNGy_train, tNGy_test = train_test_split(twentyng_data_vectors, twentyng_target, test_size=0.33, random_state=42)\n",
    "Logistic_Regression(tNGX_train,tNGX_test,tNGy_train,tNGy_test)        \n"
   ]
  },
  {
   "cell_type": "code",
   "execution_count": 61,
   "metadata": {},
   "outputs": [
    {
     "name": "stdout",
     "output_type": "stream",
     "text": [
      "Twenty NG data\n",
      "Top 30 features for Decision Tree Classifier\n",
      "label: DT classifier:\n",
      "DT classifier: ,Train accuracy 0.683641160949868\n",
      "DT classifier: ,Test accuracy 0.48580610605249064\n",
      "label: DT max depth = 10:\n",
      "DT max depth = 10: ,Train accuracy 0.2399736147757256\n",
      "DT max depth = 10: ,Test accuracy 0.2292447777182646\n",
      "label: DT min leafs = 2:\n",
      "DT min leafs = 2: ,Train accuracy 0.6187335092348285\n",
      "DT min leafs = 2: ,Test accuracy 0.4595607927155865\n",
      "label: DT min splits = 3:\n",
      "DT min splits = 3: ,Train accuracy 0.6745382585751979\n",
      "DT min splits = 3: ,Test accuracy 0.483663631494376\n"
     ]
    }
   ],
   "source": [
    "print(\"Twenty NG data\")\n",
    "print(\"Top 30 features for Decision Tree Classifier\")\n",
    "models = [DecisionTreeClassifier(random_state=42), \n",
    "          DecisionTreeClassifier(random_state=42, max_depth=10), \n",
    "          DecisionTreeClassifier(random_state=42, min_samples_leaf=2), \n",
    "          DecisionTreeClassifier(random_state=42, min_samples_split=3)]\n",
    "for i in range(len(models)):\n",
    "    dectree = models[i]\n",
    "    \n",
    "    dectree.fit(tNGX_train, tNGy_train)\n",
    "    \n",
    "    if(i == 0): print_key = \"DT classifier:\"\n",
    "    elif(i == 1): print_key = \"DT max depth = 10:\"\n",
    "    elif(i == 2): print_key = \"DT min leafs = 2:\"\n",
    "    elif(i == 3): print_key = \"DT min splits = 3:\"\n",
    "    print(\"label:\",print_key)\n",
    "    \n",
    "    y_pred_train =  dectree.predict(tNGX_train)\n",
    "    y_pred_test = dectree.predict(tNGX_test)\n",
    "    \n",
    "    \n",
    "    print(print_key,\",Train accuracy\",metrics.accuracy_score(tNGy_train, y_pred_train))\n",
    "    print(print_key,\",Test accuracy\",metrics.accuracy_score(tNGy_test, y_pred_test))"
   ]
  },
  {
   "cell_type": "code",
   "execution_count": null,
   "metadata": {},
   "outputs": [],
   "source": []
  }
 ],
 "metadata": {
  "kernelspec": {
   "display_name": "Python 3",
   "language": "python",
   "name": "python3"
  },
  "language_info": {
   "codemirror_mode": {
    "name": "ipython",
    "version": 3
   },
   "file_extension": ".py",
   "mimetype": "text/x-python",
   "name": "python",
   "nbconvert_exporter": "python",
   "pygments_lexer": "ipython3",
   "version": "3.6.4"
  }
 },
 "nbformat": 4,
 "nbformat_minor": 2
}
