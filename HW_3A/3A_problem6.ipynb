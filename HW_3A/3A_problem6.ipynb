{
 "cells": [
  {
   "cell_type": "code",
   "execution_count": 4,
   "metadata": {},
   "outputs": [],
   "source": [
    "from sklearn.decomposition import PCA\n",
    "from sklearn.datasets import fetch_20newsgroups\n",
    "from sklearn.datasets import fetch_mldata\n",
    "from sklearn.feature_extraction.text import TfidfVectorizer\n",
    "from sklearn.metrics.pairwise import euclidean_distances, cosine_distances\n",
    "from sklearn.model_selection import train_test_split\n",
    "from sklearn.linear_model import LogisticRegression\n",
    "from sklearn.tree import DecisionTreeClassifier\n",
    "import numpy as np\n",
    "from sklearn import metrics\n",
    "import pandas as pd\n",
    "import math\n",
    "import matplotlib.pyplot as plt"
   ]
  },
  {
   "cell_type": "code",
   "execution_count": 2,
   "metadata": {},
   "outputs": [],
   "source": [
    "mnist = fetch_mldata('MNIST original')\n",
    "normalized_dataset = np.divide(mnist.data,1)\n",
    "mnist_data = normalized_dataset\n",
    "mnist_target_data = mnist.target\n",
    "\n"
   ]
  },
  {
   "cell_type": "code",
   "execution_count": 7,
   "metadata": {},
   "outputs": [],
   "source": [
    "def distance(p0, p1):\n",
    "    return math.sqrt((p0[0] - p1[0])**2 + (p0[1] - p1[1])**2)"
   ]
  },
  {
   "cell_type": "code",
   "execution_count": 8,
   "metadata": {},
   "outputs": [],
   "source": [
    "def area(p0,p1):\n",
    "    A = p0\n",
    "    D = p1\n",
    "    B = [A[0],D[1]]\n",
    "    C = [D[0],A[1]]\n",
    "    #return (distance(C,A)*distance(C,D))\n",
    "    return ((C[0]-A[0])*(D[1] - C[1]))"
   ]
  },
  {
   "cell_type": "code",
   "execution_count": 5,
   "metadata": {},
   "outputs": [],
   "source": [
    "random_rectangles = []\n",
    "def generate_rectangles():\n",
    "    count = 1\n",
    "    \n",
    "    while count<=100:\n",
    "        p0 = []\n",
    "        p1 = []\n",
    "        p0.append(np.random.randint(27))\n",
    "        p0.append(np.random.randint(27))\n",
    "        p1.append(np.random.randint(27))\n",
    "        p1.append(np.random.randint(27))\n",
    "        \n",
    "        c = [p0,p1]\n",
    "        if (c in random_rectangles):\n",
    "            continue\n",
    "        \n",
    "                \n",
    "        if ((p0[0] < p1[0]) and (p0[1] < p1[1])):\n",
    "            if (not(area(p0,p1)<=170 and area(p0,p1)>=130)):\n",
    "                continue\n",
    "            random_rectangles.append(c)\n",
    "            count+=1\n",
    "                \n",
    "        elif ((p0[0] > p1[0]) and (p0[1] > p1[1])):\n",
    "            if (not(area(p0,p1)<=170 and area(p0,p1)>=130)):\n",
    "                continue\n",
    "            c = [p1,p0]\n",
    "            random_rectangles.append(c)\n",
    "            count+=1\n",
    "        \n",
    "    \n",
    "        \n",
    "            \n",
    "    print(random_rectangles)\n",
    "        \n",
    "    "
   ]
  },
  {
   "cell_type": "code",
   "execution_count": 6,
   "metadata": {},
   "outputs": [
    {
     "name": "stdout",
     "output_type": "stream",
     "text": [
      "[[[8, 4], [23, 13]], [[16, 0], [25, 15]], [[3, 11], [20, 19]], [[5, 11], [21, 20]], [[4, 8], [17, 21]], [[3, 13], [15, 25]], [[1, 18], [18, 26]], [[3, 3], [15, 15]], [[10, 6], [19, 23]], [[13, 9], [24, 23]], [[2, 4], [14, 17]], [[10, 2], [23, 13]], [[6, 9], [25, 17]], [[10, 6], [24, 16]], [[8, 9], [21, 21]], [[0, 12], [15, 21]], [[9, 14], [26, 22]], [[7, 13], [26, 21]], [[0, 7], [12, 19]], [[10, 0], [17, 19]], [[14, 4], [24, 20]], [[0, 6], [11, 20]], [[6, 4], [14, 23]], [[0, 8], [13, 20]], [[11, 9], [26, 19]], [[1, 4], [12, 19]], [[1, 3], [24, 9]], [[8, 0], [26, 9]], [[0, 15], [15, 25]], [[11, 3], [18, 25]], [[3, 15], [22, 22]], [[12, 2], [20, 21]], [[16, 2], [26, 18]], [[2, 13], [17, 24]], [[1, 2], [23, 9]], [[4, 1], [15, 16]], [[12, 3], [25, 13]], [[10, 5], [19, 21]], [[11, 6], [24, 19]], [[14, 4], [24, 21]], [[7, 7], [22, 16]], [[5, 11], [14, 26]], [[8, 4], [16, 23]], [[6, 4], [13, 26]], [[7, 8], [16, 23]], [[0, 13], [15, 23]], [[9, 3], [23, 15]], [[10, 14], [23, 24]], [[11, 10], [21, 23]], [[12, 2], [21, 17]], [[8, 2], [21, 14]], [[4, 18], [26, 24]], [[3, 12], [22, 20]], [[5, 2], [13, 22]], [[4, 2], [23, 9]], [[2, 0], [9, 20]], [[4, 10], [16, 24]], [[6, 6], [16, 20]], [[1, 7], [10, 25]], [[12, 5], [23, 18]], [[12, 5], [22, 22]], [[7, 13], [24, 22]], [[1, 1], [18, 11]], [[2, 14], [23, 21]], [[11, 5], [18, 26]], [[0, 10], [19, 18]], [[15, 12], [25, 26]], [[5, 12], [22, 20]], [[3, 13], [15, 24]], [[1, 12], [16, 23]], [[0, 16], [20, 24]], [[4, 9], [16, 23]], [[8, 1], [22, 13]], [[4, 1], [23, 8]], [[5, 12], [22, 21]], [[12, 3], [19, 25]], [[13, 3], [20, 24]], [[0, 16], [25, 22]], [[0, 16], [17, 24]], [[10, 3], [17, 24]], [[13, 1], [21, 20]], [[14, 7], [23, 24]], [[5, 6], [17, 19]], [[4, 5], [23, 13]], [[12, 3], [20, 24]], [[7, 4], [19, 16]], [[0, 6], [8, 23]], [[12, 13], [22, 26]], [[0, 10], [10, 26]], [[2, 0], [12, 15]], [[12, 4], [23, 17]], [[1, 9], [17, 18]], [[11, 11], [20, 26]], [[12, 13], [26, 24]], [[7, 1], [22, 10]], [[8, 8], [18, 25]], [[7, 6], [21, 16]], [[0, 1], [9, 17]], [[1, 10], [20, 17]], [[2, 4], [13, 18]]]\n"
     ]
    }
   ],
   "source": [
    "generate_rectangles()"
   ]
  },
  {
   "cell_type": "code",
   "execution_count": 84,
   "metadata": {},
   "outputs": [
    {
     "name": "stdout",
     "output_type": "stream",
     "text": [
      "100\n"
     ]
    }
   ],
   "source": [
    "print(len(random_rectangles))"
   ]
  },
  {
   "cell_type": "code",
   "execution_count": 13,
   "metadata": {},
   "outputs": [],
   "source": [
    "def half_point(p1,p2,axis):\n",
    "    \n",
    "    if axis == 0: #half the x coordinate\n",
    "        return [(p1[0]+p2[0])//2,p1[1]]\n",
    "    if axis == 1: #half the y coordinate\n",
    "        return [p1[0],(p1[1]+p2[1])//2]"
   ]
  },
  {
   "cell_type": "code",
   "execution_count": 12,
   "metadata": {},
   "outputs": [],
   "source": [
    "def black(image):\n",
    "    #first compute black(diag-rectangle OR)\n",
    "    #D = R\n",
    "    #C = Q\n",
    "    #print(\"A:\",A)\n",
    "    #print(\"B:\",B)\n",
    "    #print(\"C:\",C)\n",
    "    #print(\"D:\",D)\n",
    "    #DP implementation of corner rectangle\n",
    "    rows = image.shape[0]\n",
    "    columns = image.shape[1]\n",
    "    black = np.zeros((rows,columns))\n",
    "    #print(black.shape)\n",
    "    for j in range(columns):\n",
    "            if image[0][j] > 0.:\n",
    "                if j > 0:\n",
    "                    black[0][j] = black[0][j-1] + 1\n",
    "                else:\n",
    "                    black[0][j] =  1\n",
    "                \n",
    "    for i in range(rows):\n",
    "            #print(\"i:\",i)\n",
    "            #print(\"image[i][0]\",image[i][0])\n",
    "            if image[i][0] > 0.:\n",
    "                #print(i,image[i])\n",
    "                if i > 0:\n",
    "                    black[i][0] = black[i-1][0] + 1\n",
    "                else:\n",
    "                    black[i][0] = 1\n",
    "                #print(i,black[i])\n",
    "    #print(\"black initialized:black[0]\",black)\n",
    "        \n",
    "    for i in range(1,rows):\n",
    "        for j in range(1,columns):\n",
    "            black_dij = 0\n",
    "            if image[i][j] > 0.:\n",
    "                black_dij = 1\n",
    "            black[i][j] = black[i][j-1] + black[i-1][j] - black[i-1][j-1] + black_dij\n",
    "    \n",
    "    return black\n",
    "    "
   ]
  },
  {
   "cell_type": "code",
   "execution_count": 13,
   "metadata": {},
   "outputs": [],
   "source": [
    "def compute_feature_val(black_matrix,A,B,C,D):\n",
    "    #print(A,B,C,D)\n",
    "    result = black_matrix[D[0]][D[1]] - black_matrix[B[0]][B[1]] - black_matrix[C[0]][C[1]] + black_matrix[A[0]][A[1]]\n",
    "    return result"
   ]
  },
  {
   "cell_type": "code",
   "execution_count": 15,
   "metadata": {},
   "outputs": [],
   "source": [
    "vertical_feature = []\n",
    "horizontal_feature = []\n",
    "point_idx = -1\n",
    "\n",
    "new_data = np.zeros((mnist_data.shape[0],200))\n",
    "for data in mnist_data:\n",
    "    image = data.reshape(28,28)\n",
    "    #step 1: first find black(rectangle-diag(OD)) for all rectangles using DP\n",
    "    black_matrix = black(image)\n",
    "    #print(black_matrix)\n",
    "    point_idx+=1\n",
    "    #print(\"point_idx:\",point_idx)\n",
    "    feature_idy = 0\n",
    "    for each_rectangle in random_rectangles:\n",
    "        #each_rectangle = [[1,1],[20,20]]\n",
    "        tl = each_rectangle[0]\n",
    "        br = each_rectangle[1]\n",
    "        tr = [br[0],tl[1]]\n",
    "        bl = [tl[0],br[1]]\n",
    "        \n",
    "        ml = half_point(tl,br,0) #0 for horizontal half\n",
    "        mr = half_point(br,tr,0) \n",
    "        \n",
    "\n",
    "        \n",
    "        tm = half_point(tl,tr,1) #1 for vertical half\n",
    "        bm = half_point(bl,br,1)\n",
    "                    \n",
    "        #step2: Once we have the blacks computed for the corned each_rectangle, black(each_rectangle) can be computed\n",
    "                #i.e find black(ABQR) and black(QRCD) \n",
    "            #ABQR\n",
    "\n",
    "        X1 = (black_matrix[mr[0],mr[1]] - black_matrix[tr[0],tr[1]] - black_matrix[ml[0],ml[1]] + black_matrix[tl[0],tl[1]])\n",
    "            #QRCD\n",
    "\n",
    "            \n",
    "        X2 = (black_matrix[br[0],br[1]] - black_matrix[mr[0],mr[1]] - black_matrix[bl[0],bl[1]] + black_matrix[ml[0],ml[1]])\n",
    "            #AMCN\n",
    "\n",
    "        X3 = (black_matrix[bm[0],bm[1]] - black_matrix[tm[0],tm[1]] - black_matrix[bl[0],bl[1]] + black_matrix[tl[0],tl[1]])\n",
    "            #MBND\n",
    "\n",
    "        X4 = (black_matrix[br[0],br[1]] - black_matrix[tr[0],tr[1]] - black_matrix[bm[0],bm[1]] + black_matrix[tm[0],tm[1]])\n",
    "        \n",
    "\n",
    "        vf =  X1 - X2\n",
    "        hf =  X3 - X4 \n",
    "        #vf = X1 - (X - X1)\n",
    "        #hf = X3 - (X - X3)\n",
    "        #print(\"vf\",vf)\n",
    "        #print(\"hf\",hf)\n",
    "        #print(\"feature_idy:\",feature_idy)\n",
    "        \n",
    "        #print((X - X1),compute_feature_val(black_matrix,Q,R,C,D))\n",
    "        \n",
    "        new_data[point_idx][feature_idy] = vf\n",
    "        new_data[point_idx][feature_idy+1] = hf\n",
    "        \n",
    "        feature_idy+=2\n",
    "    \n",
    "    "
   ]
  },
  {
   "cell_type": "code",
   "execution_count": 16,
   "metadata": {},
   "outputs": [],
   "source": [
    "def Logistic_Regression(X_train,X_test,y_train,y_test):\n",
    "#     logreg = LogisticRegression()\n",
    "#     logreg.fit(X_train, y_train)\n",
    "    \n",
    "#     y_pred = logreg.predict(X_test)\n",
    "#     print(y_pred)\n",
    "#     print(\"accuracy\",logreg.score(X_test, y_pred))\n",
    "    clf = LogisticRegression()\n",
    "    clf.fit(X_train,y_train)\n",
    "    score = clf.score(X_test,y_test)\n",
    "    print(\"score:\",score)"
   ]
  },
  {
   "cell_type": "code",
   "execution_count": 17,
   "metadata": {},
   "outputs": [],
   "source": [
    "def Decision_Trees(X_train,X_test,y_train,y_test):\n",
    "    dectree = DecisionTreeClassifier(random_state=42)\n",
    "    dectree.fit(X_train, y_train)\n",
    "    \n",
    "    y_pred = dectree.predict(X_test)\n",
    "    print(\"accuracy\",metrics.accuracy_score(y_test, y_pred))"
   ]
  },
  {
   "cell_type": "code",
   "execution_count": 20,
   "metadata": {},
   "outputs": [
    {
     "name": "stdout",
     "output_type": "stream",
     "text": [
      "score: 0.9112\n",
      "accuracy 0.798\n"
     ]
    }
   ],
   "source": [
    "mnistX_train, mnistX_test, mnisty_train, mnisty_test = train_test_split(new_data, mnist_target_data, test_size=1/7.0, random_state=0)\n",
    "Logistic_Regression(mnistX_train, mnistX_test, mnisty_train, mnisty_test)\n",
    "Decision_Trees(mnistX_train, mnistX_test, mnisty_train, mnisty_test)\n"
   ]
  },
  {
   "cell_type": "code",
   "execution_count": 19,
   "metadata": {},
   "outputs": [
    {
     "data": {
      "text/plain": [
       "(70000, 200)"
      ]
     },
     "execution_count": 19,
     "metadata": {},
     "output_type": "execute_result"
    }
   ],
   "source": [
    "new_data.shape"
   ]
  },
  {
   "cell_type": "code",
   "execution_count": 7,
   "metadata": {},
   "outputs": [
    {
     "data": {
      "image/png": "[encoded data removed]",
      "text/plain": [
       "<matplotlib.figure.Figure at 0x108d659b0>"
      ]
     },
     "metadata": {},
     "output_type": "display_data"
    }
   ],
   "source": [
    "\n",
    "import matplotlib.pyplot as plt\n",
    "import matplotlib.patches as patches\n",
    "\n",
    "fig2 = plt.figure()\n",
    "ax2 = fig2.add_subplot(111, aspect='equal')\n",
    "for each_r in random_rectangles:\n",
    "    #A = [each_r[0][0]/float(255),each_r[0][1]/float(255)]\n",
    "    #D = [each_r[1][0]/float(255),each_r[1][1]/float(255)]\n",
    "    tl = each_r[0]\n",
    "    br = each_r[1]\n",
    "    tr = [br[0],tl[1]]\n",
    "    bl = [tl[0],br[1]]\n",
    "    \n",
    "    lims = (0, 27)\n",
    "    #height = distance(C,A)\n",
    "    #width = distance(C,D)\n",
    "    width = br[0] - tl[0]\n",
    "    \n",
    "    height = br[1] - tl[1]\n",
    "    \n",
    "    lims = (0, 27)\n",
    "    ax2.add_patch(\n",
    "    patches.Rectangle(\n",
    "        (tl[0],tl[1]),\n",
    "        width,\n",
    "        height,\n",
    "        fill=False      # remove background\n",
    "    )\n",
    "    )\n",
    "    plt.ylim(lims)\n",
    "    plt.xlim(lims)\n",
    "\n"
   ]
  },
  {
   "cell_type": "code",
   "execution_count": 11,
   "metadata": {},
   "outputs": [],
   "source": [
    "dummy_rectangles = []\n",
    "def generate_rectangles_dummy():\n",
    "    count = 1\n",
    "    \n",
    "    while count<=100:\n",
    "        p0 = []\n",
    "        p1 = []\n",
    "        p0.append(np.random.randint(27))\n",
    "        p0.append(np.random.randint(27))\n",
    "        p1.append(np.random.randint(27))\n",
    "        p1.append(np.random.randint(27))\n",
    "        \n",
    "        c = [p0,p1]\n",
    "        if (c in dummy_rectangles):\n",
    "            continue\n",
    "        \n",
    "                \n",
    "        if ((p0[0] < p1[0]) and (p0[1] < p1[1])):\n",
    "            if (not(area(p0,p1)<=170 and area(p0,p1)>=130)):\n",
    "                continue\n",
    "            dummy_rectangles.append(c)\n",
    "            count+=1\n",
    "                \n",
    "        elif ((p0[0] > p1[0]) and (p0[1] > p1[1])):\n",
    "            if (not(area(p0,p1)<=170 and area(p0,p1)>=130)):\n",
    "                continue\n",
    "            c = [p1,p0]\n",
    "            dummy_rectangles.append(c)\n",
    "            count+=1\n",
    "        \n",
    "    \n",
    "        \n",
    "            \n",
    "    #print(dummy_rectangles)"
   ]
  },
  {
   "cell_type": "code",
   "execution_count": 22,
   "metadata": {},
   "outputs": [
    {
     "name": "stdout",
     "output_type": "stream",
     "text": [
      "[4, 10] [17, 20] [17, 10] [4, 20]\n",
      "[4, 15] [17, 15] [10, 10] [10, 20]\n"
     ]
    }
   ],
   "source": [
    "generate_rectangles_dummy()\n",
    "each_r_ = dummy_rectangles[0]\n",
    "tl = each_r_[0]\n",
    "br = each_r_[1]\n",
    "tr = [br[0],tl[1]]\n",
    "bl = [tl[0],br[1]]\n",
    "print(tl,br,tr,bl)\n",
    "ml = half_point(tl,bl,1) #0 for horizontal half\n",
    "mr = half_point(tr,br,1) \n",
    "tm = half_point(tl,tr,0) #1 for vertical half\n",
    "bm = half_point(bl,br,0)\n",
    "print(ml,mr,tm,bm)"
   ]
  },
  {
   "cell_type": "code",
   "execution_count": null,
   "metadata": {},
   "outputs": [],
   "source": []
  }
 ],
 "metadata": {
  "kernelspec": {
   "display_name": "Python 3",
   "language": "python",
   "name": "python3"
  },
  "language_info": {
   "codemirror_mode": {
    "name": "ipython",
    "version": 3
   },
   "file_extension": ".py",
   "mimetype": "text/x-python",
   "name": "python",
   "nbconvert_exporter": "python",
   "pygments_lexer": "ipython3",
   "version": "3.6.4"
  }
 },
 "nbformat": 4,
 "nbformat_minor": 2
}
