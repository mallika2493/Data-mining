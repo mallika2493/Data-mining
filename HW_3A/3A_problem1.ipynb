{
 "cells": [
  {
   "cell_type": "code",
   "execution_count": 9,
   "metadata": {},
   "outputs": [],
   "source": [
    "from sklearn.datasets import fetch_mldata\n",
    "from sklearn.metrics.pairwise import cosine_similarity\n",
    "import numpy as np\n",
    "import operator\n",
    "from collections import Counter,OrderedDict\n",
    "from scipy.sparse import csr_matrix,vstack\n",
    "from scipy.sparse import find\n",
    "import math\n",
    "import time\n",
    "from sklearn.linear_model import LogisticRegression\n",
    "from sklearn.tree import DecisionTreeClassifier\n",
    "from sklearn.model_selection import train_test_split\n",
    "import matplotlib.pyplot as plt \n",
    "import pandas as pd\n",
    "from sklearn.datasets import fetch_20newsgroups\n",
    "from sklearn.feature_extraction.text import TfidfVectorizer\n",
    "from sklearn import metrics\n"
   ]
  },
  {
   "cell_type": "code",
   "execution_count": 42,
   "metadata": {},
   "outputs": [],
   "source": [
    "def Logistic_Regression(X_train,X_test,y_train,y_test):\n",
    "    logreg = LogisticRegression(penalty='l2', random_state=42)\n",
    "    logreg.fit(X_train, y_train)\n",
    "    coefficients = logreg.coef_\n",
    "    \n",
    "    for i in range(len(coefficients)):\n",
    "        top_k_features=np.argsort(-coefficients[i])\n",
    "        for k in range(30):\n",
    "            print(\"feature %d:%f\" % (top_k_features[k],coefficients[i][top_k_features[k]]))\n",
    "    y_pred = logreg.predict(X_test)\n",
    "    print(\"accuracy\",metrics.accuracy_score(y_test, y_pred))"
   ]
  },
  {
   "cell_type": "code",
   "execution_count": 55,
   "metadata": {},
   "outputs": [],
   "source": [
    "def Decision_Trees(X_train,X_test,y_train,y_test):\n",
    "    \n",
    "    models = [DecisionTreeClassifier(random_state=42), \n",
    "          DecisionTreeClassifier(random_state=42, max_depth=10), \n",
    "          DecisionTreeClassifier(random_state=42, min_samples_leaf=2), \n",
    "          DecisionTreeClassifier(random_state=42, min_samples_split=3)]\n",
    "    for i in range(len(models)):\n",
    "        dectree = models[i]\n",
    "        dectree.fit(X_train, y_train)\n",
    "        coefficients = dectree.feature_importances_\n",
    "        top_k_features=np.argsort(-coefficients)\n",
    "        for k in range(30):\n",
    "            print(\"feature %d:%f\" % (top_k_features[k],coefficients[top_k_features[k]]))\n",
    "        y_pred = dectree.predict(X_test)\n",
    "        print_key = ''\n",
    "        if(i == 0): print_key = \"DT classifier:\"\n",
    "        elif(i == 1): print_key = \"DT max depth = 10:\"\n",
    "        elif(i == 2): print_key = \"DT min leafs = 2:\"\n",
    "        elif(i == 3): print_key = \"DT min splits = 3:\"\n",
    "        print(print_key,metrics.accuracy_score(y_test, y_pred))"
   ]
  },
  {
   "cell_type": "code",
   "execution_count": 12,
   "metadata": {},
   "outputs": [],
   "source": [
    "#load MNIST data\n",
    "mnist = fetch_mldata('MNIST original')\n",
    "normalized_dataset = np.divide(mnist.data,255)\n",
    "mnist_data = normalized_dataset\n",
    "mnist_target_data = mnist.target"
   ]
  },
  {
   "cell_type": "code",
   "execution_count": 105,
   "metadata": {},
   "outputs": [
    {
     "name": "stdout",
     "output_type": "stream",
     "text": [
      "MNIST data\n",
      "Top 30 features and its F coefficients for Logistic Regression\n",
      "top 30 features for digit: 0\n",
      "[370 240 629 181 271 397 360 298 399 599 372  44 386 150 302 481 455 443\n",
      " 339 571 498 513 401 627 430 275 207 155 294 622]\n",
      "top 30 features for digit: 1\n",
      "[621 350  69 323 294 539 162 612 145 521 462 606 351 378 664 608 598 457\n",
      " 267 436 381 579 293 406 613 661 634 518 433 548]\n",
      "top 30 features for digit: 2\n",
      "[446 474 418 390 501 313 584 333 361 388 445 696 585 257 454 693 502 509\n",
      " 425 118 201 389 530 444 340 529 528 557 565 391]\n",
      "top 30 features for digit: 3\n",
      "[104 479 507 676 563  96 442 648 472 535 520 495 675 678 590 525 499 451\n",
      " 228 367 526 174 274 171 592 134 509 649 591 395]\n",
      "top 30 features for digit: 4\n",
      "[348 442 219 424 665 399 376 513 517 373 254 229 723 403 497 411 446 360\n",
      " 518 404 201 635 133 463 125 375 436 543 537 437]\n",
      "top 30 features for digit: 5\n",
      "[333 304 305 362 332 334 303 221 249 277 610 248 287 416 500 192 274 342\n",
      " 273 638 608 137 136 641 220 649 444 306 470 687]\n",
      "top 30 features for digit: 6\n",
      "[108  77  40 331 387  69  78 201 414 459 574  79 516 486 484 543 601  74\n",
      " 161 544 313 576 403 603 631 602 542  64  76 547]\n",
      "top 30 features for digit: 7\n",
      "[310 339 282 775 338 778 423 256 266 411 293 651 171 366 264 302 231 551\n",
      " 199 203 255 750 296 777 769 415 273 149 536 285]\n",
      "top 30 features for digit: 8\n",
      "[332 500 284 691 471 278 107 688 377 355 403 387 303 193 334 341 180 526\n",
      " 442 379 231 555 136 315 292 667 317 657 330 165]\n",
      "top 30 features for digit: 9\n",
      "[666 721 667 746 720 695 734 620 677 774 211 358 736 733 212 359 740 329\n",
      " 470 328 717 732 612 424 640 510 718 210 744 748]\n",
      "accuracy 0.918961038961039\n",
      "\\image digit0:\n"
     ]
    },
    {
     "data": {
      "image/png": "[encoded data removed]",
      "text/plain": [
       "<matplotlib.figure.Figure at 0x13a7f0f60>"
      ]
     },
     "metadata": {},
     "output_type": "display_data"
    },
    {
     "name": "stdout",
     "output_type": "stream",
     "text": [
      "\\image digit1:\n"
     ]
    },
    {
     "data": {
      "image/png": "[encoded data removed]",
      "text/plain": [
       "<matplotlib.figure.Figure at 0x1127a05f8>"
      ]
     },
     "metadata": {},
     "output_type": "display_data"
    },
    {
     "name": "stdout",
     "output_type": "stream",
     "text": [
      "\\image digit2:\n"
     ]
    },
    {
     "data": {
      "image/png": "[encoded data removed]",
      "text/plain": [
       "<matplotlib.figure.Figure at 0x113989dd8>"
      ]
     },
     "metadata": {},
     "output_type": "display_data"
    },
    {
     "name": "stdout",
     "output_type": "stream",
     "text": [
      "\\image digit3:\n"
     ]
    },
    {
     "data": {
      "image/png": "[encoded data removed]",
      "text/plain": [
       "<matplotlib.figure.Figure at 0x1305da160>"
      ]
     },
     "metadata": {},
     "output_type": "display_data"
    },
    {
     "name": "stdout",
     "output_type": "stream",
     "text": [
      "\\image digit4:\n"
     ]
    },
    {
     "data": {
      "image/png": "[encoded data removed]",
      "text/plain": [
       "<matplotlib.figure.Figure at 0x11371ab70>"
      ]
     },
     "metadata": {},
     "output_type": "display_data"
    },
    {
     "name": "stdout",
     "output_type": "stream",
     "text": [
      "\\image digit5:\n"
     ]
    },
    {
     "data": {
      "image/png": "[encoded data removed]",
      "text/plain": [
       "<matplotlib.figure.Figure at 0x13b1bf828>"
      ]
     },
     "metadata": {},
     "output_type": "display_data"
    },
    {
     "name": "stdout",
     "output_type": "stream",
     "text": [
      "\\image digit6:\n"
     ]
    },
    {
     "data": {
      "image/png": "[encoded data removed]",
      "text/plain": [
       "<matplotlib.figure.Figure at 0x131043438>"
      ]
     },
     "metadata": {},
     "output_type": "display_data"
    },
    {
     "name": "stdout",
     "output_type": "stream",
     "text": [
      "\\image digit7:\n"
     ]
    },
    {
     "data": {
      "image/png": "[encoded data removed]",
      "text/plain": [
       "<matplotlib.figure.Figure at 0x13103a5c0>"
      ]
     },
     "metadata": {},
     "output_type": "display_data"
    },
    {
     "name": "stdout",
     "output_type": "stream",
     "text": [
      "\\image digit8:\n"
     ]
    },
    {
     "data": {
      "image/png": "[encoded data removed]",
      "text/plain": [
       "<matplotlib.figure.Figure at 0x1129a5fd0>"
      ]
     },
     "metadata": {},
     "output_type": "display_data"
    },
    {
     "name": "stdout",
     "output_type": "stream",
     "text": [
      "\\image digit9:\n"
     ]
    },
    {
     "data": {
      "image/png": "[encoded data removed]",
      "text/plain": [
       "<matplotlib.figure.Figure at 0x13b237e10>"
      ]
     },
     "metadata": {},
     "output_type": "display_data"
    }
   ],
   "source": [
    "mnistX_train, mnistX_test, mnisty_train, mnisty_test = train_test_split(mnist_data, mnist_target_data, test_size=0.33, random_state=42)\n",
    "print(\"MNIST data\")\n",
    "print(\"Top 30 features and its F coefficients for Logistic Regression\")\n",
    "logreg = LogisticRegression(penalty='l2', random_state=42)\n",
    "logreg.fit(mnistX_train, mnisty_train)\n",
    "coefficients = logreg.coef_\n",
    "feature_image = []   \n",
    "\n",
    "for i in range(len(coefficients)):\n",
    "    top_k_features=np.argsort(-coefficients[i])\n",
    "    features = top_k_features[:30]\n",
    "    print(\"top 30 features for digit:\", str(i))\n",
    "    print(features)\n",
    "    \n",
    "    \n",
    "    row = []\n",
    "    col = []\n",
    "    for f in features:\n",
    "        row.append(int(f/28))\n",
    "        col.append(f%28)\n",
    "    new_feature_image = np.zeros((28,28))\n",
    "    for i in range(len(features)):\n",
    "        new_feature_image[row[i]][col[i]] = 255\n",
    "    feature_image.append(new_feature_image)  \n",
    "    \n",
    "y_pred = logreg.predict(mnistX_test)\n",
    "print(\"accuracy\",metrics.accuracy_score(mnisty_test, y_pred))\n",
    "\n",
    "# Print features\n",
    "for i in range(len(feature_image)):\n",
    "    print('\\image digit' + str(i) + ':')\n",
    "    plt.imshow(feature_image[i])\n",
    "    plt.show()"
   ]
  },
  {
   "cell_type": "code",
   "execution_count": 109,
   "metadata": {},
   "outputs": [
    {
     "name": "stdout",
     "output_type": "stream",
     "text": [
      "[489 350 435 347 542 211 432 270 597 486 155 354 273 550 296 290 405 656\n",
      " 657 352 297 596 458 658 301 380 404 234 598 515]\n",
      "DT classifier: train accuracy 1.0\n",
      "DT classifier: test accuracy 0.8680519480519481\n",
      "[489 350 435 347 542 211 432 270 597 486 155 354 273 550 296 290 405 656\n",
      " 657 352 297 596 458 301 658 234 380 404 267 515]\n",
      "DT max depth = 10: train accuracy 0.9055863539445629\n",
      "DT max depth = 10: test accuracy 0.8571428571428571\n",
      "[489 350 435 347 542 211 432 270 597 486 155 354 273 296 550 290 405 656\n",
      " 657 297 352 596 458 658 301 380 234 404 156 598]\n",
      "DT min leafs = 2: train accuracy 0.9753304904051173\n",
      "DT min leafs = 2: test accuracy 0.8664069264069264\n",
      "[489 350 435 347 542 211 432 270 597 486 155 354 273 550 296 290 405 656\n",
      " 657 352 297 458 596 658 301 380 234 404 598 319]\n",
      "DT min splits = 3: train accuracy 0.9914712153518124\n",
      "DT min splits = 3: test accuracy 0.866969696969697\n",
      "\\image digit DT classifier::\n"
     ]
    },
    {
     "data": {
      "image/png": "[encoded data removed]",
      "text/plain": [
       "<matplotlib.figure.Figure at 0x11375c4e0>"
      ]
     },
     "metadata": {},
     "output_type": "display_data"
    },
    {
     "name": "stdout",
     "output_type": "stream",
     "text": [
      "\\image digit DT max depth = 10::\n"
     ]
    },
    {
     "data": {
      "image/png": "[encoded data removed]",
      "text/plain": [
       "<matplotlib.figure.Figure at 0x1137b8be0>"
      ]
     },
     "metadata": {},
     "output_type": "display_data"
    },
    {
     "name": "stdout",
     "output_type": "stream",
     "text": [
      "\\image digit DT min leafs = 2::\n"
     ]
    },
    {
     "data": {
      "image/png": "[encoded data removed]",
      "text/plain": [
       "<matplotlib.figure.Figure at 0x13b1efba8>"
      ]
     },
     "metadata": {},
     "output_type": "display_data"
    },
    {
     "name": "stdout",
     "output_type": "stream",
     "text": [
      "\\image digit DT min splits = 3::\n"
     ]
    },
    {
     "data": {
      "image/png": "[encoded data removed]",
      "text/plain": [
       "<matplotlib.figure.Figure at 0x13aaeecf8>"
      ]
     },
     "metadata": {},
     "output_type": "display_data"
    }
   ],
   "source": [
    "models = [DecisionTreeClassifier(random_state=42), \n",
    "          DecisionTreeClassifier(random_state=42, max_depth=10), \n",
    "          DecisionTreeClassifier(random_state=42, min_samples_leaf=2), \n",
    "          DecisionTreeClassifier(random_state=42, min_samples_split=3)]\n",
    "feature_image = []\n",
    "for i in range(len(models)):\n",
    " \n",
    "        dectree = models[i]\n",
    "        dectree.fit(mnistX_train, mnisty_train)\n",
    "          \n",
    "        importances = dectree.feature_importances_\n",
    "        \n",
    "        top_k_features = np.argsort(-importances)\n",
    "        if(i == 0): print_key = \"DT classifier:\"\n",
    "        elif(i == 1): print_key = \"DT max depth = 10:\"\n",
    "        elif(i == 2): print_key = \"DT min leafs = 2:\"\n",
    "        elif(i == 3): print_key = \"DT min splits = 3:\"\n",
    "        features = top_k_features[:30]\n",
    "        \n",
    "        print(features)\n",
    "\n",
    "        row = []\n",
    "        col = []\n",
    "        for f in features:\n",
    "            \n",
    "            row.append(int(f/28))\n",
    "            col.append(int(f%28))\n",
    "        new_feature_image = np.zeros((28,28))\n",
    "        for m in range(len(features)):\n",
    "            new_feature_image[row[m]][col[m]] = 255\n",
    "        feature_image.append(new_feature_image)  \n",
    "        \n",
    "        y_train_pred = dectree.predict(mnistX_train)\n",
    "        y_test_pred = dectree.predict(mnistX_test)\n",
    "        \n",
    "        \n",
    "        print(print_key,\"train accuracy\",metrics.accuracy_score(mnisty_train, y_train_pred))\n",
    "        print(print_key,\"test accuracy\",metrics.accuracy_score(mnisty_test, y_test_pred))\n",
    "\n",
    "    # Print features\n",
    "for m in range(len(feature_image)):\n",
    "    i = m\n",
    "    if(i == 0): print_key = \"DT classifier:\"\n",
    "    elif(i == 1): print_key = \"DT max depth = 10:\"\n",
    "    elif(i == 2): print_key = \"DT min leafs = 2:\"\n",
    "    elif(i == 3): print_key = \"DT min splits = 3:\"\n",
    "    print('\\image digit ' + print_key + ':')\n",
    "    plt.imshow(feature_image[m])\n",
    "    plt.show()"
   ]
  },
  {
   "cell_type": "code",
   "execution_count": 46,
   "metadata": {},
   "outputs": [],
   "source": [
    "#load spamdata\n",
    "X = pd.read_csv('spambase/spambase.data', header=None)\n",
    "spam_X, spam_y = X.iloc[:,:X.shape[1]-1], X.iloc[:,-1]"
   ]
  },
  {
   "cell_type": "code",
   "execution_count": 47,
   "metadata": {},
   "outputs": [
    {
     "name": "stdout",
     "output_type": "stream",
     "text": [
      "Spambase data\n",
      "Top 30 features and its F coefficients for Logistic Regression\n",
      "feature 52:3.417870\n",
      "feature 22:2.009960\n",
      "feature 6:1.939799\n",
      "feature 14:1.561937\n",
      "feature 8:1.114675\n",
      "feature 53:1.073565\n",
      "feature 15:1.007231\n",
      "feature 16:0.970039\n",
      "feature 35:0.929901\n",
      "feature 19:0.849976\n",
      "feature 3:0.759491\n",
      "feature 4:0.595114\n",
      "feature 5:0.548124\n",
      "feature 7:0.475365\n",
      "feature 27:0.340930\n",
      "feature 23:0.326591\n",
      "feature 20:0.264313\n",
      "feature 21:0.251881\n",
      "feature 51:0.210890\n",
      "feature 13:0.188685\n",
      "feature 33:0.177009\n",
      "feature 2:0.145663\n",
      "feature 18:0.101042\n",
      "feature 17:0.097812\n",
      "feature 9:0.086609\n",
      "feature 12:0.012256\n",
      "feature 55:0.006110\n",
      "feature 56:0.000816\n",
      "feature 54:-0.010720\n",
      "feature 30:-0.049071\n",
      "accuracy 0.9315339038841343\n"
     ]
    }
   ],
   "source": [
    "spamX_train, spamX_test, spamy_train, spamy_test = train_test_split(spam_X, spam_y, test_size=0.33, random_state=42)\n",
    "print(\"Spambase data\")\n",
    "print(\"Top 30 features and its F coefficients for Logistic Regression\")\n",
    "Logistic_Regression(spamX_train, spamX_test, spamy_train, spamy_test)"
   ]
  },
  {
   "cell_type": "code",
   "execution_count": 56,
   "metadata": {},
   "outputs": [
    {
     "name": "stdout",
     "output_type": "stream",
     "text": [
      "Spambase data\n",
      "Top 30 features for Decision Tree Classifier\n",
      "feature 52:0.331995\n",
      "feature 6:0.163785\n",
      "feature 51:0.085459\n",
      "feature 24:0.055010\n",
      "feature 54:0.052545\n",
      "feature 15:0.037147\n",
      "feature 55:0.025914\n",
      "feature 4:0.025563\n",
      "feature 18:0.018440\n",
      "feature 45:0.017019\n",
      "feature 26:0.014614\n",
      "feature 20:0.014001\n",
      "feature 56:0.011796\n",
      "feature 11:0.010462\n",
      "feature 2:0.010098\n",
      "feature 16:0.009158\n",
      "feature 7:0.008851\n",
      "feature 34:0.008072\n",
      "feature 49:0.007869\n",
      "feature 8:0.007483\n",
      "feature 35:0.007072\n",
      "feature 38:0.007026\n",
      "feature 44:0.005982\n",
      "feature 0:0.005510\n",
      "feature 10:0.005318\n",
      "feature 9:0.005284\n",
      "feature 25:0.004518\n",
      "feature 27:0.004229\n",
      "feature 5:0.004221\n",
      "feature 23:0.003534\n",
      "DT classifier: 0.9117840684660962\n",
      "feature 52:0.372435\n",
      "feature 6:0.184513\n",
      "feature 51:0.088272\n",
      "feature 24:0.060662\n",
      "feature 54:0.049308\n",
      "feature 15:0.035448\n",
      "feature 4:0.027923\n",
      "feature 45:0.019291\n",
      "feature 55:0.016756\n",
      "feature 18:0.015349\n",
      "feature 26:0.014045\n",
      "feature 20:0.009635\n",
      "feature 34:0.009107\n",
      "feature 8:0.008918\n",
      "feature 7:0.007441\n",
      "feature 56:0.006929\n",
      "feature 38:0.006686\n",
      "feature 16:0.006122\n",
      "feature 11:0.005639\n",
      "feature 35:0.004782\n",
      "feature 2:0.004770\n",
      "feature 48:0.003943\n",
      "feature 25:0.003679\n",
      "feature 3:0.003675\n",
      "feature 53:0.003488\n",
      "feature 44:0.003473\n",
      "feature 10:0.003078\n",
      "feature 22:0.002992\n",
      "feature 47:0.002895\n",
      "feature 23:0.002679\n",
      "DT max depth = 10: 0.9190256747860435\n",
      "feature 52:0.345293\n",
      "feature 6:0.170207\n",
      "feature 51:0.080209\n",
      "feature 24:0.060940\n",
      "feature 54:0.055813\n",
      "feature 15:0.034618\n",
      "feature 4:0.025307\n",
      "feature 55:0.022123\n",
      "feature 18:0.020313\n",
      "feature 20:0.018934\n",
      "feature 45:0.018349\n",
      "feature 11:0.016219\n",
      "feature 26:0.014272\n",
      "feature 56:0.012956\n",
      "feature 8:0.008612\n",
      "feature 34:0.008403\n",
      "feature 16:0.006408\n",
      "feature 38:0.006170\n",
      "feature 2:0.006119\n",
      "feature 7:0.005887\n",
      "feature 49:0.005593\n",
      "feature 10:0.005520\n",
      "feature 35:0.005519\n",
      "feature 44:0.004921\n",
      "feature 5:0.004083\n",
      "feature 0:0.004057\n",
      "feature 25:0.003395\n",
      "feature 48:0.003392\n",
      "feature 1:0.003261\n",
      "feature 27:0.002764\n",
      "DT min leafs = 2: 0.9045424621461488\n",
      "feature 52:0.334485\n",
      "feature 6:0.164687\n",
      "feature 51:0.085056\n",
      "feature 24:0.057871\n",
      "feature 54:0.053216\n",
      "feature 15:0.034672\n",
      "feature 55:0.026653\n",
      "feature 4:0.024625\n",
      "feature 26:0.017521\n",
      "feature 18:0.017516\n",
      "feature 45:0.017123\n",
      "feature 56:0.015416\n",
      "feature 20:0.014196\n",
      "feature 11:0.011613\n",
      "feature 34:0.009051\n",
      "feature 7:0.008912\n",
      "feature 2:0.008208\n",
      "feature 16:0.007961\n",
      "feature 8:0.007436\n",
      "feature 35:0.007121\n",
      "feature 38:0.007006\n",
      "feature 5:0.005608\n",
      "feature 10:0.005283\n",
      "feature 23:0.004813\n",
      "feature 44:0.004329\n",
      "feature 9:0.004300\n",
      "feature 0:0.003590\n",
      "feature 1:0.003572\n",
      "feature 27:0.003525\n",
      "feature 25:0.003283\n",
      "DT min splits = 3: 0.9078341013824884\n"
     ]
    }
   ],
   "source": [
    "print(\"Spambase data\")\n",
    "print(\"Top 30 features for Decision Tree Classifier\")\n",
    "Decision_Trees(spamX_train, spamX_test, spamy_train, spamy_test)"
   ]
  },
  {
   "cell_type": "code",
   "execution_count": 77,
   "metadata": {},
   "outputs": [],
   "source": [
    "#load 20NG\n",
    "twentyng_data = fetch_20newsgroups(subset='train',remove=('headers','footers','quotes'))\n",
    "vectorizer = TfidfVectorizer(stop_words='english',max_df=0.95,min_df=2)\n",
    "twentyng_data_vectors = vectorizer.fit_transform(twentyng_data.data)\n",
    "twentyng_target = twentyng_data.target\n"
   ]
  },
  {
   "cell_type": "code",
   "execution_count": 64,
   "metadata": {},
   "outputs": [
    {
     "name": "stdout",
     "output_type": "stream",
     "text": [
      "Twenty NG data\n",
      "Top 30 features and its F coefficients for Logistic Regression\n",
      "label: 0\n",
      "['atheism', 'islam', 'bobby', 'god', 'religion', 'islamic', 'atheist', 'religious', 'motto', 'satan', 'deletion', 'objective', 'bible', 'atheists', 'moral', 'don', 'freewill', 'tells', 'exist', 'punishment', 'argument', 'mozumder', 'kent', 'talking', 'muslims', 'qur', 'explain', 'species', 'rushdie', 'saying']\n",
      "label: 1\n",
      "['graphics', 'image', '3d', 'files', 'tiff', 'images', 'pov', 'cview', 'format', 'animation', 'program', 'polygon', 'points', 'vesa', 'code', 'thanks', '68070', 'gif', 'siggraph', 'package', 'file', 'surface', 'computer', 'xv', 'looking', 'hi', 'software', 'vga', 'hello', 'library']\n",
      "label: 2\n",
      "['windows', 'file', 'ax', 'cica', 'driver', 'files', 'drivers', 'fonts', 'problem', 'desktop', 'ini', 'win3', 'using', 'microsoft', 'version', 'nt', 'use', 'ms', 'program', 'win', 'font', 'dos', 'w4wg', 'ftp', 'manager', 'norton', 'zip', 'risc', 'printer', 'change']\n",
      "label: 3\n",
      "['bus', 'card', 'monitor', 'drive', '486', 'pc', 'scsi', 'ide', 'controller', 'gateway', 'bios', 'motherboard', 'isa', 'disk', 'drives', 'board', 'irq', 'computer', 'vlb', 'ibm', 'monitors', 'port', 'dma', 'cmos', 'switch', 'memory', 'machine', 'cpu', 'os', '1280x1024']\n",
      "label: 4\n",
      "['mac', 'apple', 'quadra', 'lc', 'se', 'centris', 'drive', 'nubus', 'simms', 'c650', 'duo', 'pds', 'fpu', 'problems', 'lciii', 'iisi', 'modem', 'clock', 'problem', 'monitor', 'machines', 'powerbook', 'vram', 'speed', 'slot', 'adb', 'cpu', 'macs', 'ethernet', 'internal']\n",
      "label: 5\n",
      "['window', 'server', 'motif', 'widget', 'x11r5', 'xterm', 'mit', 'application', 'sun', 'clients', 'widgets', 'code', 'lib', 'display', 'x11', 'openwindows', 'using', 'xlib', 'source', 'use', 'set', 'colormap', 'event', 'hi', 'r5', 'running', 'sunos', 'ncd', 'pixmap', 'font']\n",
      "label: 6\n",
      "['sale', 'offer', 'shipping', 'sell', '00', 'condition', 'interested', 'asking', 'email', 'new', 'price', 'includes', 'brand', 'mail', 'looking', 'offers', 'trade', 'cd', '10', 'selling', 'games', '25', 'postage', 'excellent', 'printer', 'obo', 'pay', 'ii', 'contact', 'manuals']\n",
      "label: 7\n",
      "['car', 'cars', 'engine', 'oil', 'dealer', 'ford', 'toyota', 'gt', 'vw', 'honda', 'auto', 'autos', 'tires', 'sho', 'air', 'road', 'price', 'bought', 'rear', 'driving', 'mazda', 'models', 'opel', 'wheel', 'accident', 'jeep', 'mileage', 'stuff', 'chevrolet', 'vehicle']\n",
      "label: 8\n",
      "['bike', 'dod', 'ride', 'helmet', 'motorcycle', 'bikes', 'riding', 'bmw', 'harley', 'tony', 'dog', 'rider', 'biker', 'tank', 'piece', 'rear', 'cop', 'kawasaki', 'hey', 'honda', 'motorcycles', 'fault', 'zx', 'shaft', 'moto', 'lock', 'insurance', 'tire', 'drink', 'head']\n",
      "label: 9\n",
      "['baseball', 'year', 'braves', 'games', 'hit', 'alomar', 'runs', 'stadium', 'players', 'team', 'ball', 'phillies', 'pitching', 'cubs', 'mets', 'nl', 'fan', 'jewish', 'game', 'hitter', 'royals', 'league', 'giants', 'pitcher', 'day', 'uniforms', 'teams', 'career', 'sox', 'reds']\n",
      "label: 10\n",
      "['hockey', 'team', 'game', 'nhl', 'season', 'play', 'players', 'cup', 'playoffs', 'espn', 'leafs', 'playoff', 'ice', 'rangers', 'flyers', 'coach', 'pittsburgh', 'detroit', 'puck', 'league', 'toronto', 'devils', 'hawks', 'roger', 'wings', 'bruins', 'teams', 'goals', 'montreal', 'games']\n",
      "label: 11\n",
      "['key', 'encryption', 'clipper', 'nsa', 'government', 'keys', 'privacy', 'chip', 'security', 'des', 'secret', 'crypto', 'algorithm', 'clinton', 'escrow', 'pgp', 'secure', 'voice', 'vesselin', 'rsa', 'cryptography', 'encrypted', 'law', 'eff', 'phone', 'chips', 'bits', 'speech', 'public', 'amendment']\n",
      "label: 12\n",
      "['circuit', 'electronics', 'voltage', 'output', 'ground', '8051', 'radio', 'current', 'wire', 'audio', 'power', 'dial', 'tv', 'circuits', 'radar', 'chip', 'battery', 'electrical', 'input', 'projects', 'low', 'signals', 'ttl', 'copper', '2600', 'build', 'amp', 'detector', 'analog', 'antenna']\n",
      "label: 13\n",
      "['msg', 'doctor', 'disease', 'pain', 'medical', 'treatment', 'cancer', 'patients', 'diet', 'food', 'medicine', 'gordon', 'foods', 'geb', 'effects', 'weight', 'health', 'science', 'banks', 'symptoms', 'syndrome', 'pitt', 'diagnosed', 'physician', 'skepticism', 'dsl', 'chastity', 'n3jxp', 'cadre', 'shameful']\n",
      "label: 14\n",
      "['space', 'moon', 'nasa', 'orbit', 'launch', 'shuttle', 'spacecraft', 'lunar', 'earth', 'funding', 'dc', 'solar', 'flight', 'prize', 'satellite', 'project', 'mars', 'jupiter', 'rockets', 'ssto', 'centaur', 'landing', 'pat', 'sci', 'development', 'film', 'shafer', 'data', 'long', 'orbital']\n",
      "label: 15\n",
      "['god', 'church', 'christians', 'christ', 'christianity', 'jesus', 'christian', 'faith', 'scripture', 'sin', 'resurrection', 'truth', 'bible', 'religion', 'sabbath', 'marriage', 'catholic', 'heaven', 'group', 'hell', 'lord', 'true', 'understanding', 'father', 'easter', 'question', 'spirit', 'people', 'earth', 'life']\n",
      "label: 16\n",
      "['gun', 'weapons', 'guns', 'fbi', 'weapon', 'firearms', 'batf', 'feustel', 'jmd', 'handheld', 'criminals', 'police', 'militia', 'government', 'waco', 'rights', 'raid', 'firearm', 'self', 'com', 'right', 'bd', 'killed', 'nra', 'atf', 'people', 'compound', 'carry', 'electricity', 'davidians']\n",
      "label: 17\n",
      "['israel', 'israeli', 'jews', 'armenians', 'turkish', 'arab', 'armenian', 'turkey', 'arabs', 'palestinian', 'serdar', 'peace', 'turks', 'lebanon', 'armenia', 'said', 'greek', 'holocaust', 'israelis', 'mr', 'jewish', 'adam', 'gaza', 'soldiers', 'nazi', 'adl', 'civilians', 'argic', 'people', 'greeks']\n",
      "label: 18\n",
      "['government', 'tax', 'drugs', 'trial', 'clinton', 'president', 'gay', 'state', 'libertarians', 'health', 'congress', 'jobs', 'taxes', 'men', 'bush', 'homosexual', 'blacks', 'homosexuals', 'people', 'libertarian', 'kids', 'crime', 'care', 'did', 'states', 'legal', 'garrett', 'sexual', 'income', 'money']\n",
      "label: 19\n",
      "['objective', 'jesus', 'god', 'koresh', 'christian', 'morality', 'kent', 'christians', 'values', 'moral', 'children', 'rosicrucian', 'hudson', 'order', 'evidence', 'commandment', 'bible', 'huh', 'jim', 'homosexuality', 'mormons', 'paradise', 'humans', 'word', 'amorc', 'weiss', 'abortion', 'context', 'malcolm', 'agree']\n",
      "Train accuracy 0.9139841688654353\n",
      "Test accuracy 0.7362078200321371\n"
     ]
    }
   ],
   "source": [
    "tNGX_train, tNGX_test, tNGy_train, tNGy_test = train_test_split(twentyng_data_vectors, twentyng_target, test_size=0.33, random_state=42)\n",
    "print(\"Twenty NG data\")\n",
    "print(\"Top 30 features and its F coefficients for Logistic Regression\")\n",
    "logreg = LogisticRegression(penalty='l2', random_state=42)\n",
    "logreg.fit(tNGX_train, tNGy_train)\n",
    "coefficients = logreg.coef_\n",
    "features = vectorizer.get_feature_names()\n",
    "for i in range(len(coefficients)):\n",
    "    top_k_features=np.argsort(-coefficients[i])\n",
    "    features_set = []\n",
    "    print(\"label:\",str(i))\n",
    "    for k in range(30):\n",
    "        features_set.append(features[top_k_features[k]])\n",
    "    print(features_set)\n",
    "y_pred_train =  logreg.predict(tNGX_train)\n",
    "y_pred_test = logreg.predict(tNGX_test)\n",
    "print(\"Train accuracy\",metrics.accuracy_score(tNGy_train, y_pred_train))\n",
    "print(\"Test accuracy\",metrics.accuracy_score(tNGy_test, y_pred_test))"
   ]
  },
  {
   "cell_type": "code",
   "execution_count": 104,
   "metadata": {},
   "outputs": [
    {
     "name": "stdout",
     "output_type": "stream",
     "text": [
      "Twenty NG data\n",
      "Top 30 features for Decision Tree Classifier\n",
      "label: DT classifier:\n",
      "['sale', 'windows', 'god', 'bike', 'encryption', 'space', 'hockey', 'israel', 'car', 'gun', 'armenian', 'team', 'graphics', 'apple', 'mac', 'clipper', 'government', 'gordon', 'motif', 'christians', 'baseball', 'window', 'game', 'doctor', 'thanks', 'people', 'ide', 'church', 'x11r5', 'use']\n",
      " ,Train accuracy 0.9720316622691293\n",
      " ,Test accuracy 0.4833958221746117\n",
      "label: DT max depth = 10:\n",
      "['sale', 'windows', 'bike', 'encryption', 'god', 'space', 'hockey', 'israel', 'car', 'gun', 'monitor', 'openwindows', 'window', 'tells', 'atheism', 'disk', 'cview', 'color', 'christians', 'bus', 'define', 'entire', 'manner', 'exists', 'dos', 'lee', 'shipping', 'king', 'pcx', 'number']\n",
      " ,Train accuracy 0.24459102902374671\n",
      " ,Test accuracy 0.22656668452062131\n",
      "label: DT min leafs = 2:\n",
      "['sale', 'god', 'windows', 'bike', 'encryption', 'space', 'hockey', 'israel', 'car', 'gun', 'armenian', 'team', 'graphics', 'apple', 'mac', 'clipper', 'gordon', 'window', 'motif', 'like', 'christians', 'use', 'thanks', 'baseball', 'government', 'people', 'just', 'doctor', 'ide', 'game']\n",
      " ,Train accuracy 0.8424802110817942\n",
      " ,Test accuracy 0.47455811462238884\n",
      "label: DT min splits = 3:\n",
      "['sale', 'windows', 'god', 'bike', 'encryption', 'space', 'hockey', 'israel', 'car', 'gun', 'armenian', 'team', 'graphics', 'apple', 'mac', 'clipper', 'gordon', 'government', 'motif', 'christians', 'baseball', 'window', 'just', 'game', 'doctor', 'new', 'ide', 'like', 'x11r5', 'people']\n",
      " ,Train accuracy 0.9411609498680739\n",
      " ,Test accuracy 0.4724156400642742\n"
     ]
    }
   ],
   "source": [
    "\n",
    "tNGX_train, tNGX_test, tNGy_train, tNGy_test = train_test_split(twentyng_data_vectors, twentyng_target, test_size=0.33, random_state=42)\n",
    "print(\"Twenty NG data\")\n",
    "print(\"Top 30 features for Decision Tree Classifier\")\n",
    "models = [DecisionTreeClassifier(random_state=42), \n",
    "          DecisionTreeClassifier(random_state=42, max_depth=10), \n",
    "          DecisionTreeClassifier(random_state=42, min_samples_leaf=2), \n",
    "          DecisionTreeClassifier(random_state=42, min_samples_split=3)]\n",
    "for i in range(len(models)):\n",
    "    dectree = models[i]\n",
    "    \n",
    "    dectree.fit(tNGX_train, tNGy_train)\n",
    "    coefficients = dectree.feature_importances_\n",
    "    features = vectorizer.get_feature_names()\n",
    "    \n",
    "    top_k_features=np.argsort(-coefficients)\n",
    "    if(i == 0): print_key = \"DT classifier:\"\n",
    "    elif(i == 1): print_key = \"DT max depth = 10:\"\n",
    "    elif(i == 2): print_key = \"DT min leafs = 2:\"\n",
    "    elif(i == 3): print_key = \"DT min splits = 3:\"\n",
    "    features_set = []\n",
    "    print(\"label:\",print_key)\n",
    "    for k in range(30):\n",
    "        features_set.append(features[top_k_features[k]])\n",
    "    print(features_set)\n",
    "    y_pred_train =  dectree.predict(tNGX_train)\n",
    "    y_pred_test = dectree.predict(tNGX_test)\n",
    "    print_key = ''\n",
    "    \n",
    "    print(print_key,\",Train accuracy\",metrics.accuracy_score(tNGy_train, y_pred_train))\n",
    "    print(print_key,\",Test accuracy\",metrics.accuracy_score(tNGy_test, y_pred_test))\n"
   ]
  },
  {
   "cell_type": "code",
   "execution_count": null,
   "metadata": {},
   "outputs": [],
   "source": []
  }
 ],
 "metadata": {
  "kernelspec": {
   "display_name": "Python 3",
   "language": "python",
   "name": "python3"
  },
  "language_info": {
   "codemirror_mode": {
    "name": "ipython",
    "version": 3
   },
   "file_extension": ".py",
   "mimetype": "text/x-python",
   "name": "python",
   "nbconvert_exporter": "python",
   "pygments_lexer": "ipython3",
   "version": "3.6.4"
  }
 },
 "nbformat": 4,
 "nbformat_minor": 2
}
