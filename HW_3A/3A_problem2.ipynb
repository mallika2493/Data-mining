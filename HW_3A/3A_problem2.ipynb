{
 "cells": [
  {
   "cell_type": "code",
   "execution_count": 23,
   "metadata": {},
   "outputs": [],
   "source": [
    "from sklearn.decomposition import PCA\n",
    "from sklearn.datasets import fetch_20newsgroups\n",
    "from sklearn.datasets import fetch_mldata\n",
    "from sklearn.feature_extraction.text import TfidfVectorizer\n",
    "from sklearn.metrics.pairwise import euclidean_distances, cosine_distances\n",
    "from sklearn.model_selection import train_test_split\n",
    "from sklearn.linear_model import LogisticRegression\n",
    "from sklearn.tree import DecisionTreeClassifier\n",
    "import numpy as np\n",
    "from sklearn import metrics\n",
    "import pandas as pd"
   ]
  },
  {
   "cell_type": "code",
   "execution_count": 26,
   "metadata": {},
   "outputs": [],
   "source": [
    "def Logistic_Regression(X_train,X_test,y_train,y_test,d):\n",
    "    \n",
    "    logreg = LogisticRegression()\n",
    "    pca = PCA(n_components=d)\n",
    "    X = pca.fit_transform(X_train)\n",
    "    logreg.fit(X,y_train)\n",
    "\n",
    "    # transform new data using already fitted pca\n",
    "    # (don't re-fit the pca)\n",
    "    newdata_transformed = pca.transform(X_test)\n",
    "\n",
    "    # predict labels using the trained classifier\n",
    "\n",
    "    y_pred = logreg.predict(newdata_transformed)\n",
    "    print(\"LR accuracy with pca d = %d : %f\" % (d,metrics.accuracy_score(y_test, y_pred)))"
   ]
  },
  {
   "cell_type": "code",
   "execution_count": 27,
   "metadata": {},
   "outputs": [],
   "source": [
    "def Decision_Trees(X_train,X_test,y_train,y_test,d):\n",
    "    dectree = DecisionTreeClassifier(random_state=42)\n",
    "    \n",
    "    pca = PCA(n_components=d)\n",
    "    X = pca.fit_transform(X_train)\n",
    "    dectree.fit(X,y_train)\n",
    "\n",
    "    # transform new data using already fitted pca\n",
    "    # (don't re-fit the pca)\n",
    "    newdata_transformed = pca.transform(X_test)\n",
    "\n",
    "    # predict labels using the trained classifier\n",
    "\n",
    "    y_pred = dectree.predict(newdata_transformed)\n",
    "    print(\"DT accuracy with pca d = %d : %f\" % (d,metrics.accuracy_score(y_test, y_pred)))"
   ]
  },
  {
   "cell_type": "code",
   "execution_count": 28,
   "metadata": {},
   "outputs": [],
   "source": [
    "mnist = fetch_mldata('MNIST original')\n",
    "normalized_dataset = np.divide(mnist.data,255)\n",
    "mnist_data = normalized_dataset\n",
    "mnist_target_data = mnist.target\n"
   ]
  },
  {
   "cell_type": "code",
   "execution_count": 30,
   "metadata": {},
   "outputs": [
    {
     "name": "stdout",
     "output_type": "stream",
     "text": [
      "MNIST logistic regression with PCA d = 5\n",
      "LR accuracy without PCA:0.9189\n",
      "LR accuracy with pca d = 5 : 0.648571\n"
     ]
    }
   ],
   "source": [
    "print(\"MNIST logistic regression with PCA d = 5\")\n",
    "print(\"LR accuracy without PCA:0.9189\")\n",
    "mnistX_train, mnistX_test, mnisty_train, mnisty_test = train_test_split(mnist_data, mnist_target_data, test_size=0.33, random_state=42)\n",
    "Logistic_Regression(mnistX_train, mnistX_test, mnisty_train, mnisty_test,5)\n"
   ]
  },
  {
   "cell_type": "code",
   "execution_count": 17,
   "metadata": {},
   "outputs": [
    {
     "name": "stdout",
     "output_type": "stream",
     "text": [
      "MNIST logistic regression with PCA d = 20\n",
      "accuracy without PCA:0.9189\n",
      "accuracy with pca d = 20 : 0.863723\n"
     ]
    }
   ],
   "source": [
    "print(\"MNIST logistic regression with PCA d = 20\")\n",
    "print(\"LR accuracy without PCA:0.9189\")\n",
    "mnistX_train, mnistX_test, mnisty_train, mnisty_test = train_test_split(mnist_data, mnist_target_data, test_size=0.33, random_state=42)\n",
    "Logistic_Regression(mnistX_train, mnistX_test, mnisty_train, mnisty_test,20)\n",
    "\n"
   ]
  },
  {
   "cell_type": "code",
   "execution_count": 31,
   "metadata": {},
   "outputs": [
    {
     "name": "stdout",
     "output_type": "stream",
     "text": [
      "MNIST Decision Trees with PCA d = 5\n",
      "DT accuracy without PCA:0.9189\n",
      "DT accuracy with pca d = 5 : 0.663377\n"
     ]
    }
   ],
   "source": [
    "print(\"MNIST Decision Trees with PCA d = 5\")\n",
    "print(\"DT accuracy without PCA:0.9189\")\n",
    "Decision_Trees(mnistX_train, mnistX_test, mnisty_train, mnisty_test,5)"
   ]
  },
  {
   "cell_type": "code",
   "execution_count": 32,
   "metadata": {},
   "outputs": [
    {
     "name": "stdout",
     "output_type": "stream",
     "text": [
      "MNIST Decision Trees with PCA d = 20\n",
      "DT accuracy without PCA:0.868\n",
      "DT accuracy with pca d = 20 : 0.841602\n"
     ]
    }
   ],
   "source": [
    "print(\"MNIST Decision Trees with PCA d = 20\")\n",
    "print(\"DT accuracy without PCA:0.868\")\n",
    "Decision_Trees(mnistX_train, mnistX_test, mnisty_train, mnisty_test,20)"
   ]
  },
  {
   "cell_type": "code",
   "execution_count": 33,
   "metadata": {},
   "outputs": [],
   "source": [
    "#load spamdata\n",
    "X = pd.read_csv('spambase/spambase.data', header=None)\n",
    "spam_X, spam_y = X.iloc[:,:X.shape[1]-1], X.iloc[:,-1]"
   ]
  },
  {
   "cell_type": "code",
   "execution_count": 34,
   "metadata": {},
   "outputs": [
    {
     "name": "stdout",
     "output_type": "stream",
     "text": [
      "Spambase data with PCA\n",
      "LR accuracy without PCA:0.930\n",
      "LR accuracy with pca d = 5 : 0.784068\n"
     ]
    }
   ],
   "source": [
    "spamX_train, spamX_test, spamy_train, spamy_test = train_test_split(spam_X, spam_y, test_size=0.33, random_state=42)\n",
    "print(\"Spambase data with PCA\")\n",
    "print(\"LR accuracy without PCA:0.930\")\n",
    "Logistic_Regression(spamX_train, spamX_test, spamy_train, spamy_test,5)"
   ]
  },
  {
   "cell_type": "code",
   "execution_count": 37,
   "metadata": {},
   "outputs": [
    {
     "name": "stdout",
     "output_type": "stream",
     "text": [
      "LR accuracy with pca d = 1 : 0.639895\n",
      "LR accuracy with pca d = 2 : 0.718894\n",
      "LR accuracy with pca d = 3 : 0.718236\n",
      "LR accuracy with pca d = 4 : 0.777485\n",
      "LR accuracy with pca d = 5 : 0.784068\n",
      "LR accuracy with pca d = 6 : 0.826860\n",
      "LR accuracy with pca d = 7 : 0.849243\n",
      "LR accuracy with pca d = 8 : 0.845293\n",
      "LR accuracy with pca d = 9 : 0.850560\n",
      "LR accuracy with pca d = 10 : 0.855168\n",
      "LR accuracy with pca d = 11 : 0.854510\n",
      "LR accuracy with pca d = 12 : 0.867676\n",
      "LR accuracy with pca d = 13 : 0.890718\n",
      "LR accuracy with pca d = 14 : 0.895326\n",
      "LR accuracy with pca d = 15 : 0.896643\n",
      "LR accuracy with pca d = 16 : 0.897959\n",
      "LR accuracy with pca d = 17 : 0.897959\n",
      "LR accuracy with pca d = 18 : 0.902567\n",
      "LR accuracy with pca d = 19 : 0.901909\n",
      "LR accuracy with pca d = 20 : 0.908492\n",
      "LR accuracy with pca d = 21 : 0.905859\n",
      "LR accuracy with pca d = 22 : 0.907176\n",
      "LR accuracy with pca d = 23 : 0.905859\n",
      "LR accuracy with pca d = 24 : 0.907834\n"
     ]
    }
   ],
   "source": [
    "for i in range(1,25):\n",
    "    Logistic_Regression(spamX_train, spamX_test, spamy_train, spamy_test,i)"
   ]
  },
  {
   "cell_type": "code",
   "execution_count": null,
   "metadata": {},
   "outputs": [],
   "source": [
    "## with d = 20, the accuracies are comparable without PCA for Logistic regression"
   ]
  },
  {
   "cell_type": "code",
   "execution_count": 43,
   "metadata": {},
   "outputs": [
    {
     "name": "stdout",
     "output_type": "stream",
     "text": [
      "Spambase data with PCA\n",
      "DT accuracy without PCA:0.9117\n",
      "DT accuracy with pca d = 1 : 0.677419\n",
      "DT accuracy with pca d = 2 : 0.731402\n",
      "DT accuracy with pca d = 3 : 0.753127\n",
      "DT accuracy with pca d = 4 : 0.815010\n",
      "DT accuracy with pca d = 5 : 0.845951\n",
      "DT accuracy with pca d = 6 : 0.859776\n",
      "DT accuracy with pca d = 7 : 0.847926\n",
      "DT accuracy with pca d = 8 : 0.854510\n",
      "DT accuracy with pca d = 9 : 0.846610\n",
      "DT accuracy with pca d = 10 : 0.851218\n",
      "DT accuracy with pca d = 11 : 0.839368\n",
      "DT accuracy with pca d = 12 : 0.867676\n",
      "DT accuracy with pca d = 13 : 0.876234\n",
      "DT accuracy with pca d = 14 : 0.870968\n",
      "DT accuracy with pca d = 15 : 0.870968\n",
      "DT accuracy with pca d = 16 : 0.873601\n",
      "DT accuracy with pca d = 17 : 0.870968\n",
      "DT accuracy with pca d = 18 : 0.877551\n",
      "DT accuracy with pca d = 19 : 0.863726\n",
      "DT accuracy with pca d = 20 : 0.857143\n",
      "DT accuracy with pca d = 21 : 0.869651\n",
      "DT accuracy with pca d = 22 : 0.855826\n",
      "DT accuracy with pca d = 23 : 0.859776\n",
      "DT accuracy with pca d = 24 : 0.859776\n",
      "DT accuracy with pca d = 25 : 0.859776\n",
      "DT accuracy with pca d = 26 : 0.861751\n",
      "DT accuracy with pca d = 27 : 0.867018\n",
      "DT accuracy with pca d = 28 : 0.870309\n",
      "DT accuracy with pca d = 29 : 0.870968\n",
      "DT accuracy with pca d = 30 : 0.861751\n",
      "DT accuracy with pca d = 31 : 0.861093\n",
      "DT accuracy with pca d = 32 : 0.859118\n",
      "DT accuracy with pca d = 33 : 0.867018\n",
      "DT accuracy with pca d = 34 : 0.853193\n",
      "DT accuracy with pca d = 35 : 0.870309\n",
      "DT accuracy with pca d = 36 : 0.869651\n",
      "DT accuracy with pca d = 37 : 0.875576\n",
      "DT accuracy with pca d = 38 : 0.870968\n",
      "DT accuracy with pca d = 39 : 0.871626\n",
      "DT accuracy with pca d = 40 : 0.870968\n",
      "DT accuracy with pca d = 41 : 0.870309\n",
      "DT accuracy with pca d = 42 : 0.864384\n",
      "DT accuracy with pca d = 43 : 0.863068\n",
      "DT accuracy with pca d = 44 : 0.867018\n",
      "DT accuracy with pca d = 45 : 0.862409\n",
      "DT accuracy with pca d = 46 : 0.855826\n",
      "DT accuracy with pca d = 47 : 0.861751\n",
      "DT accuracy with pca d = 48 : 0.866359\n",
      "DT accuracy with pca d = 49 : 0.872284\n",
      "DT accuracy with pca d = 50 : 0.865701\n",
      "DT accuracy with pca d = 51 : 0.858460\n",
      "DT accuracy with pca d = 52 : 0.867018\n",
      "DT accuracy with pca d = 53 : 0.863068\n",
      "DT accuracy with pca d = 54 : 0.867018\n",
      "DT accuracy with pca d = 55 : 0.868993\n",
      "DT accuracy with pca d = 56 : 0.859118\n",
      "DT accuracy with pca d = 57 : 0.860434\n"
     ]
    }
   ],
   "source": [
    "print(\"Spambase data with PCA\")\n",
    "print(\"DT accuracy without PCA:0.9117\")\n",
    "for i in range(1,58):\n",
    "    Decision_Trees(spamX_train, spamX_test, spamy_train, spamy_test,i)"
   ]
  },
  {
   "cell_type": "code",
   "execution_count": null,
   "metadata": {},
   "outputs": [],
   "source": [
    "## the results with d in [13,18] show highest accuracy not as close to the accuracy for decision trees without PCA"
   ]
  }
 ],
 "metadata": {
  "kernelspec": {
   "display_name": "Python 3",
   "language": "python",
   "name": "python3"
  },
  "language_info": {
   "codemirror_mode": {
    "name": "ipython",
    "version": 3
   },
   "file_extension": ".py",
   "mimetype": "text/x-python",
   "name": "python",
   "nbconvert_exporter": "python",
   "pygments_lexer": "ipython3",
   "version": "3.6.4"
  }
 },
 "nbformat": 4,
 "nbformat_minor": 2
}
