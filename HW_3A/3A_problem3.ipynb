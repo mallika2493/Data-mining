{
 "cells": [
  {
   "cell_type": "code",
   "execution_count": 4,
   "metadata": {},
   "outputs": [],
   "source": [
    "from sklearn.decomposition import PCA\n",
    "from sklearn.datasets import fetch_20newsgroups\n",
    "from sklearn.datasets import fetch_mldata\n",
    "from sklearn.feature_extraction.text import TfidfVectorizer\n",
    "from sklearn.metrics.pairwise import euclidean_distances, cosine_distances\n",
    "from sklearn.model_selection import train_test_split\n",
    "from sklearn.linear_model import LogisticRegression\n",
    "from sklearn.tree import DecisionTreeClassifier\n",
    "import numpy as np\n",
    "from sklearn import metrics\n",
    "import pandas as pd"
   ]
  },
  {
   "cell_type": "code",
   "execution_count": 5,
   "metadata": {},
   "outputs": [],
   "source": [
    "mnist = fetch_mldata('MNIST original')\n",
    "normalized_dataset = np.divide(mnist.data,255)\n",
    "mnist_data = normalized_dataset\n",
    "mnist_target_data = mnist.target\n"
   ]
  },
  {
   "cell_type": "code",
   "execution_count": 20,
   "metadata": {},
   "outputs": [],
   "source": [
    "def PCA(data,d):\n",
    "    mean_vec = np.mean(data, axis=0)\n",
    "    cov_mat = (data - mean_vec).T.dot((data - mean_vec)) / (data.shape[0]-1)\n",
    "    \n",
    "    eig_vals, eig_vecs = np.linalg.eig(cov_mat)\n",
    "    eig_pairs = [(np.abs(eig_vals[i]), eig_vecs[:,i]) for i in range(len(eig_vals))]\n",
    "    eig_pairs.sort(key=lambda x: x[0], reverse=True)\n",
    "    l = []\n",
    "    for i in range(1,d):\n",
    "        l.append(eig_pairs[i][1].reshape(784,1))\n",
    "    matrix_w = np.hstack(l)\n",
    "    return matrix_w\n",
    "    "
   ]
  },
  {
   "cell_type": "code",
   "execution_count": 21,
   "metadata": {},
   "outputs": [],
   "source": [
    "def Logistic_Regression(X_train,X_test,y_train,y_test,d):\n",
    "    \n",
    "    logreg = LogisticRegression()\n",
    "     \n",
    "    matrix_w = PCA(X_train,d)\n",
    "    X = X_train.dot(matrix_w)\n",
    "    \n",
    "    logreg.fit(X,y_train)\n",
    "\n",
    "    # transform new data using already fitted pca\n",
    "    # (don't re-fit the pca)\n",
    "    newdata_transformed = X_test.dot(matrix_w)\n",
    "\n",
    "    # predict labels using the trained classifier\n",
    "\n",
    "    y_pred = logreg.predict(newdata_transformed)\n",
    "    print(\"LR accuracy with own PCA implementation d = %d : %f\" % (d,metrics.accuracy_score(y_test, y_pred)))"
   ]
  },
  {
   "cell_type": "code",
   "execution_count": 22,
   "metadata": {},
   "outputs": [],
   "source": [
    "def Decision_Trees(X_train,X_test,y_train,y_test,d):\n",
    "    dectree = DecisionTreeClassifier(random_state=42)\n",
    "    \n",
    "    matrix_w = PCA(X_train,d)\n",
    "    X = X_train.dot(matrix_w)\n",
    "    dectree.fit(X,y_train)\n",
    "\n",
    "    # transform new data using already fitted pca\n",
    "    # (don't re-fit the pca)\n",
    "    newdata_transformed = X_test.dot(matrix_w)\n",
    "\n",
    "    # predict labels using the trained classifier\n",
    "\n",
    "    y_pred = dectree.predict(newdata_transformed)\n",
    "    print(\"DT accuracy with own PCA implementation d = %d : %f\" % (d,metrics.accuracy_score(y_test, y_pred)))"
   ]
  },
  {
   "cell_type": "code",
   "execution_count": 23,
   "metadata": {},
   "outputs": [
    {
     "name": "stdout",
     "output_type": "stream",
     "text": [
      "MNIST logistic regression with PCA d = 5\n",
      "LR accuracy without PCA:0.9189\n",
      "LR accuracy with library PCA:0.648571\n"
     ]
    },
    {
     "name": "stderr",
     "output_type": "stream",
     "text": [
      "/usr/local/lib/python3.6/site-packages/sklearn/utils/validation.py:433: ComplexWarning: Casting complex values to real discards the imaginary part\n",
      "  array = np.array(array, dtype=dtype, order=order, copy=copy)\n"
     ]
    },
    {
     "name": "stdout",
     "output_type": "stream",
     "text": [
      "LR accuracy with own PCA implementation d = 5 : 0.566104\n"
     ]
    }
   ],
   "source": [
    "print(\"MNIST logistic regression with PCA d = 5\")\n",
    "print(\"LR accuracy without PCA:0.9189\")\n",
    "print(\"LR accuracy with library PCA:0.648571\")\n",
    "mnistX_train, mnistX_test, mnisty_train, mnisty_test = train_test_split(mnist_data, mnist_target_data, test_size=0.33, random_state=42)\n",
    "Logistic_Regression(mnistX_train, mnistX_test, mnisty_train, mnisty_test,5)"
   ]
  },
  {
   "cell_type": "code",
   "execution_count": 24,
   "metadata": {},
   "outputs": [
    {
     "name": "stdout",
     "output_type": "stream",
     "text": [
      "MNIST logistic regression with PCA d = 20\n",
      "LR accuracy without PCA:0.9189\n",
      "LR accuracy with library PCA:0.8637\n"
     ]
    },
    {
     "name": "stderr",
     "output_type": "stream",
     "text": [
      "/usr/local/lib/python3.6/site-packages/sklearn/utils/validation.py:433: ComplexWarning: Casting complex values to real discards the imaginary part\n",
      "  array = np.array(array, dtype=dtype, order=order, copy=copy)\n"
     ]
    },
    {
     "name": "stdout",
     "output_type": "stream",
     "text": [
      "LR accuracy with own PCA implementation d = 20 : 0.821558\n"
     ]
    }
   ],
   "source": [
    "print(\"MNIST logistic regression with PCA d = 20\")\n",
    "print(\"LR accuracy without PCA:0.9189\")\n",
    "print(\"LR accuracy with library PCA:0.8637\")\n",
    "mnistX_train, mnistX_test, mnisty_train, mnisty_test = train_test_split(mnist_data, mnist_target_data, test_size=0.33, random_state=42)\n",
    "Logistic_Regression(mnistX_train, mnistX_test, mnisty_train, mnisty_test,20)"
   ]
  },
  {
   "cell_type": "code",
   "execution_count": 25,
   "metadata": {},
   "outputs": [
    {
     "name": "stdout",
     "output_type": "stream",
     "text": [
      "MNIST Decision Trees with PCA d = 5\n",
      "DT accuracy without PCA: 0.9189\n",
      "DT accuracy with library PCA: 0.663377\n"
     ]
    },
    {
     "name": "stderr",
     "output_type": "stream",
     "text": [
      "/usr/local/lib/python3.6/site-packages/sklearn/utils/validation.py:433: ComplexWarning: Casting complex values to real discards the imaginary part\n",
      "  array = np.array(array, dtype=dtype, order=order, copy=copy)\n"
     ]
    },
    {
     "name": "stdout",
     "output_type": "stream",
     "text": [
      "DT accuracy with own PCA implementation d = 5 : 0.588052\n"
     ]
    }
   ],
   "source": [
    "print(\"MNIST Decision Trees with PCA d = 5\")\n",
    "print(\"DT accuracy without PCA: 0.9189\")\n",
    "print(\"DT accuracy with library PCA: 0.663377\")\n",
    "Decision_Trees(mnistX_train, mnistX_test, mnisty_train, mnisty_test,5)"
   ]
  },
  {
   "cell_type": "code",
   "execution_count": 26,
   "metadata": {},
   "outputs": [
    {
     "name": "stdout",
     "output_type": "stream",
     "text": [
      "MNIST Decision Trees with PCA d = 20\n",
      "DT accuracy without PCA: 0.868\n",
      "DT accuracy with library PCA: 0.841602\n"
     ]
    },
    {
     "name": "stderr",
     "output_type": "stream",
     "text": [
      "/usr/local/lib/python3.6/site-packages/sklearn/utils/validation.py:433: ComplexWarning: Casting complex values to real discards the imaginary part\n",
      "  array = np.array(array, dtype=dtype, order=order, copy=copy)\n"
     ]
    },
    {
     "name": "stdout",
     "output_type": "stream",
     "text": [
      "DT accuracy with own PCA implementation d = 20 : 0.833680\n"
     ]
    }
   ],
   "source": [
    "print(\"MNIST Decision Trees with PCA d = 20\")\n",
    "print(\"DT accuracy without PCA: 0.868\")\n",
    "print(\"DT accuracy with library PCA: 0.841602\")\n",
    "Decision_Trees(mnistX_train, mnistX_test, mnisty_train, mnisty_test,20)"
   ]
  },
  {
   "cell_type": "code",
   "execution_count": null,
   "metadata": {},
   "outputs": [],
   "source": []
  }
 ],
 "metadata": {
  "kernelspec": {
   "display_name": "Python 3",
   "language": "python",
   "name": "python3"
  },
  "language_info": {
   "codemirror_mode": {
    "name": "ipython",
    "version": 3
   },
   "file_extension": ".py",
   "mimetype": "text/x-python",
   "name": "python",
   "nbconvert_exporter": "python",
   "pygments_lexer": "ipython3",
   "version": "3.6.4"
  }
 },
 "nbformat": 4,
 "nbformat_minor": 2
}
