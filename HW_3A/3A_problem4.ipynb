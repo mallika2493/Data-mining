{
 "cells": [
  {
   "cell_type": "code",
   "execution_count": 6,
   "metadata": {},
   "outputs": [],
   "source": [
    "from sklearn.feature_selection import SelectKBest\n",
    "from sklearn.feature_selection import chi2\n",
    "from sklearn.feature_selection import mutual_info_classif\n",
    "import numpy as np\n",
    "from sklearn.datasets import fetch_20newsgroups\n",
    "from collections import Counter,OrderedDict\n",
    "import math\n",
    "import time\n",
    "from sklearn.linear_model import LogisticRegression\n",
    "from sklearn.tree import DecisionTreeClassifier\n",
    "from sklearn.model_selection import train_test_split\n",
    "import pandas as pd\n",
    "from sklearn.datasets import fetch_20newsgroups\n",
    "from sklearn.feature_extraction.text import TfidfVectorizer\n",
    "from sklearn import metrics"
   ]
  },
  {
   "cell_type": "code",
   "execution_count": 7,
   "metadata": {},
   "outputs": [],
   "source": [
    "def Logistic_Regression(X_train,X_test,y_train,y_test):\n",
    "    logreg = LogisticRegression()\n",
    "    logreg.fit(X_train, y_train)\n",
    "    y_pred_train = logreg.predict(X_train)\n",
    "    y_pred = logreg.predict(X_test)\n",
    "    print(\"train accuracy\",metrics.accuracy_score(y_train, y_pred_train))\n",
    "    print(\"test accuracy\",metrics.accuracy_score(y_test, y_pred))"
   ]
  },
  {
   "cell_type": "code",
   "execution_count": 8,
   "metadata": {},
   "outputs": [],
   "source": [
    "def Decision_Trees(X_train,X_test,y_train,y_test):\n",
    "    dectree = DecisionTreeClassifier(random_state=42)\n",
    "    dectree.fit(X_train, y_train)\n",
    "    \n",
    "    y_pred = dectree.predict(X_test)\n",
    "    print(\"accuracy\",metrics.accuracy_score(y_test, y_pred))"
   ]
  },
  {
   "cell_type": "code",
   "execution_count": 9,
   "metadata": {},
   "outputs": [],
   "source": [
    "def perform_classification(score_func,d,classifier):\n",
    "    \n",
    "    \n",
    "    tNG_train_data = fetch_20newsgroups(subset='train',remove=('headers','footers','quotes'))\n",
    "    tNG_test_data = fetch_20newsgroups(subset='test',remove=('headers','footers','quotes'))\n",
    "    y_train = tNG_train_data.target\n",
    "    y_test = tNG_test_data.target\n",
    "    \n",
    "    vectorizer = TfidfVectorizer(stop_words='english',max_df=0.95,min_df=2)\n",
    "    tNG_train = vectorizer.fit_transform(tNG_train_data.data)\n",
    "    \n",
    "    model = SelectKBest(score_func, k=d)\n",
    "    tNG_model = model.fit(tNG_train, y_train)\n",
    "    \n",
    "    scores = tNG_model.scores_\n",
    "    feature_indices = np.argsort(-scores)\n",
    "    all_features = vectorizer.get_feature_names()\n",
    "    k_features = []\n",
    "    for i in range(d):\n",
    "        k_features.append(all_features[feature_indices[i]])\n",
    "    \n",
    "    vectorizer_train = TfidfVectorizer(stop_words='english',max_df=0.95,min_df=2, vocabulary=k_features)\n",
    "    reduced_tNG_train = vectorizer_train.fit_transform(tNG_train_data.data)\n",
    "\n",
    "    vectorizer_test = TfidfVectorizer(stop_words='english',max_df=0.95,min_df=2,vocabulary=k_features)\n",
    "    reduced_tNG_test = vectorizer_test.fit_transform(tNG_test_data.data)\n",
    "    if classifier == \"LR\":\n",
    "        Logistic_Regression(reduced_tNG_train,reduced_tNG_test,y_train,y_test)\n",
    "    elif classifier == \"DT\":\n",
    "        Decision_Trees(reduced_tNG_train,reduced_tNG_test,y_train,y_test)\n",
    "    \n",
    "    "
   ]
  },
  {
   "cell_type": "code",
   "execution_count": 10,
   "metadata": {},
   "outputs": [
    {
     "name": "stdout",
     "output_type": "stream",
     "text": [
      "LR for chi2\n",
      "accuracy from LR PB1:0.736\n",
      "train accuracy 0.556655471097755\n",
      "test accuracy 0.5035847052575677\n"
     ]
    }
   ],
   "source": [
    "print(\"LR for chi2\")\n",
    "print(\"accuracy from LR PB1:0.736\")\n",
    "perform_classification(chi2,200,\"LR\")"
   ]
  },
  {
   "cell_type": "code",
   "execution_count": 6,
   "metadata": {},
   "outputs": [
    {
     "name": "stdout",
     "output_type": "stream",
     "text": [
      "DT for chi2\n",
      "accuracy from DT PB1:0.48\n",
      "accuracy 0.4515400955921402\n"
     ]
    }
   ],
   "source": [
    "print(\"DT for chi2\")\n",
    "print(\"accuracy from DT PB1:0.48\")\n",
    "perform_classification(chi2,200,\"DT\")"
   ]
  },
  {
   "cell_type": "code",
   "execution_count": 7,
   "metadata": {},
   "outputs": [
    {
     "name": "stdout",
     "output_type": "stream",
     "text": [
      "LR for mutual information\n",
      "accuracy from LR PB1:0.736\n",
      "accuracy 0.2950079660116835\n"
     ]
    }
   ],
   "source": [
    "print(\"LR for mutual information\")\n",
    "print(\"accuracy from LR PB1:0.736\")\n",
    "perform_classification(mutual_info_classif,200,\"LR\")"
   ]
  },
  {
   "cell_type": "code",
   "execution_count": 8,
   "metadata": {},
   "outputs": [
    {
     "name": "stdout",
     "output_type": "stream",
     "text": [
      "DT for mutual information\n",
      "accuracy from DT PB1:0.48\n",
      "accuracy 0.19822092405735528\n"
     ]
    }
   ],
   "source": [
    "print(\"DT for mutual information\")\n",
    "print(\"accuracy from DT PB1:0.48\")\n",
    "perform_classification(mutual_info_classif,200,\"DT\")"
   ]
  },
  {
   "cell_type": "code",
   "execution_count": null,
   "metadata": {},
   "outputs": [],
   "source": []
  }
 ],
 "metadata": {
  "kernelspec": {
   "display_name": "Python 3",
   "language": "python",
   "name": "python3"
  },
  "language_info": {
   "codemirror_mode": {
    "name": "ipython",
    "version": 3
   },
   "file_extension": ".py",
   "mimetype": "text/x-python",
   "name": "python",
   "nbconvert_exporter": "python",
   "pygments_lexer": "ipython3",
   "version": "3.6.4"
  }
 },
 "nbformat": 4,
 "nbformat_minor": 2
}
